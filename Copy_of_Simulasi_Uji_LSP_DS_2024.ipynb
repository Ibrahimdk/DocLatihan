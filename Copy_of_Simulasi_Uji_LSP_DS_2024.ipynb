{
  "cells": [
    {
      "cell_type": "markdown",
      "metadata": {
        "id": "VzTSUOlDj6pr"
      },
      "source": [
        "### **Dataset Simulasi Uji LSP Data Science UDINUS 2024 (Winconsin Breast Cancer)**: [https://bit.ly/dataset-simulasi-lsp-udinus-2024](https://bit.ly/dataset-simulasi-lsp-udinus-2024)"
      ]
    },
    {
      "cell_type": "markdown",
      "metadata": {
        "id": "dyRA727BejDK"
      },
      "source": [
        "### <b>Daftar Isi</b>\n",
        "* [1) Mengumpulkan Data](#h1)\n",
        "* [2) Menelaah Data](#h2)\n",
        "* [3) Memvalidasi Data](#h3)\n",
        "* [4) Menetukan Object Data](#h4)\n",
        "* [5) Membersihkan Data](#h5)\n",
        "* [6) Mengkonstruksi Data](#h6)\n",
        "* [7) Menentukan Label Data](#h7)\n",
        "* [8) Membangung Model](#h8)\n",
        "* [9) Mengevaluasi Hasil Pemodelan](#h9)\n",
        "* [10) Optimasi Model Klasifikasi](#h10)"
      ]
    },
    {
      "cell_type": "markdown",
      "metadata": {
        "id": "-hJItCj9eah6"
      },
      "source": [
        "## <b>1) Mengumpulkan Data</b> <a class=\"anchor\" id=\"h1\"></a>"
      ]
    },
    {
      "cell_type": "code",
      "execution_count": 1,
      "metadata": {
        "id": "GYqramJ0JmD2"
      },
      "outputs": [],
      "source": [
        "# Load library yang diperlukan\n",
        "import pandas as pd"
      ]
    },
    {
      "cell_type": "markdown",
      "metadata": {
        "id": "CAajwBgMj6p1"
      },
      "source": [
        "<h4>⬇ <b style=\"color:orange;\">Instruksi</b>: Ubah \"<b style=\"color:yellow;\">[fix_me]</b>\" dengan code yang benar!</h4>"
      ]
    },
    {
      "cell_type": "code",
      "execution_count": 4,
      "metadata": {
        "id": "1GGB_j_0JpSV",
        "colab": {
          "base_uri": "https://localhost:8080/",
          "height": 423
        },
        "outputId": "cf61c3ae-44b4-4409-a0b4-feee8c23c738"
      },
      "outputs": [
        {
          "output_type": "execute_result",
          "data": {
            "text/plain": [
              "          0   1   2   3   4   5     6   7   8   9   10\n",
              "0    1167439   2   3   4   4   2   5.0   2   5   1   4\n",
              "1    1172152  10   3   3  10   2  10.0   7   3   3   4\n",
              "2     877943   3  10   3  10   6  10.0   5   1   4   4\n",
              "3    1166654  10   3   5   1  10   5.0   3  10   2   4\n",
              "4    1054593  10   5   5   3   6   7.0   7  10   1   4\n",
              "..       ...  ..  ..  ..  ..  ..   ...  ..  ..  ..  ..\n",
              "254  1296593   7   5   9   9  10   NaN  10   8   2   4\n",
              "255   145447   8   4   4   1   2   9.0   3   3   1   4\n",
              "256  1180194   9  10   6   2   3   4.0   1  10   5   4\n",
              "257   659642  10   8   4   4   4  10.0   3  10   4   4\n",
              "258  1100524   6  10  10   2   8  10.0   7   3   3   4\n",
              "\n",
              "[259 rows x 11 columns]"
            ],
            "text/html": [
              "\n",
              "  <div id=\"df-7337d962-9d80-4758-902b-30a1f0dd90f9\" class=\"colab-df-container\">\n",
              "    <div>\n",
              "<style scoped>\n",
              "    .dataframe tbody tr th:only-of-type {\n",
              "        vertical-align: middle;\n",
              "    }\n",
              "\n",
              "    .dataframe tbody tr th {\n",
              "        vertical-align: top;\n",
              "    }\n",
              "\n",
              "    .dataframe thead th {\n",
              "        text-align: right;\n",
              "    }\n",
              "</style>\n",
              "<table border=\"1\" class=\"dataframe\">\n",
              "  <thead>\n",
              "    <tr style=\"text-align: right;\">\n",
              "      <th></th>\n",
              "      <th>0</th>\n",
              "      <th>1</th>\n",
              "      <th>2</th>\n",
              "      <th>3</th>\n",
              "      <th>4</th>\n",
              "      <th>5</th>\n",
              "      <th>6</th>\n",
              "      <th>7</th>\n",
              "      <th>8</th>\n",
              "      <th>9</th>\n",
              "      <th>10</th>\n",
              "    </tr>\n",
              "  </thead>\n",
              "  <tbody>\n",
              "    <tr>\n",
              "      <th>0</th>\n",
              "      <td>1167439</td>\n",
              "      <td>2</td>\n",
              "      <td>3</td>\n",
              "      <td>4</td>\n",
              "      <td>4</td>\n",
              "      <td>2</td>\n",
              "      <td>5.0</td>\n",
              "      <td>2</td>\n",
              "      <td>5</td>\n",
              "      <td>1</td>\n",
              "      <td>4</td>\n",
              "    </tr>\n",
              "    <tr>\n",
              "      <th>1</th>\n",
              "      <td>1172152</td>\n",
              "      <td>10</td>\n",
              "      <td>3</td>\n",
              "      <td>3</td>\n",
              "      <td>10</td>\n",
              "      <td>2</td>\n",
              "      <td>10.0</td>\n",
              "      <td>7</td>\n",
              "      <td>3</td>\n",
              "      <td>3</td>\n",
              "      <td>4</td>\n",
              "    </tr>\n",
              "    <tr>\n",
              "      <th>2</th>\n",
              "      <td>877943</td>\n",
              "      <td>3</td>\n",
              "      <td>10</td>\n",
              "      <td>3</td>\n",
              "      <td>10</td>\n",
              "      <td>6</td>\n",
              "      <td>10.0</td>\n",
              "      <td>5</td>\n",
              "      <td>1</td>\n",
              "      <td>4</td>\n",
              "      <td>4</td>\n",
              "    </tr>\n",
              "    <tr>\n",
              "      <th>3</th>\n",
              "      <td>1166654</td>\n",
              "      <td>10</td>\n",
              "      <td>3</td>\n",
              "      <td>5</td>\n",
              "      <td>1</td>\n",
              "      <td>10</td>\n",
              "      <td>5.0</td>\n",
              "      <td>3</td>\n",
              "      <td>10</td>\n",
              "      <td>2</td>\n",
              "      <td>4</td>\n",
              "    </tr>\n",
              "    <tr>\n",
              "      <th>4</th>\n",
              "      <td>1054593</td>\n",
              "      <td>10</td>\n",
              "      <td>5</td>\n",
              "      <td>5</td>\n",
              "      <td>3</td>\n",
              "      <td>6</td>\n",
              "      <td>7.0</td>\n",
              "      <td>7</td>\n",
              "      <td>10</td>\n",
              "      <td>1</td>\n",
              "      <td>4</td>\n",
              "    </tr>\n",
              "    <tr>\n",
              "      <th>...</th>\n",
              "      <td>...</td>\n",
              "      <td>...</td>\n",
              "      <td>...</td>\n",
              "      <td>...</td>\n",
              "      <td>...</td>\n",
              "      <td>...</td>\n",
              "      <td>...</td>\n",
              "      <td>...</td>\n",
              "      <td>...</td>\n",
              "      <td>...</td>\n",
              "      <td>...</td>\n",
              "    </tr>\n",
              "    <tr>\n",
              "      <th>254</th>\n",
              "      <td>1296593</td>\n",
              "      <td>7</td>\n",
              "      <td>5</td>\n",
              "      <td>9</td>\n",
              "      <td>9</td>\n",
              "      <td>10</td>\n",
              "      <td>NaN</td>\n",
              "      <td>10</td>\n",
              "      <td>8</td>\n",
              "      <td>2</td>\n",
              "      <td>4</td>\n",
              "    </tr>\n",
              "    <tr>\n",
              "      <th>255</th>\n",
              "      <td>145447</td>\n",
              "      <td>8</td>\n",
              "      <td>4</td>\n",
              "      <td>4</td>\n",
              "      <td>1</td>\n",
              "      <td>2</td>\n",
              "      <td>9.0</td>\n",
              "      <td>3</td>\n",
              "      <td>3</td>\n",
              "      <td>1</td>\n",
              "      <td>4</td>\n",
              "    </tr>\n",
              "    <tr>\n",
              "      <th>256</th>\n",
              "      <td>1180194</td>\n",
              "      <td>9</td>\n",
              "      <td>10</td>\n",
              "      <td>6</td>\n",
              "      <td>2</td>\n",
              "      <td>3</td>\n",
              "      <td>4.0</td>\n",
              "      <td>1</td>\n",
              "      <td>10</td>\n",
              "      <td>5</td>\n",
              "      <td>4</td>\n",
              "    </tr>\n",
              "    <tr>\n",
              "      <th>257</th>\n",
              "      <td>659642</td>\n",
              "      <td>10</td>\n",
              "      <td>8</td>\n",
              "      <td>4</td>\n",
              "      <td>4</td>\n",
              "      <td>4</td>\n",
              "      <td>10.0</td>\n",
              "      <td>3</td>\n",
              "      <td>10</td>\n",
              "      <td>4</td>\n",
              "      <td>4</td>\n",
              "    </tr>\n",
              "    <tr>\n",
              "      <th>258</th>\n",
              "      <td>1100524</td>\n",
              "      <td>6</td>\n",
              "      <td>10</td>\n",
              "      <td>10</td>\n",
              "      <td>2</td>\n",
              "      <td>8</td>\n",
              "      <td>10.0</td>\n",
              "      <td>7</td>\n",
              "      <td>3</td>\n",
              "      <td>3</td>\n",
              "      <td>4</td>\n",
              "    </tr>\n",
              "  </tbody>\n",
              "</table>\n",
              "<p>259 rows × 11 columns</p>\n",
              "</div>\n",
              "    <div class=\"colab-df-buttons\">\n",
              "\n",
              "  <div class=\"colab-df-container\">\n",
              "    <button class=\"colab-df-convert\" onclick=\"convertToInteractive('df-7337d962-9d80-4758-902b-30a1f0dd90f9')\"\n",
              "            title=\"Convert this dataframe to an interactive table.\"\n",
              "            style=\"display:none;\">\n",
              "\n",
              "  <svg xmlns=\"http://www.w3.org/2000/svg\" height=\"24px\" viewBox=\"0 -960 960 960\">\n",
              "    <path d=\"M120-120v-720h720v720H120Zm60-500h600v-160H180v160Zm220 220h160v-160H400v160Zm0 220h160v-160H400v160ZM180-400h160v-160H180v160Zm440 0h160v-160H620v160ZM180-180h160v-160H180v160Zm440 0h160v-160H620v160Z\"/>\n",
              "  </svg>\n",
              "    </button>\n",
              "\n",
              "  <style>\n",
              "    .colab-df-container {\n",
              "      display:flex;\n",
              "      gap: 12px;\n",
              "    }\n",
              "\n",
              "    .colab-df-convert {\n",
              "      background-color: #E8F0FE;\n",
              "      border: none;\n",
              "      border-radius: 50%;\n",
              "      cursor: pointer;\n",
              "      display: none;\n",
              "      fill: #1967D2;\n",
              "      height: 32px;\n",
              "      padding: 0 0 0 0;\n",
              "      width: 32px;\n",
              "    }\n",
              "\n",
              "    .colab-df-convert:hover {\n",
              "      background-color: #E2EBFA;\n",
              "      box-shadow: 0px 1px 2px rgba(60, 64, 67, 0.3), 0px 1px 3px 1px rgba(60, 64, 67, 0.15);\n",
              "      fill: #174EA6;\n",
              "    }\n",
              "\n",
              "    .colab-df-buttons div {\n",
              "      margin-bottom: 4px;\n",
              "    }\n",
              "\n",
              "    [theme=dark] .colab-df-convert {\n",
              "      background-color: #3B4455;\n",
              "      fill: #D2E3FC;\n",
              "    }\n",
              "\n",
              "    [theme=dark] .colab-df-convert:hover {\n",
              "      background-color: #434B5C;\n",
              "      box-shadow: 0px 1px 3px 1px rgba(0, 0, 0, 0.15);\n",
              "      filter: drop-shadow(0px 1px 2px rgba(0, 0, 0, 0.3));\n",
              "      fill: #FFFFFF;\n",
              "    }\n",
              "  </style>\n",
              "\n",
              "    <script>\n",
              "      const buttonEl =\n",
              "        document.querySelector('#df-7337d962-9d80-4758-902b-30a1f0dd90f9 button.colab-df-convert');\n",
              "      buttonEl.style.display =\n",
              "        google.colab.kernel.accessAllowed ? 'block' : 'none';\n",
              "\n",
              "      async function convertToInteractive(key) {\n",
              "        const element = document.querySelector('#df-7337d962-9d80-4758-902b-30a1f0dd90f9');\n",
              "        const dataTable =\n",
              "          await google.colab.kernel.invokeFunction('convertToInteractive',\n",
              "                                                    [key], {});\n",
              "        if (!dataTable) return;\n",
              "\n",
              "        const docLinkHtml = 'Like what you see? Visit the ' +\n",
              "          '<a target=\"_blank\" href=https://colab.research.google.com/notebooks/data_table.ipynb>data table notebook</a>'\n",
              "          + ' to learn more about interactive tables.';\n",
              "        element.innerHTML = '';\n",
              "        dataTable['output_type'] = 'display_data';\n",
              "        await google.colab.output.renderOutput(dataTable, element);\n",
              "        const docLink = document.createElement('div');\n",
              "        docLink.innerHTML = docLinkHtml;\n",
              "        element.appendChild(docLink);\n",
              "      }\n",
              "    </script>\n",
              "  </div>\n",
              "\n",
              "\n",
              "<div id=\"df-bf57a504-0b39-481d-9d2b-ca69c4359443\">\n",
              "  <button class=\"colab-df-quickchart\" onclick=\"quickchart('df-bf57a504-0b39-481d-9d2b-ca69c4359443')\"\n",
              "            title=\"Suggest charts\"\n",
              "            style=\"display:none;\">\n",
              "\n",
              "<svg xmlns=\"http://www.w3.org/2000/svg\" height=\"24px\"viewBox=\"0 0 24 24\"\n",
              "     width=\"24px\">\n",
              "    <g>\n",
              "        <path d=\"M19 3H5c-1.1 0-2 .9-2 2v14c0 1.1.9 2 2 2h14c1.1 0 2-.9 2-2V5c0-1.1-.9-2-2-2zM9 17H7v-7h2v7zm4 0h-2V7h2v10zm4 0h-2v-4h2v4z\"/>\n",
              "    </g>\n",
              "</svg>\n",
              "  </button>\n",
              "\n",
              "<style>\n",
              "  .colab-df-quickchart {\n",
              "      --bg-color: #E8F0FE;\n",
              "      --fill-color: #1967D2;\n",
              "      --hover-bg-color: #E2EBFA;\n",
              "      --hover-fill-color: #174EA6;\n",
              "      --disabled-fill-color: #AAA;\n",
              "      --disabled-bg-color: #DDD;\n",
              "  }\n",
              "\n",
              "  [theme=dark] .colab-df-quickchart {\n",
              "      --bg-color: #3B4455;\n",
              "      --fill-color: #D2E3FC;\n",
              "      --hover-bg-color: #434B5C;\n",
              "      --hover-fill-color: #FFFFFF;\n",
              "      --disabled-bg-color: #3B4455;\n",
              "      --disabled-fill-color: #666;\n",
              "  }\n",
              "\n",
              "  .colab-df-quickchart {\n",
              "    background-color: var(--bg-color);\n",
              "    border: none;\n",
              "    border-radius: 50%;\n",
              "    cursor: pointer;\n",
              "    display: none;\n",
              "    fill: var(--fill-color);\n",
              "    height: 32px;\n",
              "    padding: 0;\n",
              "    width: 32px;\n",
              "  }\n",
              "\n",
              "  .colab-df-quickchart:hover {\n",
              "    background-color: var(--hover-bg-color);\n",
              "    box-shadow: 0 1px 2px rgba(60, 64, 67, 0.3), 0 1px 3px 1px rgba(60, 64, 67, 0.15);\n",
              "    fill: var(--button-hover-fill-color);\n",
              "  }\n",
              "\n",
              "  .colab-df-quickchart-complete:disabled,\n",
              "  .colab-df-quickchart-complete:disabled:hover {\n",
              "    background-color: var(--disabled-bg-color);\n",
              "    fill: var(--disabled-fill-color);\n",
              "    box-shadow: none;\n",
              "  }\n",
              "\n",
              "  .colab-df-spinner {\n",
              "    border: 2px solid var(--fill-color);\n",
              "    border-color: transparent;\n",
              "    border-bottom-color: var(--fill-color);\n",
              "    animation:\n",
              "      spin 1s steps(1) infinite;\n",
              "  }\n",
              "\n",
              "  @keyframes spin {\n",
              "    0% {\n",
              "      border-color: transparent;\n",
              "      border-bottom-color: var(--fill-color);\n",
              "      border-left-color: var(--fill-color);\n",
              "    }\n",
              "    20% {\n",
              "      border-color: transparent;\n",
              "      border-left-color: var(--fill-color);\n",
              "      border-top-color: var(--fill-color);\n",
              "    }\n",
              "    30% {\n",
              "      border-color: transparent;\n",
              "      border-left-color: var(--fill-color);\n",
              "      border-top-color: var(--fill-color);\n",
              "      border-right-color: var(--fill-color);\n",
              "    }\n",
              "    40% {\n",
              "      border-color: transparent;\n",
              "      border-right-color: var(--fill-color);\n",
              "      border-top-color: var(--fill-color);\n",
              "    }\n",
              "    60% {\n",
              "      border-color: transparent;\n",
              "      border-right-color: var(--fill-color);\n",
              "    }\n",
              "    80% {\n",
              "      border-color: transparent;\n",
              "      border-right-color: var(--fill-color);\n",
              "      border-bottom-color: var(--fill-color);\n",
              "    }\n",
              "    90% {\n",
              "      border-color: transparent;\n",
              "      border-bottom-color: var(--fill-color);\n",
              "    }\n",
              "  }\n",
              "</style>\n",
              "\n",
              "  <script>\n",
              "    async function quickchart(key) {\n",
              "      const quickchartButtonEl =\n",
              "        document.querySelector('#' + key + ' button');\n",
              "      quickchartButtonEl.disabled = true;  // To prevent multiple clicks.\n",
              "      quickchartButtonEl.classList.add('colab-df-spinner');\n",
              "      try {\n",
              "        const charts = await google.colab.kernel.invokeFunction(\n",
              "            'suggestCharts', [key], {});\n",
              "      } catch (error) {\n",
              "        console.error('Error during call to suggestCharts:', error);\n",
              "      }\n",
              "      quickchartButtonEl.classList.remove('colab-df-spinner');\n",
              "      quickchartButtonEl.classList.add('colab-df-quickchart-complete');\n",
              "    }\n",
              "    (() => {\n",
              "      let quickchartButtonEl =\n",
              "        document.querySelector('#df-bf57a504-0b39-481d-9d2b-ca69c4359443 button');\n",
              "      quickchartButtonEl.style.display =\n",
              "        google.colab.kernel.accessAllowed ? 'block' : 'none';\n",
              "    })();\n",
              "  </script>\n",
              "</div>\n",
              "\n",
              "  <div id=\"id_8f1e98eb-899e-4c7b-a344-e34bbd180e67\">\n",
              "    <style>\n",
              "      .colab-df-generate {\n",
              "        background-color: #E8F0FE;\n",
              "        border: none;\n",
              "        border-radius: 50%;\n",
              "        cursor: pointer;\n",
              "        display: none;\n",
              "        fill: #1967D2;\n",
              "        height: 32px;\n",
              "        padding: 0 0 0 0;\n",
              "        width: 32px;\n",
              "      }\n",
              "\n",
              "      .colab-df-generate:hover {\n",
              "        background-color: #E2EBFA;\n",
              "        box-shadow: 0px 1px 2px rgba(60, 64, 67, 0.3), 0px 1px 3px 1px rgba(60, 64, 67, 0.15);\n",
              "        fill: #174EA6;\n",
              "      }\n",
              "\n",
              "      [theme=dark] .colab-df-generate {\n",
              "        background-color: #3B4455;\n",
              "        fill: #D2E3FC;\n",
              "      }\n",
              "\n",
              "      [theme=dark] .colab-df-generate:hover {\n",
              "        background-color: #434B5C;\n",
              "        box-shadow: 0px 1px 3px 1px rgba(0, 0, 0, 0.15);\n",
              "        filter: drop-shadow(0px 1px 2px rgba(0, 0, 0, 0.3));\n",
              "        fill: #FFFFFF;\n",
              "      }\n",
              "    </style>\n",
              "    <button class=\"colab-df-generate\" onclick=\"generateWithVariable('dataset')\"\n",
              "            title=\"Generate code using this dataframe.\"\n",
              "            style=\"display:none;\">\n",
              "\n",
              "  <svg xmlns=\"http://www.w3.org/2000/svg\" height=\"24px\"viewBox=\"0 0 24 24\"\n",
              "       width=\"24px\">\n",
              "    <path d=\"M7,19H8.4L18.45,9,17,7.55,7,17.6ZM5,21V16.75L18.45,3.32a2,2,0,0,1,2.83,0l1.4,1.43a1.91,1.91,0,0,1,.58,1.4,1.91,1.91,0,0,1-.58,1.4L9.25,21ZM18.45,9,17,7.55Zm-12,3A5.31,5.31,0,0,0,4.9,8.1,5.31,5.31,0,0,0,1,6.5,5.31,5.31,0,0,0,4.9,4.9,5.31,5.31,0,0,0,6.5,1,5.31,5.31,0,0,0,8.1,4.9,5.31,5.31,0,0,0,12,6.5,5.46,5.46,0,0,0,6.5,12Z\"/>\n",
              "  </svg>\n",
              "    </button>\n",
              "    <script>\n",
              "      (() => {\n",
              "      const buttonEl =\n",
              "        document.querySelector('#id_8f1e98eb-899e-4c7b-a344-e34bbd180e67 button.colab-df-generate');\n",
              "      buttonEl.style.display =\n",
              "        google.colab.kernel.accessAllowed ? 'block' : 'none';\n",
              "\n",
              "      buttonEl.onclick = () => {\n",
              "        google.colab.notebook.generateWithVariable('dataset');\n",
              "      }\n",
              "      })();\n",
              "    </script>\n",
              "  </div>\n",
              "\n",
              "    </div>\n",
              "  </div>\n"
            ],
            "application/vnd.google.colaboratory.intrinsic+json": {
              "type": "dataframe",
              "variable_name": "dataset",
              "summary": "{\n  \"name\": \"dataset\",\n  \"rows\": 259,\n  \"fields\": [\n    {\n      \"column\": 0,\n      \"properties\": {\n        \"dtype\": \"number\",\n        \"std\": 521819,\n        \"min\": 63375,\n        \"max\": 8233704,\n        \"num_unique_values\": 214,\n        \"samples\": [\n          1253955,\n          672113,\n          1190386\n        ],\n        \"semantic_type\": \"\",\n        \"description\": \"\"\n      }\n    },\n    {\n      \"column\": 1,\n      \"properties\": {\n        \"dtype\": \"number\",\n        \"std\": 2,\n        \"min\": 1,\n        \"max\": 10,\n        \"num_unique_values\": 10,\n        \"samples\": [\n          6,\n          10,\n          5\n        ],\n        \"semantic_type\": \"\",\n        \"description\": \"\"\n      }\n    },\n    {\n      \"column\": 2,\n      \"properties\": {\n        \"dtype\": \"number\",\n        \"std\": 3,\n        \"min\": 1,\n        \"max\": 10,\n        \"num_unique_values\": 10,\n        \"samples\": [\n          6,\n          10,\n          1\n        ],\n        \"semantic_type\": \"\",\n        \"description\": \"\"\n      }\n    },\n    {\n      \"column\": 3,\n      \"properties\": {\n        \"dtype\": \"number\",\n        \"std\": 3,\n        \"min\": 1,\n        \"max\": 10,\n        \"num_unique_values\": 10,\n        \"samples\": [\n          9,\n          3,\n          2\n        ],\n        \"semantic_type\": \"\",\n        \"description\": \"\"\n      }\n    },\n    {\n      \"column\": 4,\n      \"properties\": {\n        \"dtype\": \"number\",\n        \"std\": 3,\n        \"min\": 1,\n        \"max\": 10,\n        \"num_unique_values\": 10,\n        \"samples\": [\n          8,\n          10,\n          5\n        ],\n        \"semantic_type\": \"\",\n        \"description\": \"\"\n      }\n    },\n    {\n      \"column\": 5,\n      \"properties\": {\n        \"dtype\": \"number\",\n        \"std\": 2,\n        \"min\": 1,\n        \"max\": 10,\n        \"num_unique_values\": 10,\n        \"samples\": [\n          8,\n          6,\n          1\n        ],\n        \"semantic_type\": \"\",\n        \"description\": \"\"\n      }\n    },\n    {\n      \"column\": 6,\n      \"properties\": {\n        \"dtype\": \"number\",\n        \"std\": 3.7577224601677814,\n        \"min\": 1.0,\n        \"max\": 10.0,\n        \"num_unique_values\": 10,\n        \"samples\": [\n          2.0,\n          10.0,\n          1.0\n        ],\n        \"semantic_type\": \"\",\n        \"description\": \"\"\n      }\n    },\n    {\n      \"column\": 7,\n      \"properties\": {\n        \"dtype\": \"number\",\n        \"std\": 2,\n        \"min\": 1,\n        \"max\": 10,\n        \"num_unique_values\": 10,\n        \"samples\": [\n          9,\n          7,\n          1\n        ],\n        \"semantic_type\": \"\",\n        \"description\": \"\"\n      }\n    },\n    {\n      \"column\": 8,\n      \"properties\": {\n        \"dtype\": \"number\",\n        \"std\": 3,\n        \"min\": 1,\n        \"max\": 10,\n        \"num_unique_values\": 10,\n        \"samples\": [\n          9,\n          3,\n          6\n        ],\n        \"semantic_type\": \"\",\n        \"description\": \"\"\n      }\n    },\n    {\n      \"column\": 9,\n      \"properties\": {\n        \"dtype\": \"number\",\n        \"std\": 2,\n        \"min\": 1,\n        \"max\": 10,\n        \"num_unique_values\": 9,\n        \"samples\": [\n          6,\n          3,\n          7\n        ],\n        \"semantic_type\": \"\",\n        \"description\": \"\"\n      }\n    },\n    {\n      \"column\": 10,\n      \"properties\": {\n        \"dtype\": \"number\",\n        \"std\": 0,\n        \"min\": 2,\n        \"max\": 4,\n        \"num_unique_values\": 2,\n        \"samples\": [\n          2,\n          4\n        ],\n        \"semantic_type\": \"\",\n        \"description\": \"\"\n      }\n    }\n  ]\n}"
            }
          },
          "metadata": {},
          "execution_count": 4
        }
      ],
      "source": [
        "# Load data menjadi data frame\n",
        "dataset = pd.read_csv(\"breast-cancer-wisconsin_(simulasi-uji-LSP).csv\", header=None)\n",
        "\n",
        "dataset"
      ]
    },
    {
      "cell_type": "markdown",
      "metadata": {
        "id": "8fzdULsPj6p2"
      },
      "source": [
        "<h4>⬆ <b>Expected <span style=\"color:tomato;\">Output</span></b>:</h4>\n",
        "\n",
        "<img src=\"https://lh3.googleusercontent.com/fife/ALs6j_HDDLF-Q4fvVWnyJ0qAPnMamksqu5jtv8kR1bMV6Ei4lHdQlcSY2qsP_wg2IZdXkZLb6idsyXcRPi57kHlxwVLoir9u4SZPFexxXUGH6JCJnKFTCe22BECboO2JPHNCkKTfl83ksAiKClSUtp6onslZbjsp1cbNTDrLCEjuOMwwKLWXohB4Hz6p-0VUN5LFRMUlI3TmtoXrUs2p8mPhdmryiBOkckrEGAffRa0_EgiS03N5j8XUJMoFSjc_RGNHK2dW0CHzwWT98UB_Bd_4fTBJkFCLOtk9hg8g_PFRrMO8AUXQb_mvrfAq4JCO1lVHzbtIjX1ZQrVxbuB3QVydGO1TXPJvdcfuLMggiOF427EL7ANryTg2Z392UrMwChuzeHQ2ABy_TehWe3WUQ1PS5KqljtFWs1QQ_m7w5KU-T8bABvybebFwjxD7CDh7mt8j6y14WhLywyWItigJQ-Ec9sTctXP6X_GwILLWoYjgWl9eIElPVpvfj6OEzFQBBOIWtPtk5etJUVA2QwRtdsu7JN4qkeZbYe_0TLgxC1PedKoJW-7AVPVDmD7v843wfrvHbuvd88x60iVShml35zo6XL2qNoOqr1M5nYuR0OMxPlJ6zp5gISQ0VT7hLzhRGUaNXsWvBRxb9ScF9DUcacyVjrfNzYPxQIGOhR4am5uN2IZ5W6rEJHyB1yv9oEBitkx8Qz_fSj9U52Tx_zzcfw8Mxez6Ajlz_79hK11R7ki9_sxaZTevKraovC1giZV0v-Zn4fyy2UWdHoKc4VsRxhN5DN6smEwOaJ7rbTyOUjDsgvXzNDKVO-7IBxoFVGbEl_cmbpm7UYMWSP709Nmcnj0b_bl4iAw1DAWcBcOC2u4i7Q5MGW37UN7vxc68XGnDI4Lm2fZE4euvhvevLv7ce7A2CuOJVElpqLAGO31wkhfgd-FK9sJxb69LCcX3ieEBwBs8gSbW97_SeFdiFxbDaQvnJ0js7bM8YtPkz38I7zPuUvww_pa5Zfdz-ZnpuoBrW8XTItr8QZGqC0o0UX7KrwoYyiihVANz8JiaDa0fe2LCgum95zcyJcvjP5YvQO36Dm_H8WlF3WRT6wQ57UkSYWfLLr3AFPxT6WF3BRomDqS-ScKIP-q_NWC66Eooiq_4mkLNF-Tg9D8ZV4qNKWZrFwUbxFNZ8N0cfS-X8M0GF1PFLA0xZICPTMjLYJIKiJc5R4noIlRfkCVrT-0fz0FymLnQIJIpQnWSbwWdyGMXaJR4IJy6q5L7OTKjSRYT8_-rJicAYf8XDb6Wj_IsthXu9lrqJCios-9F3F7MLUSJyxJOAh14hh7yYluc8c46O8CENptisPZOmTWwYS-k0JOvbZ8ERk5WhpHv1x7Ojr_ehv-t0XMwLe5tBGDX8tPB0q6YsA1-nHDiqd0Ey4vUxHmxAyuTn-OxRTptw2h_jL11FRSekD798rSydI3Z5HvV-zy7kB0lxp21t495RgrJEqbwK9rz0lhtHLcBCvb_oTAe58rURxD0EQj5Q3VyygvJCHx7QqLrTsrsj9Hl1_Lz4Q8cv0LUxv-NHzp_PWku79CJXqF81PNSbqJ-Iz9Y3n0qlERBHvHjk0KOqKL9T9zZmbDz5mSBFiUsPrMiwaKK6kmqpx6wUAsKaybebiifMMMMzc5QA6vkSp80v4jw-A4amSaNH-W-MBl8z0Ea=w1920-h936\" alt=\"img_1.png\" width=\"400\">"
      ]
    },
    {
      "cell_type": "markdown",
      "metadata": {
        "id": "FfJYLqXCj6p3"
      },
      "source": [
        "<h4>*Lihat <b style=\"color:yellow;\">informasi atribut</b> pada file \"<span style=\"color:orange;\">breast-cancer-wisconsin.names</span>\", poin ke-<b style=\"color:tomato;\">7</b>.</h4>"
      ]
    },
    {
      "cell_type": "code",
      "execution_count": 5,
      "metadata": {
        "id": "-t19Z14gKbw-"
      },
      "outputs": [],
      "source": [
        "# Memasukkan nama fitur kedalam dataset\n",
        "dataset.columns = [\n",
        "  \"Sample_code_number\",\n",
        "  \"Clump_thickness\",\n",
        "  \"Uniformity_of_cell_size\",\n",
        "  \"Uniformity_of_cell_shape\",\n",
        "  \"Marginal_adhesion\",\n",
        "  \"Single_epithelial_cell_size\",\n",
        "  \"Bare_nuclei\",\n",
        "  \"Bland_chromatin\",\n",
        "  \"Normal_nucleoli\",\n",
        "  \"Mitoses\",\n",
        "  \"Class\"\n",
        "]"
      ]
    },
    {
      "cell_type": "markdown",
      "metadata": {
        "id": "GCu4E6Rmj6p4"
      },
      "source": [
        "<h4>⬇ <b style=\"color:orange;\">Instruksi</b>: Isi <i style=\"color:yellow;font-weight:bold;\">code-cell</i> berikut agar menghasilkan <b style=\"color:tomato;\">output</b> yang sesuai!</h4>"
      ]
    },
    {
      "cell_type": "code",
      "execution_count": 6,
      "metadata": {
        "id": "eGAahUlRLjjj",
        "colab": {
          "base_uri": "https://localhost:8080/",
          "height": 206
        },
        "outputId": "89698e95-5006-4688-908f-9bceb781742a"
      },
      "outputs": [
        {
          "output_type": "execute_result",
          "data": {
            "text/plain": [
              "   Sample_code_number  Clump_thickness  Uniformity_of_cell_size  \\\n",
              "0             1167439                2                        3   \n",
              "1             1172152               10                        3   \n",
              "2              877943                3                       10   \n",
              "3             1166654               10                        3   \n",
              "4             1054593               10                        5   \n",
              "\n",
              "   Uniformity_of_cell_shape  Marginal_adhesion  Single_epithelial_cell_size  \\\n",
              "0                         4                  4                            2   \n",
              "1                         3                 10                            2   \n",
              "2                         3                 10                            6   \n",
              "3                         5                  1                           10   \n",
              "4                         5                  3                            6   \n",
              "\n",
              "   Bare_nuclei  Bland_chromatin  Normal_nucleoli  Mitoses  Class  \n",
              "0          5.0                2                5        1      4  \n",
              "1         10.0                7                3        3      4  \n",
              "2         10.0                5                1        4      4  \n",
              "3          5.0                3               10        2      4  \n",
              "4          7.0                7               10        1      4  "
            ],
            "text/html": [
              "\n",
              "  <div id=\"df-92938de0-ca9a-4723-b32c-6e9bd6686b4f\" class=\"colab-df-container\">\n",
              "    <div>\n",
              "<style scoped>\n",
              "    .dataframe tbody tr th:only-of-type {\n",
              "        vertical-align: middle;\n",
              "    }\n",
              "\n",
              "    .dataframe tbody tr th {\n",
              "        vertical-align: top;\n",
              "    }\n",
              "\n",
              "    .dataframe thead th {\n",
              "        text-align: right;\n",
              "    }\n",
              "</style>\n",
              "<table border=\"1\" class=\"dataframe\">\n",
              "  <thead>\n",
              "    <tr style=\"text-align: right;\">\n",
              "      <th></th>\n",
              "      <th>Sample_code_number</th>\n",
              "      <th>Clump_thickness</th>\n",
              "      <th>Uniformity_of_cell_size</th>\n",
              "      <th>Uniformity_of_cell_shape</th>\n",
              "      <th>Marginal_adhesion</th>\n",
              "      <th>Single_epithelial_cell_size</th>\n",
              "      <th>Bare_nuclei</th>\n",
              "      <th>Bland_chromatin</th>\n",
              "      <th>Normal_nucleoli</th>\n",
              "      <th>Mitoses</th>\n",
              "      <th>Class</th>\n",
              "    </tr>\n",
              "  </thead>\n",
              "  <tbody>\n",
              "    <tr>\n",
              "      <th>0</th>\n",
              "      <td>1167439</td>\n",
              "      <td>2</td>\n",
              "      <td>3</td>\n",
              "      <td>4</td>\n",
              "      <td>4</td>\n",
              "      <td>2</td>\n",
              "      <td>5.0</td>\n",
              "      <td>2</td>\n",
              "      <td>5</td>\n",
              "      <td>1</td>\n",
              "      <td>4</td>\n",
              "    </tr>\n",
              "    <tr>\n",
              "      <th>1</th>\n",
              "      <td>1172152</td>\n",
              "      <td>10</td>\n",
              "      <td>3</td>\n",
              "      <td>3</td>\n",
              "      <td>10</td>\n",
              "      <td>2</td>\n",
              "      <td>10.0</td>\n",
              "      <td>7</td>\n",
              "      <td>3</td>\n",
              "      <td>3</td>\n",
              "      <td>4</td>\n",
              "    </tr>\n",
              "    <tr>\n",
              "      <th>2</th>\n",
              "      <td>877943</td>\n",
              "      <td>3</td>\n",
              "      <td>10</td>\n",
              "      <td>3</td>\n",
              "      <td>10</td>\n",
              "      <td>6</td>\n",
              "      <td>10.0</td>\n",
              "      <td>5</td>\n",
              "      <td>1</td>\n",
              "      <td>4</td>\n",
              "      <td>4</td>\n",
              "    </tr>\n",
              "    <tr>\n",
              "      <th>3</th>\n",
              "      <td>1166654</td>\n",
              "      <td>10</td>\n",
              "      <td>3</td>\n",
              "      <td>5</td>\n",
              "      <td>1</td>\n",
              "      <td>10</td>\n",
              "      <td>5.0</td>\n",
              "      <td>3</td>\n",
              "      <td>10</td>\n",
              "      <td>2</td>\n",
              "      <td>4</td>\n",
              "    </tr>\n",
              "    <tr>\n",
              "      <th>4</th>\n",
              "      <td>1054593</td>\n",
              "      <td>10</td>\n",
              "      <td>5</td>\n",
              "      <td>5</td>\n",
              "      <td>3</td>\n",
              "      <td>6</td>\n",
              "      <td>7.0</td>\n",
              "      <td>7</td>\n",
              "      <td>10</td>\n",
              "      <td>1</td>\n",
              "      <td>4</td>\n",
              "    </tr>\n",
              "  </tbody>\n",
              "</table>\n",
              "</div>\n",
              "    <div class=\"colab-df-buttons\">\n",
              "\n",
              "  <div class=\"colab-df-container\">\n",
              "    <button class=\"colab-df-convert\" onclick=\"convertToInteractive('df-92938de0-ca9a-4723-b32c-6e9bd6686b4f')\"\n",
              "            title=\"Convert this dataframe to an interactive table.\"\n",
              "            style=\"display:none;\">\n",
              "\n",
              "  <svg xmlns=\"http://www.w3.org/2000/svg\" height=\"24px\" viewBox=\"0 -960 960 960\">\n",
              "    <path d=\"M120-120v-720h720v720H120Zm60-500h600v-160H180v160Zm220 220h160v-160H400v160Zm0 220h160v-160H400v160ZM180-400h160v-160H180v160Zm440 0h160v-160H620v160ZM180-180h160v-160H180v160Zm440 0h160v-160H620v160Z\"/>\n",
              "  </svg>\n",
              "    </button>\n",
              "\n",
              "  <style>\n",
              "    .colab-df-container {\n",
              "      display:flex;\n",
              "      gap: 12px;\n",
              "    }\n",
              "\n",
              "    .colab-df-convert {\n",
              "      background-color: #E8F0FE;\n",
              "      border: none;\n",
              "      border-radius: 50%;\n",
              "      cursor: pointer;\n",
              "      display: none;\n",
              "      fill: #1967D2;\n",
              "      height: 32px;\n",
              "      padding: 0 0 0 0;\n",
              "      width: 32px;\n",
              "    }\n",
              "\n",
              "    .colab-df-convert:hover {\n",
              "      background-color: #E2EBFA;\n",
              "      box-shadow: 0px 1px 2px rgba(60, 64, 67, 0.3), 0px 1px 3px 1px rgba(60, 64, 67, 0.15);\n",
              "      fill: #174EA6;\n",
              "    }\n",
              "\n",
              "    .colab-df-buttons div {\n",
              "      margin-bottom: 4px;\n",
              "    }\n",
              "\n",
              "    [theme=dark] .colab-df-convert {\n",
              "      background-color: #3B4455;\n",
              "      fill: #D2E3FC;\n",
              "    }\n",
              "\n",
              "    [theme=dark] .colab-df-convert:hover {\n",
              "      background-color: #434B5C;\n",
              "      box-shadow: 0px 1px 3px 1px rgba(0, 0, 0, 0.15);\n",
              "      filter: drop-shadow(0px 1px 2px rgba(0, 0, 0, 0.3));\n",
              "      fill: #FFFFFF;\n",
              "    }\n",
              "  </style>\n",
              "\n",
              "    <script>\n",
              "      const buttonEl =\n",
              "        document.querySelector('#df-92938de0-ca9a-4723-b32c-6e9bd6686b4f button.colab-df-convert');\n",
              "      buttonEl.style.display =\n",
              "        google.colab.kernel.accessAllowed ? 'block' : 'none';\n",
              "\n",
              "      async function convertToInteractive(key) {\n",
              "        const element = document.querySelector('#df-92938de0-ca9a-4723-b32c-6e9bd6686b4f');\n",
              "        const dataTable =\n",
              "          await google.colab.kernel.invokeFunction('convertToInteractive',\n",
              "                                                    [key], {});\n",
              "        if (!dataTable) return;\n",
              "\n",
              "        const docLinkHtml = 'Like what you see? Visit the ' +\n",
              "          '<a target=\"_blank\" href=https://colab.research.google.com/notebooks/data_table.ipynb>data table notebook</a>'\n",
              "          + ' to learn more about interactive tables.';\n",
              "        element.innerHTML = '';\n",
              "        dataTable['output_type'] = 'display_data';\n",
              "        await google.colab.output.renderOutput(dataTable, element);\n",
              "        const docLink = document.createElement('div');\n",
              "        docLink.innerHTML = docLinkHtml;\n",
              "        element.appendChild(docLink);\n",
              "      }\n",
              "    </script>\n",
              "  </div>\n",
              "\n",
              "\n",
              "<div id=\"df-e012d73e-4e50-4fb7-a657-a86a8273b931\">\n",
              "  <button class=\"colab-df-quickchart\" onclick=\"quickchart('df-e012d73e-4e50-4fb7-a657-a86a8273b931')\"\n",
              "            title=\"Suggest charts\"\n",
              "            style=\"display:none;\">\n",
              "\n",
              "<svg xmlns=\"http://www.w3.org/2000/svg\" height=\"24px\"viewBox=\"0 0 24 24\"\n",
              "     width=\"24px\">\n",
              "    <g>\n",
              "        <path d=\"M19 3H5c-1.1 0-2 .9-2 2v14c0 1.1.9 2 2 2h14c1.1 0 2-.9 2-2V5c0-1.1-.9-2-2-2zM9 17H7v-7h2v7zm4 0h-2V7h2v10zm4 0h-2v-4h2v4z\"/>\n",
              "    </g>\n",
              "</svg>\n",
              "  </button>\n",
              "\n",
              "<style>\n",
              "  .colab-df-quickchart {\n",
              "      --bg-color: #E8F0FE;\n",
              "      --fill-color: #1967D2;\n",
              "      --hover-bg-color: #E2EBFA;\n",
              "      --hover-fill-color: #174EA6;\n",
              "      --disabled-fill-color: #AAA;\n",
              "      --disabled-bg-color: #DDD;\n",
              "  }\n",
              "\n",
              "  [theme=dark] .colab-df-quickchart {\n",
              "      --bg-color: #3B4455;\n",
              "      --fill-color: #D2E3FC;\n",
              "      --hover-bg-color: #434B5C;\n",
              "      --hover-fill-color: #FFFFFF;\n",
              "      --disabled-bg-color: #3B4455;\n",
              "      --disabled-fill-color: #666;\n",
              "  }\n",
              "\n",
              "  .colab-df-quickchart {\n",
              "    background-color: var(--bg-color);\n",
              "    border: none;\n",
              "    border-radius: 50%;\n",
              "    cursor: pointer;\n",
              "    display: none;\n",
              "    fill: var(--fill-color);\n",
              "    height: 32px;\n",
              "    padding: 0;\n",
              "    width: 32px;\n",
              "  }\n",
              "\n",
              "  .colab-df-quickchart:hover {\n",
              "    background-color: var(--hover-bg-color);\n",
              "    box-shadow: 0 1px 2px rgba(60, 64, 67, 0.3), 0 1px 3px 1px rgba(60, 64, 67, 0.15);\n",
              "    fill: var(--button-hover-fill-color);\n",
              "  }\n",
              "\n",
              "  .colab-df-quickchart-complete:disabled,\n",
              "  .colab-df-quickchart-complete:disabled:hover {\n",
              "    background-color: var(--disabled-bg-color);\n",
              "    fill: var(--disabled-fill-color);\n",
              "    box-shadow: none;\n",
              "  }\n",
              "\n",
              "  .colab-df-spinner {\n",
              "    border: 2px solid var(--fill-color);\n",
              "    border-color: transparent;\n",
              "    border-bottom-color: var(--fill-color);\n",
              "    animation:\n",
              "      spin 1s steps(1) infinite;\n",
              "  }\n",
              "\n",
              "  @keyframes spin {\n",
              "    0% {\n",
              "      border-color: transparent;\n",
              "      border-bottom-color: var(--fill-color);\n",
              "      border-left-color: var(--fill-color);\n",
              "    }\n",
              "    20% {\n",
              "      border-color: transparent;\n",
              "      border-left-color: var(--fill-color);\n",
              "      border-top-color: var(--fill-color);\n",
              "    }\n",
              "    30% {\n",
              "      border-color: transparent;\n",
              "      border-left-color: var(--fill-color);\n",
              "      border-top-color: var(--fill-color);\n",
              "      border-right-color: var(--fill-color);\n",
              "    }\n",
              "    40% {\n",
              "      border-color: transparent;\n",
              "      border-right-color: var(--fill-color);\n",
              "      border-top-color: var(--fill-color);\n",
              "    }\n",
              "    60% {\n",
              "      border-color: transparent;\n",
              "      border-right-color: var(--fill-color);\n",
              "    }\n",
              "    80% {\n",
              "      border-color: transparent;\n",
              "      border-right-color: var(--fill-color);\n",
              "      border-bottom-color: var(--fill-color);\n",
              "    }\n",
              "    90% {\n",
              "      border-color: transparent;\n",
              "      border-bottom-color: var(--fill-color);\n",
              "    }\n",
              "  }\n",
              "</style>\n",
              "\n",
              "  <script>\n",
              "    async function quickchart(key) {\n",
              "      const quickchartButtonEl =\n",
              "        document.querySelector('#' + key + ' button');\n",
              "      quickchartButtonEl.disabled = true;  // To prevent multiple clicks.\n",
              "      quickchartButtonEl.classList.add('colab-df-spinner');\n",
              "      try {\n",
              "        const charts = await google.colab.kernel.invokeFunction(\n",
              "            'suggestCharts', [key], {});\n",
              "      } catch (error) {\n",
              "        console.error('Error during call to suggestCharts:', error);\n",
              "      }\n",
              "      quickchartButtonEl.classList.remove('colab-df-spinner');\n",
              "      quickchartButtonEl.classList.add('colab-df-quickchart-complete');\n",
              "    }\n",
              "    (() => {\n",
              "      let quickchartButtonEl =\n",
              "        document.querySelector('#df-e012d73e-4e50-4fb7-a657-a86a8273b931 button');\n",
              "      quickchartButtonEl.style.display =\n",
              "        google.colab.kernel.accessAllowed ? 'block' : 'none';\n",
              "    })();\n",
              "  </script>\n",
              "</div>\n",
              "\n",
              "    </div>\n",
              "  </div>\n"
            ],
            "application/vnd.google.colaboratory.intrinsic+json": {
              "type": "dataframe",
              "variable_name": "dataset",
              "summary": "{\n  \"name\": \"dataset\",\n  \"rows\": 259,\n  \"fields\": [\n    {\n      \"column\": \"Sample_code_number\",\n      \"properties\": {\n        \"dtype\": \"number\",\n        \"std\": 521819,\n        \"min\": 63375,\n        \"max\": 8233704,\n        \"num_unique_values\": 214,\n        \"samples\": [\n          1253955,\n          672113,\n          1190386\n        ],\n        \"semantic_type\": \"\",\n        \"description\": \"\"\n      }\n    },\n    {\n      \"column\": \"Clump_thickness\",\n      \"properties\": {\n        \"dtype\": \"number\",\n        \"std\": 2,\n        \"min\": 1,\n        \"max\": 10,\n        \"num_unique_values\": 10,\n        \"samples\": [\n          6,\n          10,\n          5\n        ],\n        \"semantic_type\": \"\",\n        \"description\": \"\"\n      }\n    },\n    {\n      \"column\": \"Uniformity_of_cell_size\",\n      \"properties\": {\n        \"dtype\": \"number\",\n        \"std\": 3,\n        \"min\": 1,\n        \"max\": 10,\n        \"num_unique_values\": 10,\n        \"samples\": [\n          6,\n          10,\n          1\n        ],\n        \"semantic_type\": \"\",\n        \"description\": \"\"\n      }\n    },\n    {\n      \"column\": \"Uniformity_of_cell_shape\",\n      \"properties\": {\n        \"dtype\": \"number\",\n        \"std\": 3,\n        \"min\": 1,\n        \"max\": 10,\n        \"num_unique_values\": 10,\n        \"samples\": [\n          9,\n          3,\n          2\n        ],\n        \"semantic_type\": \"\",\n        \"description\": \"\"\n      }\n    },\n    {\n      \"column\": \"Marginal_adhesion\",\n      \"properties\": {\n        \"dtype\": \"number\",\n        \"std\": 3,\n        \"min\": 1,\n        \"max\": 10,\n        \"num_unique_values\": 10,\n        \"samples\": [\n          8,\n          10,\n          5\n        ],\n        \"semantic_type\": \"\",\n        \"description\": \"\"\n      }\n    },\n    {\n      \"column\": \"Single_epithelial_cell_size\",\n      \"properties\": {\n        \"dtype\": \"number\",\n        \"std\": 2,\n        \"min\": 1,\n        \"max\": 10,\n        \"num_unique_values\": 10,\n        \"samples\": [\n          8,\n          6,\n          1\n        ],\n        \"semantic_type\": \"\",\n        \"description\": \"\"\n      }\n    },\n    {\n      \"column\": \"Bare_nuclei\",\n      \"properties\": {\n        \"dtype\": \"number\",\n        \"std\": 3.7577224601677814,\n        \"min\": 1.0,\n        \"max\": 10.0,\n        \"num_unique_values\": 10,\n        \"samples\": [\n          2.0,\n          10.0,\n          1.0\n        ],\n        \"semantic_type\": \"\",\n        \"description\": \"\"\n      }\n    },\n    {\n      \"column\": \"Bland_chromatin\",\n      \"properties\": {\n        \"dtype\": \"number\",\n        \"std\": 2,\n        \"min\": 1,\n        \"max\": 10,\n        \"num_unique_values\": 10,\n        \"samples\": [\n          9,\n          7,\n          1\n        ],\n        \"semantic_type\": \"\",\n        \"description\": \"\"\n      }\n    },\n    {\n      \"column\": \"Normal_nucleoli\",\n      \"properties\": {\n        \"dtype\": \"number\",\n        \"std\": 3,\n        \"min\": 1,\n        \"max\": 10,\n        \"num_unique_values\": 10,\n        \"samples\": [\n          9,\n          3,\n          6\n        ],\n        \"semantic_type\": \"\",\n        \"description\": \"\"\n      }\n    },\n    {\n      \"column\": \"Mitoses\",\n      \"properties\": {\n        \"dtype\": \"number\",\n        \"std\": 2,\n        \"min\": 1,\n        \"max\": 10,\n        \"num_unique_values\": 9,\n        \"samples\": [\n          6,\n          3,\n          7\n        ],\n        \"semantic_type\": \"\",\n        \"description\": \"\"\n      }\n    },\n    {\n      \"column\": \"Class\",\n      \"properties\": {\n        \"dtype\": \"number\",\n        \"std\": 0,\n        \"min\": 2,\n        \"max\": 4,\n        \"num_unique_values\": 2,\n        \"samples\": [\n          2,\n          4\n        ],\n        \"semantic_type\": \"\",\n        \"description\": \"\"\n      }\n    }\n  ]\n}"
            }
          },
          "metadata": {},
          "execution_count": 6
        }
      ],
      "source": [
        "# Lakukan pengecekan apakah dataset sudah benar dengan menampilkan 5 data teratas\n",
        "dataset.head(5)"
      ]
    },
    {
      "cell_type": "markdown",
      "metadata": {
        "id": "zWBJQiQSj6p5"
      },
      "source": [
        "<h4>⬆ <b>Expected <span style=\"color:tomato;\">Output</span></b>:</h4>\n",
        "\n",
        "<img src=\"https://lh3.googleusercontent.com/fife/ALs6j_EYndZLkpI8TMpkfDxC0FxnZ3BvQkHapxWtG4k5FpUvTAWrbWjq9aGuqFPkXYz2lg6MJCqv3ML9Bgz81OSyZz5ytwyTumpAfR7Ndez1TMDwIE2fT-Fho-8Zi0ejdiJ1If_Lfo_fH2xIQcsOd8M0lKssIF77vCARZXzUsDgjvPDfYcLKStnjvNq5wf38uRKGAalE9CfUEpji-8BaIf2vNFsBm-VLU9NhJeW9o8Erf-VsEkouxMAGLLpj6GC98uBlH0SwaIM3YdWl2Wvuj6x2dblpvhtODXuHvChvT1AMHg-nAKqTNmCGqrq6_ouKmKw0Xi8YqyoMCTcTyUUASnCjt6OHSZ7-m-NLGqiK6-HReRzItCfSwkgQ8VMqPhalDp3hZxGsIjleSr5GW8NXLdrqhFLT1YVKln1webx-T7rQBwS0VbyEwRuJWFDVMBfoQZqzKLPO38t1lHlVLiJZ9YfGfEUlnvnVfodwu1ZPXe3_493S2-cYeAH2bOVr7hzguty95R454N-kefXLpRRF_HFI6UmWHHTTCP3e1rffsAbgEO1LiAoc88VX-WpZcLIcj23xX7x6pVowxWA2-Amvg0ngVCGFJdDX4yH5BJG-wHhFmUXAAmkLtjPztKtqFpRcIXxNlWeJF3D6VKL75RnGmHY-6PAjL4B7Uf-VH6oXIweXqP47hOrTEvq4CJXVeAzwFucZ6CS3vjJdHvmClvtTaHfinLID98QQdS5klKJhbYzvSPSzcH0_TMHBjUfGSnQWQgKbI6zLE8esC_cJw8p2l0-EvhC9ZogHlCpPgBDM28eEdNS0sKvfoRQm9RKUdugMa28cUIRW3vrMUoQMHKAKzCiA0Eq8nsiLzBpM0KLyEGIMbK2hLBpQi4CjkAMZgO6g_actre9J2C8Lq6zUjTBg1kCZP_4i_NMtpy8jSLXsHImdVCqvMRnPs6FHOO6Bj0zhOMo1ORFZrQcJ--s1RXQ-eMwPgZMICb8dzhYj-gdvZeIR8M146ppQU0Hnxv6355fcIqR83hFjmGVCimrCoiqnGVTl4y4SU1_75BVeXGV4CMsCbFwQAGZ268152c1JtutblJPNgN5yMO32yKnRYX2JJ-_NCdKglib9aS8w8KurkejU3HsgIXQ5HNI8Qp-EMRoTJGNhPo6SHORh2PyXI9hzlWfB_ym_rvrPFuSKEQPyMUuNdeVK71EjRYH4-eGxal7ebUZjjqSJSKHcT7S3Zykl5Mv_eDlXs2nj8_g1QPfOzNvWUSj83Qhbjg_2DYpKcEMwSBBJRz8ZjJqi4vrHm8_DzauHzj2fUjhdEIxa-W1sFdIenCFJoNVOi2kN5UOUCAsIeM2oIMp4b-eM0PGJl78MSsz65h5ygiIwwbrbHyQdlUarxm_ibtlI__mwZxYS3Zo-GYqQ7cOKfnD51ADef1-zUFE3n6-31184P3JLbzc0JadkB16v28PLsMXzMI2-zkZt2YDb2JL3HH6jN-kL7_z_o9RFRKsztIgiJhBBPBbO4BQ2UhMz1IxrHWlP2thOIZLyvi3GoThPhwbUSWOzv-VD2VcmSja21aSaZKTVorz_tms9lvoROE0n55u_WJNqSegj8ITzkqfgveLMLf_riLckS0q0NG9eU5Gz_7nEg6mpeEDZhhNlcCNo-vF_3CZ93VuOjbIQ40EJ-PVXLijuyQ7nSJJBDOMlbErrwUKjN-16P0EOzqK3T7BUpkNgSVExaIJddDDUpAwFd3JSVjwKs_lJrx93BYa_GWK-pa-WNp5bRHfZN0n9hgpBJNOjySjELDasX4TVHX0fm8vGmAEyp0Ft6nY4udSm05EWlHaVKXy9s7HR=w1920-h936\" alt=\"img_2.png\" width=\"1000\">"
      ]
    },
    {
      "cell_type": "markdown",
      "metadata": {
        "id": "j0MGtkL8fo7l"
      },
      "source": [
        "## <b>2) Menelaah Data</b> <a class=\"anchor\" id=\"h2\"></a>"
      ]
    },
    {
      "cell_type": "markdown",
      "metadata": {
        "id": "XNynrirfj6p6"
      },
      "source": [
        "<h4>⬇ <b style=\"color:orange;\">Instruksi</b>: Isi <i style=\"color:yellow;font-weight:bold;\">code-cell</i> berikut agar menghasilkan <b style=\"color:tomato;\">output</b> yang sesuai!</h4>"
      ]
    },
    {
      "cell_type": "code",
      "execution_count": 7,
      "metadata": {
        "id": "ji1FROwMhE6F",
        "colab": {
          "base_uri": "https://localhost:8080/"
        },
        "outputId": "f67f3cbc-6542-4786-ab75-a17c61f833b4"
      },
      "outputs": [
        {
          "output_type": "stream",
          "name": "stdout",
          "text": [
            "<class 'pandas.core.frame.DataFrame'>\n",
            "RangeIndex: 259 entries, 0 to 258\n",
            "Data columns (total 11 columns):\n",
            " #   Column                       Non-Null Count  Dtype  \n",
            "---  ------                       --------------  -----  \n",
            " 0   Sample_code_number           259 non-null    int64  \n",
            " 1   Clump_thickness              259 non-null    int64  \n",
            " 2   Uniformity_of_cell_size      259 non-null    int64  \n",
            " 3   Uniformity_of_cell_shape     259 non-null    int64  \n",
            " 4   Marginal_adhesion            259 non-null    int64  \n",
            " 5   Single_epithelial_cell_size  259 non-null    int64  \n",
            " 6   Bare_nuclei                  251 non-null    float64\n",
            " 7   Bland_chromatin              259 non-null    int64  \n",
            " 8   Normal_nucleoli              259 non-null    int64  \n",
            " 9   Mitoses                      259 non-null    int64  \n",
            " 10  Class                        259 non-null    int64  \n",
            "dtypes: float64(1), int64(10)\n",
            "memory usage: 22.4 KB\n"
          ]
        }
      ],
      "source": [
        "# Menampilkan informasi dari file dataset\n",
        "dataset.info()"
      ]
    },
    {
      "cell_type": "markdown",
      "metadata": {
        "id": "3bcIk4GNj6p7"
      },
      "source": [
        "<h4>⬆ <b>Expected <span style=\"color:tomato;\">Output</span></b>:</h4>\n",
        "\n",
        "<img src=\"https://lh3.googleusercontent.com/fife/ALs6j_EE17jxJ3xOY_hLATP_XG8YcGGy2CZLqbXysMHGP56PDhXi6tcagFbXYA7K3-CpIzSsi3Rdv7hFhNqxGcCiODYUhiOf20C-LdpC0WRVL6UPFver65YJe2UuqdocFZVpKwpMdY7K6Tgq3BdtyWGLATFaJtnsIhtkx2HJeI9_uoNYBhgmiBhaVkjWluUKWoZuaBoxzXsWbNAdmuVAvXbZZV4_3r6amSrtt3xtewEWhNKeS4ZY8Uy_MDlhCt__KUgICal6TYVnbIS2GkV1nklUU3mLgajmvgnR0xfJP84skXMh2Oot77dd9lHwKZlK6sejuEn5kwzdxlDvnE3qD9G3TkIU4iPqjch5M2V50AmWJxTkV1mAGqxKJK3VUg3tjbAtYTwoZEgu1_DdjObb7YrZLYoJRbAa7rkK1CY4IhMvs1KXERzj8z_NczkZR2gFQPOAwCeDj324Xi1f1cSF9TMivV9drC2qajXh3DmTAYi1FAZbTorF8h_gdKaOnjejhrxV-vocJM1xyAhDcme7FWWuhOipNWWJjIDjzT8YiNIqn8cFr9ElXR3Y8MxTSJr-ZOUQyk69vouF32iK1X3n_eYKHW_QP3ujY8x2Qci75mpTNyyRi9KIRknSDXHthUfyy1RtdcgmYIq5U-dUjC-q-unjydTvKiqIc66JRK1kG6FReiFtS9r0PqP-scwFNoGaGNZK3RRoKao9oP8KayjO9HVvW6O7apwa5JKKld3eCfbyDC86izQtssb25X3jZnUG1H5Vozc2PG1YrvW73Sw1yKTcjWVeMIa8BFw0UGR_HFrrs4Eczc9FItt7ZD-0Eny0zATHaCsQoWeadcDo3Zz33XKQrnIOKNE47AVOoCczdJelwL1ythX3WCBTxBkK0kL1jHYxGjCPeRfg2yUceSHXAhQlyffi_13eGAs4qBUYSlpNwcFbYukFklbDl-fEPaEd54LFZ5CpwU8waVGfqO3YC4JfeAHf57VuUW_UKBPSPpGefyNJ68blsr5nKuuTx_TBUAYR6Rupsefv3oqBshi_Swcul6-VdCU_yZNuHY3SoG8-eqJvXoobjaGiYqsa3gypls0-4n0Zh19ddg5OyfoXl-mdgz_2P3Nst0xYMc5zE5bMV7bSCFongKCy75SZ_aJxoiRwVE_DrW6iBbPKLhk8oDBxtexpEKBPA9V-ES7gctFeAnF03c7F5LVjuOA-73IAqXioIWva9wE7_UUlb3Q-TGzdN1xNE6tUbnfKiG3IkwbXEBTaqn4tTz2EAuVrIQSqK0eCPjFsyK6ISwQRgDmu5Lu2F2whWZeZi6ehBFjRZEo-i6tO6Edm8BC_wxQKR2A1EiByUTnpuwJHilj25MPs4lTM-7Km-SJcnwM8rklLUnUg03fFnHpMynTNI8SGM9pshYz4IggQbRA0vV0drqlj5mNMzTpJy2ILa4Y72d8pkS2vnTxZUvUIwX3Zx8Tbc6_TWLbjMgHtQIRpI2o0rOaPhMkNamXMc7BG_5XtW3dfOdYDulahb05gPp2bjG3yKbwm-S9k8xVCLwg5O034lipxy1M2Tw3LdRYLc7Cmq66YBnGd3c3zuajAKJ1x-3QHsO3mt0iilCu7BOvSpg6963iWxb4MDNCEtoRV-xS-9oJNH4OKEMnhXhTzfFx07TEdr-1xegNCYv6hHzp6fFShkUMeIO-xWLYHQ5GSK9Ww5yQ-xvAWC0dugbBt203a9YALZL6l4c800o_s2GdmNZZ1b8ozF7YAJFfnFBavGf3_5aU9IDcymZeBIQL_4zXlMR5grvVrBDcDK7C2qjHwGUioZzCwnAziJX3wV69VTENvrH6uZBXo=w1920-h936\" alt=\"img_3.png\" width=\"400\">"
      ]
    },
    {
      "cell_type": "markdown",
      "metadata": {
        "id": "U7Tr2-ipj6p7"
      },
      "source": [
        "<h4>⬇ <b style=\"color:orange;\">Instruksi</b>: Isi <i style=\"color:yellow;font-weight:bold;\">code-cell</i> berikut agar menghasilkan <b style=\"color:tomato;\">output</b> yang sesuai!</h4>"
      ]
    },
    {
      "cell_type": "code",
      "execution_count": 8,
      "metadata": {
        "id": "Pxd-mJi5hFFm",
        "colab": {
          "base_uri": "https://localhost:8080/",
          "height": 300
        },
        "outputId": "acd19377-4b7a-452f-c7f8-958a833c5864"
      },
      "outputs": [
        {
          "output_type": "execute_result",
          "data": {
            "text/plain": [
              "       Sample_code_number  Clump_thickness  Uniformity_of_cell_size  \\\n",
              "count        2.590000e+02       259.000000               259.000000   \n",
              "mean         1.088443e+06         5.691120                 4.455598   \n",
              "std          5.218200e+05         2.812823                 3.232730   \n",
              "min          6.337500e+04         1.000000                 1.000000   \n",
              "25%          1.016700e+06         3.000000                 1.000000   \n",
              "50%          1.172152e+06         5.000000                 4.000000   \n",
              "75%          1.222464e+06         8.000000                 7.000000   \n",
              "max          8.233704e+06        10.000000                10.000000   \n",
              "\n",
              "       Uniformity_of_cell_shape  Marginal_adhesion  \\\n",
              "count                259.000000         259.000000   \n",
              "mean                   4.583012           3.880309   \n",
              "std                    3.203054           3.192342   \n",
              "min                    1.000000           1.000000   \n",
              "25%                    1.000000           1.000000   \n",
              "50%                    4.000000           3.000000   \n",
              "75%                    7.000000           6.000000   \n",
              "max                   10.000000          10.000000   \n",
              "\n",
              "       Single_epithelial_cell_size  Bare_nuclei  Bland_chromatin  \\\n",
              "count                   259.000000   251.000000       259.000000   \n",
              "mean                      4.193050     5.139442         4.633205   \n",
              "std                       2.679485     3.757722         2.676451   \n",
              "min                       1.000000     1.000000         1.000000   \n",
              "25%                       2.000000     1.000000         3.000000   \n",
              "50%                       3.000000     5.000000         4.000000   \n",
              "75%                       6.000000    10.000000         7.000000   \n",
              "max                      10.000000    10.000000        10.000000   \n",
              "\n",
              "       Normal_nucleoli     Mitoses       Class  \n",
              "count       259.000000  259.000000  259.000000  \n",
              "mean          4.169884    2.644788    3.266409  \n",
              "std           3.377149    2.608365    0.965726  \n",
              "min           1.000000    1.000000    2.000000  \n",
              "25%           1.000000    1.000000    2.000000  \n",
              "50%           3.000000    1.000000    4.000000  \n",
              "75%           7.000000    3.000000    4.000000  \n",
              "max          10.000000   10.000000    4.000000  "
            ],
            "text/html": [
              "\n",
              "  <div id=\"df-62929346-8047-466c-a9dd-cad474a25c41\" class=\"colab-df-container\">\n",
              "    <div>\n",
              "<style scoped>\n",
              "    .dataframe tbody tr th:only-of-type {\n",
              "        vertical-align: middle;\n",
              "    }\n",
              "\n",
              "    .dataframe tbody tr th {\n",
              "        vertical-align: top;\n",
              "    }\n",
              "\n",
              "    .dataframe thead th {\n",
              "        text-align: right;\n",
              "    }\n",
              "</style>\n",
              "<table border=\"1\" class=\"dataframe\">\n",
              "  <thead>\n",
              "    <tr style=\"text-align: right;\">\n",
              "      <th></th>\n",
              "      <th>Sample_code_number</th>\n",
              "      <th>Clump_thickness</th>\n",
              "      <th>Uniformity_of_cell_size</th>\n",
              "      <th>Uniformity_of_cell_shape</th>\n",
              "      <th>Marginal_adhesion</th>\n",
              "      <th>Single_epithelial_cell_size</th>\n",
              "      <th>Bare_nuclei</th>\n",
              "      <th>Bland_chromatin</th>\n",
              "      <th>Normal_nucleoli</th>\n",
              "      <th>Mitoses</th>\n",
              "      <th>Class</th>\n",
              "    </tr>\n",
              "  </thead>\n",
              "  <tbody>\n",
              "    <tr>\n",
              "      <th>count</th>\n",
              "      <td>2.590000e+02</td>\n",
              "      <td>259.000000</td>\n",
              "      <td>259.000000</td>\n",
              "      <td>259.000000</td>\n",
              "      <td>259.000000</td>\n",
              "      <td>259.000000</td>\n",
              "      <td>251.000000</td>\n",
              "      <td>259.000000</td>\n",
              "      <td>259.000000</td>\n",
              "      <td>259.000000</td>\n",
              "      <td>259.000000</td>\n",
              "    </tr>\n",
              "    <tr>\n",
              "      <th>mean</th>\n",
              "      <td>1.088443e+06</td>\n",
              "      <td>5.691120</td>\n",
              "      <td>4.455598</td>\n",
              "      <td>4.583012</td>\n",
              "      <td>3.880309</td>\n",
              "      <td>4.193050</td>\n",
              "      <td>5.139442</td>\n",
              "      <td>4.633205</td>\n",
              "      <td>4.169884</td>\n",
              "      <td>2.644788</td>\n",
              "      <td>3.266409</td>\n",
              "    </tr>\n",
              "    <tr>\n",
              "      <th>std</th>\n",
              "      <td>5.218200e+05</td>\n",
              "      <td>2.812823</td>\n",
              "      <td>3.232730</td>\n",
              "      <td>3.203054</td>\n",
              "      <td>3.192342</td>\n",
              "      <td>2.679485</td>\n",
              "      <td>3.757722</td>\n",
              "      <td>2.676451</td>\n",
              "      <td>3.377149</td>\n",
              "      <td>2.608365</td>\n",
              "      <td>0.965726</td>\n",
              "    </tr>\n",
              "    <tr>\n",
              "      <th>min</th>\n",
              "      <td>6.337500e+04</td>\n",
              "      <td>1.000000</td>\n",
              "      <td>1.000000</td>\n",
              "      <td>1.000000</td>\n",
              "      <td>1.000000</td>\n",
              "      <td>1.000000</td>\n",
              "      <td>1.000000</td>\n",
              "      <td>1.000000</td>\n",
              "      <td>1.000000</td>\n",
              "      <td>1.000000</td>\n",
              "      <td>2.000000</td>\n",
              "    </tr>\n",
              "    <tr>\n",
              "      <th>25%</th>\n",
              "      <td>1.016700e+06</td>\n",
              "      <td>3.000000</td>\n",
              "      <td>1.000000</td>\n",
              "      <td>1.000000</td>\n",
              "      <td>1.000000</td>\n",
              "      <td>2.000000</td>\n",
              "      <td>1.000000</td>\n",
              "      <td>3.000000</td>\n",
              "      <td>1.000000</td>\n",
              "      <td>1.000000</td>\n",
              "      <td>2.000000</td>\n",
              "    </tr>\n",
              "    <tr>\n",
              "      <th>50%</th>\n",
              "      <td>1.172152e+06</td>\n",
              "      <td>5.000000</td>\n",
              "      <td>4.000000</td>\n",
              "      <td>4.000000</td>\n",
              "      <td>3.000000</td>\n",
              "      <td>3.000000</td>\n",
              "      <td>5.000000</td>\n",
              "      <td>4.000000</td>\n",
              "      <td>3.000000</td>\n",
              "      <td>1.000000</td>\n",
              "      <td>4.000000</td>\n",
              "    </tr>\n",
              "    <tr>\n",
              "      <th>75%</th>\n",
              "      <td>1.222464e+06</td>\n",
              "      <td>8.000000</td>\n",
              "      <td>7.000000</td>\n",
              "      <td>7.000000</td>\n",
              "      <td>6.000000</td>\n",
              "      <td>6.000000</td>\n",
              "      <td>10.000000</td>\n",
              "      <td>7.000000</td>\n",
              "      <td>7.000000</td>\n",
              "      <td>3.000000</td>\n",
              "      <td>4.000000</td>\n",
              "    </tr>\n",
              "    <tr>\n",
              "      <th>max</th>\n",
              "      <td>8.233704e+06</td>\n",
              "      <td>10.000000</td>\n",
              "      <td>10.000000</td>\n",
              "      <td>10.000000</td>\n",
              "      <td>10.000000</td>\n",
              "      <td>10.000000</td>\n",
              "      <td>10.000000</td>\n",
              "      <td>10.000000</td>\n",
              "      <td>10.000000</td>\n",
              "      <td>10.000000</td>\n",
              "      <td>4.000000</td>\n",
              "    </tr>\n",
              "  </tbody>\n",
              "</table>\n",
              "</div>\n",
              "    <div class=\"colab-df-buttons\">\n",
              "\n",
              "  <div class=\"colab-df-container\">\n",
              "    <button class=\"colab-df-convert\" onclick=\"convertToInteractive('df-62929346-8047-466c-a9dd-cad474a25c41')\"\n",
              "            title=\"Convert this dataframe to an interactive table.\"\n",
              "            style=\"display:none;\">\n",
              "\n",
              "  <svg xmlns=\"http://www.w3.org/2000/svg\" height=\"24px\" viewBox=\"0 -960 960 960\">\n",
              "    <path d=\"M120-120v-720h720v720H120Zm60-500h600v-160H180v160Zm220 220h160v-160H400v160Zm0 220h160v-160H400v160ZM180-400h160v-160H180v160Zm440 0h160v-160H620v160ZM180-180h160v-160H180v160Zm440 0h160v-160H620v160Z\"/>\n",
              "  </svg>\n",
              "    </button>\n",
              "\n",
              "  <style>\n",
              "    .colab-df-container {\n",
              "      display:flex;\n",
              "      gap: 12px;\n",
              "    }\n",
              "\n",
              "    .colab-df-convert {\n",
              "      background-color: #E8F0FE;\n",
              "      border: none;\n",
              "      border-radius: 50%;\n",
              "      cursor: pointer;\n",
              "      display: none;\n",
              "      fill: #1967D2;\n",
              "      height: 32px;\n",
              "      padding: 0 0 0 0;\n",
              "      width: 32px;\n",
              "    }\n",
              "\n",
              "    .colab-df-convert:hover {\n",
              "      background-color: #E2EBFA;\n",
              "      box-shadow: 0px 1px 2px rgba(60, 64, 67, 0.3), 0px 1px 3px 1px rgba(60, 64, 67, 0.15);\n",
              "      fill: #174EA6;\n",
              "    }\n",
              "\n",
              "    .colab-df-buttons div {\n",
              "      margin-bottom: 4px;\n",
              "    }\n",
              "\n",
              "    [theme=dark] .colab-df-convert {\n",
              "      background-color: #3B4455;\n",
              "      fill: #D2E3FC;\n",
              "    }\n",
              "\n",
              "    [theme=dark] .colab-df-convert:hover {\n",
              "      background-color: #434B5C;\n",
              "      box-shadow: 0px 1px 3px 1px rgba(0, 0, 0, 0.15);\n",
              "      filter: drop-shadow(0px 1px 2px rgba(0, 0, 0, 0.3));\n",
              "      fill: #FFFFFF;\n",
              "    }\n",
              "  </style>\n",
              "\n",
              "    <script>\n",
              "      const buttonEl =\n",
              "        document.querySelector('#df-62929346-8047-466c-a9dd-cad474a25c41 button.colab-df-convert');\n",
              "      buttonEl.style.display =\n",
              "        google.colab.kernel.accessAllowed ? 'block' : 'none';\n",
              "\n",
              "      async function convertToInteractive(key) {\n",
              "        const element = document.querySelector('#df-62929346-8047-466c-a9dd-cad474a25c41');\n",
              "        const dataTable =\n",
              "          await google.colab.kernel.invokeFunction('convertToInteractive',\n",
              "                                                    [key], {});\n",
              "        if (!dataTable) return;\n",
              "\n",
              "        const docLinkHtml = 'Like what you see? Visit the ' +\n",
              "          '<a target=\"_blank\" href=https://colab.research.google.com/notebooks/data_table.ipynb>data table notebook</a>'\n",
              "          + ' to learn more about interactive tables.';\n",
              "        element.innerHTML = '';\n",
              "        dataTable['output_type'] = 'display_data';\n",
              "        await google.colab.output.renderOutput(dataTable, element);\n",
              "        const docLink = document.createElement('div');\n",
              "        docLink.innerHTML = docLinkHtml;\n",
              "        element.appendChild(docLink);\n",
              "      }\n",
              "    </script>\n",
              "  </div>\n",
              "\n",
              "\n",
              "<div id=\"df-ca0d26e9-7aaa-4272-bf54-40e2800d4fab\">\n",
              "  <button class=\"colab-df-quickchart\" onclick=\"quickchart('df-ca0d26e9-7aaa-4272-bf54-40e2800d4fab')\"\n",
              "            title=\"Suggest charts\"\n",
              "            style=\"display:none;\">\n",
              "\n",
              "<svg xmlns=\"http://www.w3.org/2000/svg\" height=\"24px\"viewBox=\"0 0 24 24\"\n",
              "     width=\"24px\">\n",
              "    <g>\n",
              "        <path d=\"M19 3H5c-1.1 0-2 .9-2 2v14c0 1.1.9 2 2 2h14c1.1 0 2-.9 2-2V5c0-1.1-.9-2-2-2zM9 17H7v-7h2v7zm4 0h-2V7h2v10zm4 0h-2v-4h2v4z\"/>\n",
              "    </g>\n",
              "</svg>\n",
              "  </button>\n",
              "\n",
              "<style>\n",
              "  .colab-df-quickchart {\n",
              "      --bg-color: #E8F0FE;\n",
              "      --fill-color: #1967D2;\n",
              "      --hover-bg-color: #E2EBFA;\n",
              "      --hover-fill-color: #174EA6;\n",
              "      --disabled-fill-color: #AAA;\n",
              "      --disabled-bg-color: #DDD;\n",
              "  }\n",
              "\n",
              "  [theme=dark] .colab-df-quickchart {\n",
              "      --bg-color: #3B4455;\n",
              "      --fill-color: #D2E3FC;\n",
              "      --hover-bg-color: #434B5C;\n",
              "      --hover-fill-color: #FFFFFF;\n",
              "      --disabled-bg-color: #3B4455;\n",
              "      --disabled-fill-color: #666;\n",
              "  }\n",
              "\n",
              "  .colab-df-quickchart {\n",
              "    background-color: var(--bg-color);\n",
              "    border: none;\n",
              "    border-radius: 50%;\n",
              "    cursor: pointer;\n",
              "    display: none;\n",
              "    fill: var(--fill-color);\n",
              "    height: 32px;\n",
              "    padding: 0;\n",
              "    width: 32px;\n",
              "  }\n",
              "\n",
              "  .colab-df-quickchart:hover {\n",
              "    background-color: var(--hover-bg-color);\n",
              "    box-shadow: 0 1px 2px rgba(60, 64, 67, 0.3), 0 1px 3px 1px rgba(60, 64, 67, 0.15);\n",
              "    fill: var(--button-hover-fill-color);\n",
              "  }\n",
              "\n",
              "  .colab-df-quickchart-complete:disabled,\n",
              "  .colab-df-quickchart-complete:disabled:hover {\n",
              "    background-color: var(--disabled-bg-color);\n",
              "    fill: var(--disabled-fill-color);\n",
              "    box-shadow: none;\n",
              "  }\n",
              "\n",
              "  .colab-df-spinner {\n",
              "    border: 2px solid var(--fill-color);\n",
              "    border-color: transparent;\n",
              "    border-bottom-color: var(--fill-color);\n",
              "    animation:\n",
              "      spin 1s steps(1) infinite;\n",
              "  }\n",
              "\n",
              "  @keyframes spin {\n",
              "    0% {\n",
              "      border-color: transparent;\n",
              "      border-bottom-color: var(--fill-color);\n",
              "      border-left-color: var(--fill-color);\n",
              "    }\n",
              "    20% {\n",
              "      border-color: transparent;\n",
              "      border-left-color: var(--fill-color);\n",
              "      border-top-color: var(--fill-color);\n",
              "    }\n",
              "    30% {\n",
              "      border-color: transparent;\n",
              "      border-left-color: var(--fill-color);\n",
              "      border-top-color: var(--fill-color);\n",
              "      border-right-color: var(--fill-color);\n",
              "    }\n",
              "    40% {\n",
              "      border-color: transparent;\n",
              "      border-right-color: var(--fill-color);\n",
              "      border-top-color: var(--fill-color);\n",
              "    }\n",
              "    60% {\n",
              "      border-color: transparent;\n",
              "      border-right-color: var(--fill-color);\n",
              "    }\n",
              "    80% {\n",
              "      border-color: transparent;\n",
              "      border-right-color: var(--fill-color);\n",
              "      border-bottom-color: var(--fill-color);\n",
              "    }\n",
              "    90% {\n",
              "      border-color: transparent;\n",
              "      border-bottom-color: var(--fill-color);\n",
              "    }\n",
              "  }\n",
              "</style>\n",
              "\n",
              "  <script>\n",
              "    async function quickchart(key) {\n",
              "      const quickchartButtonEl =\n",
              "        document.querySelector('#' + key + ' button');\n",
              "      quickchartButtonEl.disabled = true;  // To prevent multiple clicks.\n",
              "      quickchartButtonEl.classList.add('colab-df-spinner');\n",
              "      try {\n",
              "        const charts = await google.colab.kernel.invokeFunction(\n",
              "            'suggestCharts', [key], {});\n",
              "      } catch (error) {\n",
              "        console.error('Error during call to suggestCharts:', error);\n",
              "      }\n",
              "      quickchartButtonEl.classList.remove('colab-df-spinner');\n",
              "      quickchartButtonEl.classList.add('colab-df-quickchart-complete');\n",
              "    }\n",
              "    (() => {\n",
              "      let quickchartButtonEl =\n",
              "        document.querySelector('#df-ca0d26e9-7aaa-4272-bf54-40e2800d4fab button');\n",
              "      quickchartButtonEl.style.display =\n",
              "        google.colab.kernel.accessAllowed ? 'block' : 'none';\n",
              "    })();\n",
              "  </script>\n",
              "</div>\n",
              "\n",
              "    </div>\n",
              "  </div>\n"
            ],
            "application/vnd.google.colaboratory.intrinsic+json": {
              "type": "dataframe",
              "summary": "{\n  \"name\": \"dataset\",\n  \"rows\": 8,\n  \"fields\": [\n    {\n      \"column\": \"Sample_code_number\",\n      \"properties\": {\n        \"dtype\": \"number\",\n        \"std\": 2698749.608873264,\n        \"min\": 259.0,\n        \"max\": 8233704.0,\n        \"num_unique_values\": 8,\n        \"samples\": [\n          1088443.4362934362,\n          1172152.0,\n          259.0\n        ],\n        \"semantic_type\": \"\",\n        \"description\": \"\"\n      }\n    },\n    {\n      \"column\": \"Clump_thickness\",\n      \"properties\": {\n        \"dtype\": \"number\",\n        \"std\": 89.82421663719745,\n        \"min\": 1.0,\n        \"max\": 259.0,\n        \"num_unique_values\": 8,\n        \"samples\": [\n          5.691119691119691,\n          5.0,\n          259.0\n        ],\n        \"semantic_type\": \"\",\n        \"description\": \"\"\n      }\n    },\n    {\n      \"column\": \"Uniformity_of_cell_size\",\n      \"properties\": {\n        \"dtype\": \"number\",\n        \"std\": 90.07012107729392,\n        \"min\": 1.0,\n        \"max\": 259.0,\n        \"num_unique_values\": 7,\n        \"samples\": [\n          259.0,\n          4.455598455598456,\n          7.0\n        ],\n        \"semantic_type\": \"\",\n        \"description\": \"\"\n      }\n    },\n    {\n      \"column\": \"Uniformity_of_cell_shape\",\n      \"properties\": {\n        \"dtype\": \"number\",\n        \"std\": 90.06526845345255,\n        \"min\": 1.0,\n        \"max\": 259.0,\n        \"num_unique_values\": 7,\n        \"samples\": [\n          259.0,\n          4.583011583011583,\n          7.0\n        ],\n        \"semantic_type\": \"\",\n        \"description\": \"\"\n      }\n    },\n    {\n      \"column\": \"Marginal_adhesion\",\n      \"properties\": {\n        \"dtype\": \"number\",\n        \"std\": 90.19970661215861,\n        \"min\": 1.0,\n        \"max\": 259.0,\n        \"num_unique_values\": 7,\n        \"samples\": [\n          259.0,\n          3.8803088803088803,\n          6.0\n        ],\n        \"semantic_type\": \"\",\n        \"description\": \"\"\n      }\n    },\n    {\n      \"column\": \"Single_epithelial_cell_size\",\n      \"properties\": {\n        \"dtype\": \"number\",\n        \"std\": 90.15616350490353,\n        \"min\": 1.0,\n        \"max\": 259.0,\n        \"num_unique_values\": 8,\n        \"samples\": [\n          4.193050193050193,\n          3.0,\n          259.0\n        ],\n        \"semantic_type\": \"\",\n        \"description\": \"\"\n      }\n    },\n    {\n      \"column\": \"Bare_nuclei\",\n      \"properties\": {\n        \"dtype\": \"number\",\n        \"std\": 86.99736158236549,\n        \"min\": 1.0,\n        \"max\": 251.0,\n        \"num_unique_values\": 6,\n        \"samples\": [\n          251.0,\n          5.139442231075697,\n          10.0\n        ],\n        \"semantic_type\": \"\",\n        \"description\": \"\"\n      }\n    },\n    {\n      \"column\": \"Bland_chromatin\",\n      \"properties\": {\n        \"dtype\": \"number\",\n        \"std\": 89.981716833565,\n        \"min\": 1.0,\n        \"max\": 259.0,\n        \"num_unique_values\": 8,\n        \"samples\": [\n          4.633204633204633,\n          4.0,\n          259.0\n        ],\n        \"semantic_type\": \"\",\n        \"description\": \"\"\n      }\n    },\n    {\n      \"column\": \"Normal_nucleoli\",\n      \"properties\": {\n        \"dtype\": \"number\",\n        \"std\": 90.12877237520445,\n        \"min\": 1.0,\n        \"max\": 259.0,\n        \"num_unique_values\": 7,\n        \"samples\": [\n          259.0,\n          4.1698841698841695,\n          7.0\n        ],\n        \"semantic_type\": \"\",\n        \"description\": \"\"\n      }\n    },\n    {\n      \"column\": \"Mitoses\",\n      \"properties\": {\n        \"dtype\": \"number\",\n        \"std\": 90.54522924822531,\n        \"min\": 1.0,\n        \"max\": 259.0,\n        \"num_unique_values\": 6,\n        \"samples\": [\n          259.0,\n          2.6447876447876446,\n          10.0\n        ],\n        \"semantic_type\": \"\",\n        \"description\": \"\"\n      }\n    },\n    {\n      \"column\": \"Class\",\n      \"properties\": {\n        \"dtype\": \"number\",\n        \"std\": 90.55564893317727,\n        \"min\": 0.9657261408590984,\n        \"max\": 259.0,\n        \"num_unique_values\": 5,\n        \"samples\": [\n          3.2664092664092665,\n          4.0,\n          0.9657261408590984\n        ],\n        \"semantic_type\": \"\",\n        \"description\": \"\"\n      }\n    }\n  ]\n}"
            }
          },
          "metadata": {},
          "execution_count": 8
        }
      ],
      "source": [
        "# Menampilkan deskripsi dari file dataset\n",
        "dataset.describe()"
      ]
    },
    {
      "cell_type": "markdown",
      "metadata": {
        "id": "vtaDX2yij6p7"
      },
      "source": [
        "<h4>⬆ <b>Expected <span style=\"color:tomato;\">Output</span></b>:</h4>\n",
        "\n",
        "<img src=\"https://lh3.googleusercontent.com/fife/ALs6j_HvYOv1YbS6zOSkUnuOviLqnkp8wltIVsr4mAvju3dck58oQgqtx7YuNds2d14gc_Jttc9Aemz35oPbzA_87kvGf3UMuB3CG6OK3DL7VzqsyEuEKjxwuO-qTr944FED-B02kr8g6N7NHJzhW4z7TbN_N43OtczCJEv5gm1LnwvvbUTO2tvwN2tWY6nN_Om4DCJ7SojK6LSqZRzIMQu_9gmTToJJF_mCC8n0PpVS3-t3bOW2qptfE3xUvElXWE0aahn1vxMWYY61Pyjftohlv0s3pj8y2J5YnDPZ9Df7XB99CRSEzmCqVRGdzUd9MgbFVVLgNcR1IRF6GiUa2iYQIEl3IpwEifru3PiGFqrdVYo_lvgIkON0BQrJ5tti6svAg8wrPXVnsB6jpS8yMG_HsIAnoKzwBIY544KfB1r9CQU2xPteXJ9EYql1cQRSuT8OKViK3NnJf7P99pHSKSdFEre8xQy4aYq36y7Msdr-N0gmcYxbe2ncd3Iu4Fk0WA8SDdUtoWGiSxHjUUcLTg-PgxAlgyik8q38gpP_zhYJ97gIFzBGC_FNwNULEvthZ9ghr8mjDIEOqJciDM1hagDfHrfV2UoO7CwamMEA6JqpB09ELcmlLVIcl1fgxY29hHfz65Fj-f5wUgq0YelDro6-f0st9qFN5yhnJGRP0XUBKzm6jTdwkCUzByf7zNk2YSxH2rw2MBZyGh5iViWtWyVImiZBE5qXPw56Xyk9ER4gutV3OHLCugID9SaVySN8L1J_tR-EMnR5q8f40SCvJnuOiH02L06bDbi5H6Hy4YcoMl0bUiiDitk8q8UIVN4ob1eDpkVJMJsqly_UPZJOAyEVV1dDoSErW_GEXZbSS0rirwLaJFbqt0mTdTIiqXCTIbVNvzU-sNI4QvHJeIVzoc1oZ5QnPVHoK_6aCwmFCoO5N7iErJ1tEAUG4qv20h_hiN1uv3skqvNkBgUWr3YeMVADhQQ13Znk5W3FVqUzXxEx73fvBzclvorTV4IjYF-MrCzfETlGwU3ZEmwzeMtLx89SDV1jP4kXd6I5DP3gaTnmrLDGu97K67VoZnO0AFaiUqo8VSEQu8LUYNc0amem-qoP6Yp9AFlcaVWOCXNt_LXobd_ZJTfm9Kfei1Y4GXqrXEL51aenhhJUHSMNtJ21lD_vLQxVHJBki4yOzNCa72-H1fp1vU0i4inBV7VA2RnK-LXDpinXjdTPNk7FPtXwvm5s7p68ESwrMDFQvh7ZoHQJbZ3y9k99pSRBz31k1xtfRN6-GS3UbXgL5e0dGgWqM5VrQtpWngsKNFw-CCHaUQqzfAlgHMhcT_a6AKxidfgqFEf0bomQlX6R5fIVNqp0iymcANQSpYTQ_uN5WTELICzAQQntj_dqfZH4bo8pRcQDa92drnV-Ci2fKKTiXOu96o8b-dalYmaOt20OC209Zy9V48ik1_S5M82ZwYG_xFGSVdpNvzxefu4F4UQokve5Rv9p-NEUmOvpGGMAXeKuE9tjos08FtK_R1BhbI0fhCqxzhhiaoZ-RBbwBfCt0wJtdPMrFNFSW-TEGXMh9x1f5BG_lzsc3ySQN0-k-1bliaACHWy8nPjkvvG27YQ0hX2LRRXMsSc21qUUZuKfKGv46tXjXrTETzx45I67SNL2DQruBXNLd-iA67szKgWwbW4K0aAmbAVOl3MNdGKK3EaNq6BTp88UCnAzSUHcDTi3uZTO-AZuUP_YZmOQZIhINwtXX9O-B4nZN29t3JRjc2evU3Y2f3GPdTcx_qsdsoGAsZQgAvEGa8wjHkFrNh1U5BqJVX6gY7XoBpQbDSq8A0Raz5Yi=w1920-h936\" alt=\"img_4.png\" width=\"1000\">"
      ]
    },
    {
      "cell_type": "code",
      "execution_count": 9,
      "metadata": {
        "id": "cySMcW0fhFav"
      },
      "outputs": [],
      "source": [
        "import seaborn as sns\n",
        "import matplotlib.pyplot as plt"
      ]
    },
    {
      "cell_type": "code",
      "execution_count": 10,
      "metadata": {
        "id": "4FeV3Bfb7j1L"
      },
      "outputs": [],
      "source": [
        "# tuliskan kode program untuk Menampilkan distribusi kelas dari semua fitur\n",
        "# dibawah adalah contoh kode program untuk fitur 1"
      ]
    },
    {
      "cell_type": "markdown",
      "metadata": {
        "id": "yX51NeISj6p8"
      },
      "source": [
        "<h4>⬇ <b style=\"color:orange;\">Instruksi</b>: Ubah \"<b style=\"color:yellow;\">[fix_me]</b>\" dengan code yang benar!</h4>"
      ]
    },
    {
      "cell_type": "code",
      "execution_count": 11,
      "metadata": {
        "id": "GZjbwz10j6p8",
        "colab": {
          "base_uri": "https://localhost:8080/",
          "height": 596
        },
        "outputId": "4d63d339-999a-40b0-822d-d293e789b452"
      },
      "outputs": [
        {
          "output_type": "display_data",
          "data": {
            "text/plain": [
              "<Figure size 700x600 with 1 Axes>"
            ],
            "image/png": "[encoded data removed]"
          },
          "metadata": {}
        }
      ],
      "source": [
        "sns.set_theme(font_scale=1.0)\n",
        "dataset['Clump_thickness'].value_counts().plot(kind='bar', figsize=(7, 6), rot=0)\n",
        "plt.xlabel(\"Clump_thickness\", labelpad=14)\n",
        "plt.ylabel(\"Jumlah\", labelpad=14)\n",
        "plt.title(\"Distribusi\", y=1.02);"
      ]
    },
    {
      "cell_type": "markdown",
      "metadata": {
        "id": "0ZDN8Alxj6p8"
      },
      "source": [
        "<h4>⬆ <b>Expected <span style=\"color:tomato;\">Output</span></b>:</h4>\n",
        "\n",
        "<img src=\"https://lh3.googleusercontent.com/fife/ALs6j_FEAoR22pMbA3KZbjuu-7xLlBZm1o6CUfch0ksEqkXNRzNFADesqYl0DfwiYkoIHumjzmqsOMvIa8i748RiBnyCnQhU4_AEo1Dd1GBpmiSiAJIvzRuTJUNxoQMJ5mgpUoVjSYbjNY93zlKa8i5F7aJuakHWq_gUf1X2pukhsNUk40J-8HJ5dlSn34phgrPxE3RM_YWrXgBbCSohNCrSuLlwgpjAXUg2AnnO81ofMwzPq8e6_rEdZI5qHNjS4zQuJM-0roXqBhUVs1HJIbgN64ZEbfCTb39EEdw70RungONwFsyT33G3jDE0Hcq1FQwTyMtVSZLpD1sEblN_YtKTIR6ebkAwBGc0EkPC2WIxCypaxdckuUGw7-StVewR1lR3Vw-40WRYSIKXSy5kqrGRfrrdSe4p67gUJcATSKXXlgF1j5BU7G34kSuZG1y1Uxbo5Vs4UvrOfM_DicY9J_TCuhtf-29XjrWMxNFdHjRvz8r5BJ7jWLioxqZVy9NAjtFeZIXGfVJalBzPss4_SyCQIRvlwgH3ym7rwaqZXFVc057fGrqdBlJvkdWIAcKalXBPrUF_AGAZ28ANlTmkla5aQyyyubVqV2y-Dk3CjkVehiUxMXN-nZk6V1tViiZtnCIMuX5NKmwCuA36DEJHYZSzJJ7c6TrMIBs8zKMVwMPeLMD7dskXvWcla43sO9PZ8H7D_izZXOITq35oYcwCPU8iS6g7VfsJ2R4bUVJ3KdZsSdye0fcD7K2o-zkbqol8EkCLKUOo8GFJdCht_D307h8l7rUawsMK8VWUb0mEyc9EIc7GXvmhCS-TaorUPtoAMX93M4s_oNo3ItgI5kDPJZQTs-Lq9XqelsC6mEarZx0zAciKlRnYhu9RmcdMA_9ZGPP1e3FHpsqzUxWlvVTAZacOon6uqDj_1jzJQgkWoYXBaSy23wHmmtOoVv21nJ8uQFT8_mnrOaSnpf2ADbb7h-6mLf8tl90yWSOS1MRimQqga8qHFF1Oy5WY2aypjGRidGhzUv88C-_uLTZlROC1fLvYFphtnjRRuBy9FqUvRy8SFn_2rTVmVAEIcxkhlodZ3Gh3HuU8yEaqNuTUvIrif7sdZZxBQsv7lQRVuoSh1lfVFnz7axOBvtQX03OEgl7_ebVeWVzNlwZuljt6aTd5GvwoL5SAxgBZpuaPNtNpGbpY92A7_5J1-Ij3Zscm0kjGZhsbnWsRSOusS-x4eWRnk0WDEO5iOPP0xZnvOesaJoExnVbWhBi_yTqdSVcJ0Z6qTO6kitmnzZOiIvHDudK5PlhOJBdVSh1G5yT-ZbUoLhYmsiJMC6_gAXkoOUB_PwhqT9DvcEQ-Bti_6hjJpYKzhWe8SOLTI7PI9IzY0V_JOCfW7ZtNa8wpZSIx2-cv3m3Ho_ZXNglrnMfs4i37HZqpzFrEnMlTfWz3zUKZ8WUkcYz67mXTsu7AfFPCAcOE1xt0Yv47atLhXp8YnV8da_FHlZdl3M-PJ1d6RKqO7hJMOOcRfNxnvsZTXOkiZ-cI4w8ApuMvROUB0G9bp1y_-Ewb4L5lxbSqhUDNCxztXEfpYaDP7zWTYLo5GvfFV7HF5vaIgYNNU-BepjMDxDJ_EDIJgklwViHL6O4oRoqoDm9_hO5aky1PLnGRuF3qZ5V9PWlIwQM2KGNB5sdu4rJhseZ6iqjpZA-EF20aySeYcPe-nbTb094Av7yerzYFCPeB7IzHifFW9tWSiYbX6u8WyUFFHTxT2N368bhRFPq17Y8Mb36uA_8Ed9IhWz5rRcmIDWZK9NVm9cdmbCghjzZL8JeKQtEZJffzcWizPQP95SgavWkx=w1920-h936\" alt=\"img_5.png\" width=\"600\">"
      ]
    },
    {
      "cell_type": "markdown",
      "metadata": {
        "id": "FuVtVwi1j6p8"
      },
      "source": [
        "<h4>⬇ <b style=\"color:orange;\">Instruksi</b>: Isi <i style=\"color:yellow;font-weight:bold;\">code-cell</i> berikut agar menghasilkan <b style=\"color:tomato;\">output</b> yang sesuai!</h4>"
      ]
    },
    {
      "cell_type": "code",
      "execution_count": 12,
      "metadata": {
        "id": "AsphAmudhdUS",
        "colab": {
          "base_uri": "https://localhost:8080/",
          "height": 596
        },
        "outputId": "0b7ed332-eb62-4ba4-8a70-ea33ea3faa94"
      },
      "outputs": [
        {
          "output_type": "display_data",
          "data": {
            "text/plain": [
              "<Figure size 700x600 with 1 Axes>"
            ],
            "image/png": "[encoded data removed]"
          },
          "metadata": {}
        }
      ],
      "source": [
        "# Tampilkan bar-chart dari distribusi atribut Uniformity_of_cell_size\n",
        "sns.set_theme(font_scale=1.0)\n",
        "dataset['Uniformity_of_cell_size'].value_counts().plot(kind='bar', figsize=(7, 6), rot=0)\n",
        "plt.xlabel(\"Uniformity_of_cell_size\", labelpad=14)\n",
        "plt.ylabel(\"Jumlah\", labelpad=14)\n",
        "plt.title(\"Distribusi\", y=1.02);"
      ]
    },
    {
      "cell_type": "markdown",
      "metadata": {
        "id": "Mo2E3Ihhj6p8"
      },
      "source": [
        "<h4>⬆ <b>Expected <span style=\"color:tomato;\">Output</span></b>:</h4>\n",
        "\n",
        "<img src=\"https://lh3.googleusercontent.com/fife/ALs6j_GdozB88Z3hzTyQ77vh_qiwlxfP9Iouhpd7v8MqBoyN9CaIUkcBx2H6rKZ8Z4OxiNJ-tLmO5CW8IWMmrIZAGUOdRdYbIT2z9gmhtxDBZzUh40AmuFA8FNDre0u-yrR1J3pyAzWu84hp3XvAk_p7wmYJB1D2sOa5sggcd4nh1IIGQVSPMHEP0U6rkPqkis_LJ9W77e0kbs4OYwPVa74map5WU6ucpmRHVIk69Pb6hDB1kb_Dxu137gY3Pz8IwTR6ePSQDxdv3oCLmTnZII2Z6AN268L9XQeWHx6yBnBlvmZdsUZG4w0GtkGaJwa0tAncKaXHc1LKQu13QnufaESyvb5q9rYmSUvA7b3LIV_M9tg-Xz1Ql44ay80jb33u8-5dxH_I2a2ugtYavP9rRB6YijVdcj3F1gWc1biR5Gro5449_ObNx5XmxPNyz12NcxSfssCQt43CiBotq-kuT-So_4mPcWGmgthcRQrGVX2qVv8Nf_ZFWRTq0UdcCfrhRqaoZEecXmS9cO8_u1OSNahWgGXFrQWA5ET9LcMj2Ci9Z18EDaZv9RRrNEtC-mab7paM8MgHM50tT4h9hW5tOISEadKhuwGzbn4VObeX-kH0PsWiOuwXcpQIGg2Nk2ZH1GCVmIU-z2JDpzR_e6xdRoXlezIyskbXgvaVDKLkfkt2k2rzEVydf69t1DEIYo4UXGuKlqMnhmNKwLbPu_7_aN-qVDu4jfSPoJJXqXxoSvjhkHSZSnJ21aqXydwM-BYecbqW1XbpAko4H6lDAVqJGQ6rSwjAtzEsHcMFEqGskfD-lCE3xmk1TqaK8YXEwroVDqt-yMwGr2V-gZvicggbXddZuAWrF4rd9TFWQw_MpiD4p-7Tnoshjk5QOJ5lEYEQlxUvMSwoMFXZ0zgEj8FpTrkjZ1edjwxzP8sjwXR3TiKCYpVsrdVjxh3aCeIkDyHGbfP6wYj9Bpuz3GWQ081810UsaD46p21_x0R1fxE3xBJPxvERVjEhIHfl-xZeFu-OQts4d2egyfrVJgU9iFW-WwfX8W5BdrL5RZwlC1jkzAkLAsfdrl0_T8H52PvFM_lzkkcL-5XCJcSmY4G-eoZ3KK9sdprAUe-exWzU1IeGS-uTZViECHLvSv8LPv8CO5KwnUq1jqw76NECXGVq4_YZgImFP4d_2RyM3-_xGB_3yacEfFFkxKmAt311FPIfIQ3mNo1ic3s0n-UTkekdx8ak2ZeUz1kF6GkQaQsKFR-AQ94mtOyuMtO2hH6WnNdVsXLOVTUySvfJfUHSI5ULQiaUBvs7vDtddglNmXP2eQVB-YCix27jVBMmwkwcO2ls3k8EiYIj-cUiqxCwDOSFVmcZ3bupKfxJGhbbiAR41qnm5EgvjXM7J5g6gtwP5qM_mRaGry4ls9v8VllfWTycp34O_QaNlrgWrrwHAD-7YtLt8q0FFPUfOKd0DUm38_B9tv23x-voc0RULGUHzqBKxs3eDNZ25u3XUB9SuEZ94afMERz64Sap69xs5af3oBMFUgROrv9fRJ5h3Gkwb8uxgcI3jgItxZLwJ12GdbuoeyoqV8PdWMBCxPqr9UufNQ54nqIel7fRgCQ2K0rcguH3HkN8YDb9N1WW-THrcC4oNpCCeOtPxoFgLZa3VsI2xQ5qxZBGOnrLzwnkM-uUAU0eJePeAaLLKqeVBHFo8IFq7poldAOXc-Qs-xCJEi_NAxfOYgK4GyY4qeCjjhJ29j5nzUHHzEl3VEu0y7e3jP9ELxZkVKG3-tsz1JW6ORy19kKizyuZX_mMtD4JiJgfzzBUcbx5WVvbgqyXWD0GrB_EyhXGj0MS=w1920-h936\" alt=\"img_6.png\" width=\"600\">"
      ]
    },
    {
      "cell_type": "markdown",
      "metadata": {
        "id": "iPeldI9Vj6p8"
      },
      "source": [
        "<h4>⬇ <b style=\"color:orange;\">Instruksi</b>: Buatlah <i style=\"color:yellow;font-weight:bold;\">bar-chart</i> untuk <b><span style=\"color:tomato;\">9</span> fitur/atribut</b> lainnya!</h4>"
      ]
    },
    {
      "cell_type": "code",
      "execution_count": 13,
      "metadata": {
        "id": "OUbVTHXSj6p8",
        "colab": {
          "base_uri": "https://localhost:8080/",
          "height": 596
        },
        "outputId": "da09a8cf-7714-48d4-cf7c-6ac80ffe1955"
      },
      "outputs": [
        {
          "output_type": "display_data",
          "data": {
            "text/plain": [
              "<Figure size 700x600 with 1 Axes>"
            ],
            "image/png": "[encoded data removed]"
          },
          "metadata": {}
        }
      ],
      "source": [
        "# 1. distribusi atribut Uniformity_of_cell_shape\n",
        "sns.set_theme(font_scale=1.0)\n",
        "dataset['Uniformity_of_cell_shape'].value_counts().plot(kind='bar', figsize=(7, 6), rot=0)\n",
        "plt.xlabel(\"Uniformity_of_cell_shape\", labelpad=14)\n",
        "plt.ylabel(\"Jumlah\", labelpad=14)\n",
        "plt.title(\"Distribusi\", y=1.02);\n"
      ]
    },
    {
      "cell_type": "code",
      "execution_count": 14,
      "metadata": {
        "id": "nhjedNYNj6p8",
        "colab": {
          "base_uri": "https://localhost:8080/",
          "height": 596
        },
        "outputId": "e85280fd-1c1e-4b16-e50f-a16e5a939602"
      },
      "outputs": [
        {
          "output_type": "display_data",
          "data": {
            "text/plain": [
              "<Figure size 700x600 with 1 Axes>"
            ],
            "image/png": "[encoded data removed]"
          },
          "metadata": {}
        }
      ],
      "source": [
        "# 2. distribusi atribut Marginal_adhesion\n",
        "sns.set_theme(font_scale=1.0)\n",
        "dataset['Marginal_adhesion'].value_counts().plot(kind='bar', figsize=(7, 6), rot=0)\n",
        "plt.xlabel(\"Marginal_adhesion\", labelpad=14)\n",
        "plt.ylabel(\"Jumlah\", labelpad=14)\n",
        "plt.title(\"Distribusi\", y=1.02);\n"
      ]
    },
    {
      "cell_type": "code",
      "execution_count": null,
      "metadata": {
        "id": "kIsQoTLIj6p9"
      },
      "outputs": [],
      "source": [
        "# 3. distribusi atribut Single_epithelial_cell_size\n"
      ]
    },
    {
      "cell_type": "code",
      "execution_count": null,
      "metadata": {
        "id": "-D8Mpcl6j6p9"
      },
      "outputs": [],
      "source": [
        "# 4. distribusi atribut Bare_nuclei\n"
      ]
    },
    {
      "cell_type": "code",
      "execution_count": null,
      "metadata": {
        "id": "3VFTQtbWj6p9"
      },
      "outputs": [],
      "source": [
        "# 5. distribusi atribut Bland_chromatin\n"
      ]
    },
    {
      "cell_type": "code",
      "execution_count": null,
      "metadata": {
        "id": "Lt5ed005j6p9"
      },
      "outputs": [],
      "source": [
        "# 6. distribusi atribut Bland_chromatin\n"
      ]
    },
    {
      "cell_type": "code",
      "execution_count": null,
      "metadata": {
        "id": "4YsQmZ0Jj6p9"
      },
      "outputs": [],
      "source": [
        "# 7. distribusi atribut Normal_nucleoli\n"
      ]
    },
    {
      "cell_type": "code",
      "execution_count": null,
      "metadata": {
        "id": "CsAsrFgDj6p9"
      },
      "outputs": [],
      "source": [
        "# 8. distribusi atribut Mitoses\n"
      ]
    },
    {
      "cell_type": "code",
      "execution_count": null,
      "metadata": {
        "id": "_aRciM-Ij6p9"
      },
      "outputs": [],
      "source": [
        "# 9. distribusi atribut Sample_code_number\n"
      ]
    },
    {
      "cell_type": "markdown",
      "metadata": {
        "id": "DQn2DxOKj6p9"
      },
      "source": [
        "<h4>⬇ <b style=\"color:yellow;\">BONUS STAGE 1 <span style=\"color:tomato;\">(Challange)</span></b>:\n",
        "<br><br>\n",
        "Seperti yang bisa kita lihat diatas, kita tidak dapat memperoleh infomasi yang berarti dari bar-chart <i style=\"color:yellow;\">Sample_code_number</i> tersebut.\n",
        "<br><br>\n",
        "Maka dari itu, Buatlah <b style=\"color:orange;\">bar-chart</b> lain untuk atribut \"<b style=\"color:yellow;\">Sample_code_number</b>\" dengan mengelompokkan data yang memiliki kesamaan seperti contoh di-bawah!</h4>"
      ]
    },
    {
      "cell_type": "code",
      "execution_count": null,
      "metadata": {
        "id": "7qq15T3jj6p9"
      },
      "outputs": [],
      "source": [
        "# Tampilkan bar-chart dari distribusi atribut Sample_code_number seperti contoh di-bawah\n"
      ]
    },
    {
      "cell_type": "markdown",
      "metadata": {
        "id": "-BCqqkVBj6qB"
      },
      "source": [
        "<h4>⬆ <b>Expected <span style=\"color:tomato;\">Output</span></b>:</h4>\n",
        "\n",
        "<img src=\"https://lh3.googleusercontent.com/fife/ALs6j_EpRyK76CJDFmRQAe8H7hTbaqprFC4PlO166_FZmlZLLyfgT_tB6Plu01ra9POPXzwJezNflnesI0dLMywuFwYuVGLdNqISeYeqvhE2pKt-p5DJ4WatesOcgfa8FCYUg8mR5fWef1oZey9ATGrew79iO1zse0vUf0S2w5Wk2YCnXz3BAoU9JBOdzHgYiHdyQLzi_KU0pChy4nUBRTrGEKElYs77XReiOrvYP4hSNOKEKi5-GHhIRqJCkQb5qvS7D2U-WgvwlQXCMNzkUeFyazrZHHmRbJhwD_jvzGA2BemMqG3BtiHUOFfoE8f8UtXog5rCmdfkftWg2BpZ3KWyElYkN9ESwsJbumjz7RL8gNX5XU-Z2PQoqRlEdWipkUpUlOZbvKJsPLARJhsUblu2kJNhjUqhhsdHYgXUppmM7bVNAOVypdsdN9XNf8uoRNEedtgS6ZpqStCRRwXw7qjc-6nW8GbYW15X2hmnumdHIsgleLebPXuAySkDTTLBg8jZ8S3cFlLKJmTt2dm2J1bdnFCLeiHLS_-Fa68p5DMy_jLpZPLJpapBg7fCl4kFFMyBfc9maj7CPO5l0hpqsak3ENDFg2pH-S4H3UDosAlM9z_1iRM4bqV9gwPq9R04UDfKiuMDZMXg7o-RE1u2kpxmXsdsPGdEYTeIcgWem_OhZuSI3_98dZ6du4Yd-K08KbDmolnUxcVYVGzKigJ_2uURs00Hn3B4kXGafh67zcNrx_M9i8bCVKYfoc2w-DSrvahJioOFSg79MXu2yRCvD9tvlGRxeeqb6MmBfwN_76ssWEGigfuwMyzKX1BkoB2vkAealY5pRXjtNVXtea5gdhMRvU2X0ZPcH14Lp-NRzCAMSr0EfJB4-XGRgGa7rMI3-jMFbyplJU_YqpJJv5HfxJRMl7CYEyLfwNi6fJEFh3qn4-2t7K0UAq-n8Y9hMfH50lmsUjbn1QS3Z3-ICUKKChIc0d4OT0axOkKd5c08f1FLdEgm4sU1sw8HKusxUONcvROe6CerAV1VltpFnD69zaeHoZ4wBlsBDL84TVNovf-S750hDWmj8KmhEyvL7D9WAKkh4TLe77C8mT6_HI2E4uVIoBGgPH6L6KwfjeXeE2c4eRTUBpmC1AzyfiPv-bW0pGDXB_WGbW4T5BRpJ9gu3RWshKj_mf2btiAF37qVk2Tuzuyox7Jg01UkZgaKphMFOCoGgp0c7MbwxHAPDdlVvWyXSjuF1abDW52Kr1FqGPIG7Dx4qJ3cKQALoHm2s1i1OIzpj5Dm8ZOyF7P1khvEI-fO3UiojeyrLc8KslUO6Nd8wpHONJBSG59PkPqQYWnT5lg-j0LohCfWyp0gVgKwxhSp1Z55l45eDDBtkx6X85rPTaUHq6BvBU_1k6uFaYz-IWxQBb96D-7aJqtfdakk7UlsPMmFRrV2zWm--hVsbyYOEmHbWW26dmY55Cn4gQcVfzPDb9l9Kl7BjW_cgIpXBzs3w5GXlinpVmTH68AdV1e4QtnPrtNhB6GbtC08fsBqozM3NXtu8VYa3dgc6cHryeCy4K-dcVPEU58AYEdUfOKsD0ZG_MNpPHRvqhpieLNXszitTNjPQDxwpJrm1aGT1FjHTEjjK6CaLWNHWN_RIvNbaK4aIn_vAk4wFoceZW-D6NGIrglAPQ1sLA-xA8xwao6iGwbUVX-mdsbV7BdI4ffMbyKCnISz0LMoo76EkhIgvfSr2Wg8nF9BxDDC0qX-9fo5uOnwO7BLLEp2MosTvUibtFkPAaTl0rnVXR-LL-kgvwFODHpzz36w-dTlJexZ4wXw8YWbvBNpHPnniOBLwPs=w1920-h936\" alt=\"img_7.png\" width=\"700\">"
      ]
    },
    {
      "cell_type": "markdown",
      "metadata": {
        "id": "fQj8xFobgKiR"
      },
      "source": [
        "## <b>3) Memvalidasi Data</b> <a class=\"anchor\" id=\"h3\"></a>"
      ]
    },
    {
      "cell_type": "markdown",
      "metadata": {
        "id": "zzxd6p8z73bT"
      },
      "source": [
        "<h4>Dalam aktivitas ini, Anda harus dapat melakukan pengecekan atas data yang Anda gunakan apakah terdapat missing value, noisy data, atau data yang tidak sesuai lainnya</h4>"
      ]
    },
    {
      "cell_type": "markdown",
      "metadata": {
        "id": "7aPxo2GIiA3W"
      },
      "source": [
        "<h4>\n",
        "  ###<b style=\"color:yellow;\">Essay 1</b>\n",
        "  <br>\n",
        "  Deskripsikan Temuan Anda disini:\n",
        "</h4><br>\n",
        "\n"
      ]
    },
    {
      "cell_type": "markdown",
      "metadata": {
        "id": "MZuBPyx6j6qC"
      },
      "source": [
        "<h4>*Lihat <b style=\"color:yellow;\">informasi dataset</b> pada file \"<span style=\"color:orange;\">breast-cancer-wisconsin.names</span>\"</h4>"
      ]
    },
    {
      "cell_type": "markdown",
      "metadata": {
        "id": "wQlAuK12gTC4"
      },
      "source": [
        "## <b>4) Menentukan Objek Data</b> <a class=\"anchor\" id=\"h4\"></a>"
      ]
    },
    {
      "cell_type": "code",
      "execution_count": null,
      "metadata": {
        "id": "sRgJ6YfSlNg7"
      },
      "outputs": [],
      "source": [
        "import numpy as np"
      ]
    },
    {
      "cell_type": "markdown",
      "metadata": {
        "id": "ieN8mIS4j6qC"
      },
      "source": [
        "<h4>⬇ <b style=\"color:orange;\">Instruksi</b>: Ubah \"<b style=\"color:yellow;\">[fix_me]</b>\" dengan code yang benar!</h4>"
      ]
    },
    {
      "cell_type": "code",
      "execution_count": 15,
      "metadata": {
        "id": "iErX-5_6jaND"
      },
      "outputs": [],
      "source": [
        "#menghapus fitur yang tidak dapat digunakan\n",
        "columns_to_drop = ['Sample_code_number']\n",
        "dataset = dataset.drop(columns_to_drop, axis=1)"
      ]
    },
    {
      "cell_type": "markdown",
      "metadata": {
        "id": "QqUexgpfj6qC"
      },
      "source": [
        "<h4>⬇ <b style=\"color:orange;\">Instruksi</b>: Isi <i style=\"color:yellow;font-weight:bold;\">code-cell</i> berikut agar menghasilkan <b style=\"color:tomato;\">output</b> yang sesuai!</h4>"
      ]
    },
    {
      "cell_type": "code",
      "execution_count": 16,
      "metadata": {
        "id": "oQZf44DmjvbN",
        "colab": {
          "base_uri": "https://localhost:8080/"
        },
        "outputId": "4182c2da-7311-47c6-a6fd-02a42e82a219"
      },
      "outputs": [
        {
          "output_type": "stream",
          "name": "stdout",
          "text": [
            "<class 'pandas.core.frame.DataFrame'>\n",
            "RangeIndex: 259 entries, 0 to 258\n",
            "Data columns (total 10 columns):\n",
            " #   Column                       Non-Null Count  Dtype  \n",
            "---  ------                       --------------  -----  \n",
            " 0   Clump_thickness              259 non-null    int64  \n",
            " 1   Uniformity_of_cell_size      259 non-null    int64  \n",
            " 2   Uniformity_of_cell_shape     259 non-null    int64  \n",
            " 3   Marginal_adhesion            259 non-null    int64  \n",
            " 4   Single_epithelial_cell_size  259 non-null    int64  \n",
            " 5   Bare_nuclei                  251 non-null    float64\n",
            " 6   Bland_chromatin              259 non-null    int64  \n",
            " 7   Normal_nucleoli              259 non-null    int64  \n",
            " 8   Mitoses                      259 non-null    int64  \n",
            " 9   Class                        259 non-null    int64  \n",
            "dtypes: float64(1), int64(9)\n",
            "memory usage: 20.4 KB\n"
          ]
        }
      ],
      "source": [
        "# Tampilkan informasi dari dataset\n",
        "dataset.info()"
      ]
    },
    {
      "cell_type": "markdown",
      "metadata": {
        "id": "VNHGGOA8j6qD"
      },
      "source": [
        "<h4>⬆ <b>Expected <span style=\"color:tomato;\">Output</span></b>:</h4>\n",
        "\n",
        "<img src=\"https://lh3.googleusercontent.com/fife/ALs6j_GMlMk_Z65qemH97mibhQ4C_7wJux1uyR6an7PjXJKGp8uFHJN4gws2i415Da6yMq_BqlWGEjC7OJFLWPN--vMh2aph26r4PDRy2mJ9cGu_7m3c9oaE2AfAkCqTzm3HwNUHYBivrrZ_0C8LZM84C8SxZGIWdub-DLoacelFXpq7huTeEngH2U-WE5fiSwhuZUQ7tfeL2ci2LdMUbQkHlSUaD3aFMWJp9Qe6C5tLQHnr64pXLJjZjrJs9OYo_AFu2Uzqqi4DUqmyaGPEfMVdF1nz8z3NQnBbSrYSqFZkctwMnlffFCGItwvRQyxkaL1Uw2WdG_IQwvxoHOTzrdqQ7U43CLUWXg09MsEpZsEjAOymViKSQhqX4nNTt0eZACKATgkQszBtY15dEgb1EVOJfZUo4Hyi-7CayaYUmo75UYUMg8VNLbwsO0sBnI_40T2F71wHBOFW26PYwedJ7i03WcKbovDQZPu2RQKCxqO9lCbGCdM5vo9GH2oXcjlW6NBKWwV4iwKTgG5ldI18ukM42NtxPeLP9V1TZCXOYWg9SQVvyXC_ZKDquQFLViV0lj2uKdbmSK8_3jILp6ZXKjFpC4NkpuLAVz5gHjJuOY7ZIOa89lEEyGu61xujs7pWu-BxcZfWFFMIjSsnquJtinjGCNN0Fu3R1iG4ee8BMfTAjWxxW2Xt207VGBs8whoj3tSJ4gExm6RFsbiz_xbapQxi25zZ6MJckUnaE3nRzi3Pc2f2SjPWiBB65gPyiZzoZ2BUtD1ozFHwbSznVsFUbxs_57nhxZqKEJScvUbju__8NpfOFvFskUXgwFsoU9AO8Ms9HMTDbuP1VMGC-qsvLOtm3KzFkEh4sk1HCZzPykjg1FhmWgfp6FLrRSQokH2s6R2b4pv8LmTwUkJjxJ4Os7oKjQzY_XDKmYLZ6RKjSif5ITCykyIVs-d65jDiF1_MrUiv4XmwzKZqEHJ0WyECcdIVVB6rUtHhii2ZrVk3j8-Tdc-7ztiCda9BbBDCyDCZuuIfSHUsAMMWBPZdP6Tg1Zs8bsSKSlBWzlKDV0JZ2LSv6s8tj74KAXhiMKmDxZBbFs2GycV5oEzSsh3OxbKWyLbiDsaRe1NS7WxUQmNJBSWrxxbr4XuCay7vDElM57hF0TBD-wZ3eVwoRn31PgGjd5X533sS7V-ydZfhLDvrdIqWdURtdYOgzkVqwp2qTSKsWga3HAVriAlRVwjBlZnb2j1cTzR2iVt990z7J2GpBIW6UggMDVvORhuh8ucy23zFVU3SA8C2lAXY3JoY0slsaRc8mVbYyfprcLEOQGHs30VJ4S4vJLuvzvtHkF8o57e6wohqUNI_ElX2Qqz_-3JUn5AeDNEso7bztLwlPvw6a3t69Mo6DjSIyehsGBfuRkTkYU6_iUMEHLI36WSrm0A6tv62lWwka0HZA0iNAdWJjB0zyiCTAHsC_5C9EHZM2EucVr2EdbgAJ7Q7DDHswJdAo1aUWq4rCldOPkKL5eOpwzWp6pkv_f2JSlh1zEPfpb79n8cDrXef1apze-TaG5OTmJIX-l5uMrEQ14is41xIvBAm92Wf3QQEwncuASYas7dNNOMNMyiArtehYRv-fRMKTkKNMt5sjKbkg5fVibhJohfUTJf2mZ39IJxIm1EmPa5emhJt5qgRKQR1DToTyDDoMFo8hpAEW-mH0EW7EsmmyuMqfHrl_4AjFi781SoSo0GS4bOw-qMHH4Wn0gh2c5XPeM_dJxuGZP3XhfoqPbDWa5VzssdDTzftr-55bI2RCGSUFfixoR8puGIQkLegU5kO1wtGn6r_xDdKplaAY3Y6-0Zu=w1920-h936\" alt=\"img_8.png\" width=\"400\">"
      ]
    },
    {
      "cell_type": "markdown",
      "metadata": {
        "id": "W3Do3oCU8Lnp"
      },
      "source": [
        "<h4>\n",
        "  ###<b style=\"color:yellow;\">Essay 2</b>\n",
        "  <br>\n",
        "  Deskripsikan Temuan Anda disini:\n",
        "</h4><br>\n",
        "\n"
      ]
    },
    {
      "cell_type": "markdown",
      "metadata": {
        "id": "CsEN5ZczgTjL"
      },
      "source": [
        "## <b>5) Membersihkan Data</b> <a class=\"anchor\" id=\"h5\"></a>"
      ]
    },
    {
      "cell_type": "markdown",
      "metadata": {
        "id": "0FbLg1Fpj6qD"
      },
      "source": [
        "<h4>⬇ <b style=\"color:orange;\">Instruksi</b>: Isi <i style=\"color:yellow;font-weight:bold;\">code-cell</i> berikut agar menghasilkan <b style=\"color:tomato;\">output</b> yang sesuai!</h4>"
      ]
    },
    {
      "cell_type": "code",
      "execution_count": 20,
      "metadata": {
        "id": "pKhib6E0iOxb",
        "colab": {
          "base_uri": "https://localhost:8080/"
        },
        "outputId": "cfc4c24a-ae36-4436-8578-4835b49d49e8"
      },
      "outputs": [
        {
          "output_type": "execute_result",
          "data": {
            "text/plain": [
              "Clump_thickness                0\n",
              "Uniformity_of_cell_size        0\n",
              "Uniformity_of_cell_shape       0\n",
              "Marginal_adhesion              0\n",
              "Single_epithelial_cell_size    0\n",
              "Bare_nuclei                    8\n",
              "Bland_chromatin                0\n",
              "Normal_nucleoli                0\n",
              "Mitoses                        0\n",
              "Class                          0\n",
              "dtype: int64"
            ]
          },
          "metadata": {},
          "execution_count": 20
        }
      ],
      "source": [
        "# menghitung nilai Null pada dataset\n",
        "dataset.isnull().sum()"
      ]
    },
    {
      "cell_type": "markdown",
      "metadata": {
        "id": "viZ7CSHNj6qD"
      },
      "source": [
        "<h4>⬆ <b>Expected <span style=\"color:tomato;\">Output</span></b>:</h4>\n",
        "\n",
        "<img src=\"https://lh3.googleusercontent.com/fife/ALs6j_G5XR117eaM8wjsnvqiwPL4q-dcSeeANlkzf-gEBLSizGzTzBK3Vo5KS4PEvWpJX9AgmL1zZxsyG9OKtHMP-CKmeNB7sCdM1xsLNgc6nuZYaJQ8hBdYDU4gDIwNtMnZafLWmd4LspYyxuchdS-2uwxzHfoCTNVVyplnWqY1DfJfWvoVea2IaJM1Q_P-itaLCYFJ2VjgkECPquX_8ePKXBVnjDPryViEb9G4aBD3Esql5UcBZ0ybiVOHrQxwTB_7tN8y8tClSz9St7Sr4XSwzECSVi7NBliBsm6tLYNbHfTdpVJEFw5XpRELRT-7CZtPaMnaxGex9SUYew9fJqdW_7e6kDVjTs8Gb-Jwfx24Lyeh0Jlwcwmlj0xlHvLqH524Be6GnqZVjdHsbc2u4PnJDPgexTctD8__TS0ZFlZHdeMJ8x3Y7Ij0uNJLIFndr6drgm56WTZYenUgt60ktZECDYAUK_LQhAf7a9pSVB02ru2hBreX4YYaMISn5aneL-AF7UGodHHV5yymrDgpxXK6cDMwNUnHoeivliX-e8cpdijnSFP41xs3F0fR32uyj1rW5rj2c7pzRr6C5bMtbwnVT_5VeF5Qr6wYE2a5I6YOrq6h0qeQRwxHx9VmakGOUXqoIIqEIK1cLqeY79SheC0I9gx2_whN0Q3iE4yfYOxHwpKBabYRqqW4R3OiBcBCQl6N4_WdEYZ5bMPU6N7LJleE8Fnt76PBmR9uBGyKuUR3-VtDGSDU66B7w2HoEKnGfK2S_diUXPrRmxbSFs9rbpZEyAD12gj0ADk-OO9Tz_etDOI-VkyqbcQBmtf4CVMYXGlsmujNxLK2lXF09JdZbYrjFw0CpPOTSeuwF5S_7j6DSaR52Xf1x3L4xCrLoOJKLKFSenYNYDBZ6Ar6yP00j1Rbk9oWU36v6jjeCuejni2P1knkVcBBmShth_OHEcOO5qLSCtBPmKj1zYbXftnN7pgnfAjI-7SlEJQxSKQ3WOvM1AyJMBThjyMbiSkCsGFZwYelNqqcDF99deASxmmXqu_K8MKMj9hhbWKbQskmtE2NhkB2GZObbqpkkYxSW7-efoSDtf-OIEp0JoMwoWg2XsGdnFzX6-ZdrQ1BTF3Mee7Pj0-56QRdLZ-xQ4Rhgo7jGnq9kja4ybsb5b_PToK20T0zFd81EVi-IsrSmP2jYiUf6tFCuBz44sxc1jFw84N71TQ_wxYjNHi8mKJhjLzs_DYlghODXNga9py4EpOj7W3Av03JZnAyFRQuTQowiVlBaY4llStUtepHuO0b3kcpmHA22JS1rywFAfPmxRDGwBXgpZE3u4ZwCKVnfXnzyY_gxAdGJgiz7KPxQ08x8GN0qfvOMliMlCEZT0x5L91cIPjzGKoFbqkOAyq8Lgajiw8HLyxthcM1bk5cuhsoyKft9gnn4LTMcWeNFBLK0PxJHl1mzWSAq8x1QlUX3c_Am65vCBFjM0SUKlbGd3LocaP1TAqKF5k7wuEVFFDKpfN-Cy2d4_kDJIkbqE5zBuOpGpio9C8MQlDvvj7ypxSA8XbaxcTSJjtuB_4hrTJhgnvjnPiqH14QjVDhbQCAv5LGSXGIJ7ghdPBOMC8KMn47wQBF5Nxnlwl6xNQX_sEL1yfgRYbGwmyFxzmUMm8Rr4b_6QmjJ6KEf3OKXxvcb4euq4V5RfMK6Lp0s_Jq1sJmrPKdv0-RI74trDPNAdjOzCHkvnICPz_6_2p42bEvz8llY-tK1eP2vv9TZw_Lcu3KBiwPoQY8lEVVXVnVytjuwAG_bHHAIGYVcbkM3KDdS1va0VyYAl8DLde9TEKjeFdfp9vTU0S5=w1920-h936\" alt=\"img_9.png\" width=\"300\">"
      ]
    },
    {
      "cell_type": "code",
      "execution_count": 21,
      "metadata": {
        "colab": {
          "base_uri": "https://localhost:8080/"
        },
        "id": "VMry8X3xit9I",
        "outputId": "0020da1d-5f6f-4cec-f78c-a47942c6409b"
      },
      "outputs": [
        {
          "output_type": "execute_result",
          "data": {
            "text/plain": [
              "Index(['Bare_nuclei'], dtype='object')"
            ]
          },
          "metadata": {},
          "execution_count": 21
        }
      ],
      "source": [
        "# mendeteksi keberadaan nilai Null\n",
        "dataset.loc[:, dataset.isnull().any()].columns"
      ]
    },
    {
      "cell_type": "markdown",
      "metadata": {
        "id": "aSc5AIchj6qE"
      },
      "source": [
        "<h4>⬇ <b style=\"color:orange;\">Instruksi</b>: Ubah \"<b style=\"color:yellow;\">[fix_me]</b>\" dengan code yang benar!</h4>"
      ]
    },
    {
      "cell_type": "code",
      "execution_count": 22,
      "metadata": {
        "id": "6RmJ550_iyxb"
      },
      "outputs": [],
      "source": [
        "# Mengubah Type data dari salah satu fitur\n",
        "dataset['Bare_nuclei'] = dataset['Bare_nuclei'].astype(float)"
      ]
    },
    {
      "cell_type": "markdown",
      "metadata": {
        "id": "zL4ehMSGj6qE"
      },
      "source": [
        "<h4>⬇ <b style=\"color:orange;\">Instruksi</b>: Isi <i style=\"color:yellow;font-weight:bold;\">code-cell</i> berikut agar menghasilkan <b style=\"color:tomato;\">output</b> yang sesuai!</h4>"
      ]
    },
    {
      "cell_type": "code",
      "execution_count": 23,
      "metadata": {
        "id": "b7hLFQsImK8v",
        "colab": {
          "base_uri": "https://localhost:8080/"
        },
        "outputId": "37e9d210-7eca-4180-b5c9-a0d13512beb0"
      },
      "outputs": [
        {
          "output_type": "stream",
          "name": "stdout",
          "text": [
            "<class 'pandas.core.frame.DataFrame'>\n",
            "RangeIndex: 259 entries, 0 to 258\n",
            "Data columns (total 10 columns):\n",
            " #   Column                       Non-Null Count  Dtype  \n",
            "---  ------                       --------------  -----  \n",
            " 0   Clump_thickness              259 non-null    int64  \n",
            " 1   Uniformity_of_cell_size      259 non-null    int64  \n",
            " 2   Uniformity_of_cell_shape     259 non-null    int64  \n",
            " 3   Marginal_adhesion            259 non-null    int64  \n",
            " 4   Single_epithelial_cell_size  259 non-null    int64  \n",
            " 5   Bare_nuclei                  251 non-null    float64\n",
            " 6   Bland_chromatin              259 non-null    int64  \n",
            " 7   Normal_nucleoli              259 non-null    int64  \n",
            " 8   Mitoses                      259 non-null    int64  \n",
            " 9   Class                        259 non-null    int64  \n",
            "dtypes: float64(1), int64(9)\n",
            "memory usage: 20.4 KB\n"
          ]
        }
      ],
      "source": [
        "# Tampilkan lagi Informasi dari data\n",
        "dataset.info()"
      ]
    },
    {
      "cell_type": "markdown",
      "metadata": {
        "id": "pM9g3LQ8j6qE"
      },
      "source": [
        "<h4>⬆ <b>Expected <span style=\"color:tomato;\">Output</span></b>:</h4>\n",
        "\n",
        "<img src=\"https://lh3.googleusercontent.com/fife/ALs6j_GzJkRwzQNOhMzkUoorrSn-fJqbaHtuCniI7n5Orvheg0k2pKcaMVkBod46dcQ9ZEeXanqjYsz5VcBz1ffhk2rRsAn3BkBkR-1xmH7DNVE9U74EF5DRGeyWXMxkKDMwEqokL5XGPEgcLLjCHYcCiopkh9D7X1ZVZUCQ216wnB0PxGhb3dYF_Fy5LtQSqvrsYMAVV-iDxr0yZXGLgTZhV7J3ytm8qTrjPZv8_0vIphFBuhSPnwb6vSFhCqJ9PXes8ttTL9H5l_epHVU0C00_E0uc0nfnDih96JPTNA5r5XidtkhXMzHx7CpsP0F9GPzy2yak7T5Y3b-QpUDnjaqALNAof90_183IDCM1uYVVHGkGOUBPl1WWAQt1MQHfCReOWwy7uE1FYIlY_3IIQjNLooxQgAoeLTP0QhrAYGgvj1u5XqChR_soy2jaUrk8g8gGnbnCbX8rfeyVmiHRXUNGF7sk8aWqkdipsLVAtmojwWvGYr_UzuIiAdKklVppleda_jUfFTGx0Rh2EojdHbzDI72kIikMO4XjzmkU2T2Jtix2P4L-cp8X-9sz6sq7hixRWlysGdbzqPwgo0_C1F7Eattl-AAlLKd7gFpk8WNo9tE0FeQgIiA4HSi-Zy4ILi895QwxhYZPE1X2chOqWGMBKK-wZ0Ts27G2fkHw0mXTyIfcUooQZOh6ev0oYtq0wGwgVGRyikxQbjif7ihrzoL2dubmGJmBwyljopJRa-JA9CIdAvy9NyTaRsEvjSzBj4ML32xBtCKErkxjlX-WRyeWXeVkOJLtgX7YEmfFAg16UmkUnnEH_EMkieHR3lV_CzKuoQKow4f1JylwLzMsqAYxnD2hNUSJB2eGNsdP_8FPfNfjsbxzEbfCwKUTrFQy_q3osGcGfrLhT5BOGTEb4x2SwBJaQMjQ_Mge9LRgZO6E6gpHnphEpg46iThxwcjKUJr70xuh6p4j3CYwsrgx9aJFcwF01dMc92RpfmH1FnAmLVukDFJRuQBDu7CqmnvHo4KBSERoUV3Vx89Hs_8pUfB8CgT-OxjnIutfO2Kw0Hh0i5sSbWC8Xz0K55Ka_zxYs_GbozIiqsNylmwvL2oQ8_W7M-BhNffzO9q_V8XjK7B37MmB7kwXC9gN14F5FssQqth6Lq35LU5_6EaQfckGOaLEWkKGSA02w62Rx1ias_lEZRhLciYGigXWB0b6-gU2Vo77PcjOvgXjSS7TEAZRuERuUT_BvUTAeoQpY4tHk-Kiwecjk3oDQ8p03bPrDZyeogCVv6yRviHWsGDwXvbU6nUf6gWDUqDJM8i8FWrguNrK4TNEBdYkL_yOxmYndjaZTAhR13jA_biMrhpwMA6LLaLRqt1V-1WoEnXmwTL4aMnBheW6iK373JoQDsqhFL-v9DfcflgNEDhbKtJQVJvLPvzpYGv6jS8QTp1gZG2qkDLPmSAcwt1rImjwXPs_4iWhjlSof7e0UNwQ7nyxkiYtr6pOHP3GVBof9p0JBUqWWgXP6J5cwvbrc7oP6KzAIfryLzzs3UBXTGSg_wrhrZ0nOU1YhS9hpSnMArnBSy0L1tGPxXia3EnW__9FS8PNawggb4HnYkXR19ZsUh2PMNhdgqgDqICS32hMLIS8xc5JN3lQ3YPUwKJVdim-3S1njq3inSFKPt0uaDaraUo3_jtXcEECGFX5AwQOnG-N_aFW6UZYtr_CfXoncrQMvqUtuCzI1Lf9xEsQfywWr7G4NPiH5mFz5fW04gw3yBqvF-kbrrP_jVv546E41Ytkg1k4Jx2OkKUo8WDj13ipARxU3VncNh7bJy0SpJbbCdWSpHi_-cio=w1920-h936\" alt=\"img_10.png\" width=\"400\">"
      ]
    },
    {
      "cell_type": "code",
      "execution_count": 24,
      "metadata": {
        "id": "XILNt56Fme9X"
      },
      "outputs": [],
      "source": [
        "import missingno"
      ]
    },
    {
      "cell_type": "code",
      "execution_count": 25,
      "metadata": {
        "colab": {
          "base_uri": "https://localhost:8080/",
          "height": 812
        },
        "id": "sdduwBoimX16",
        "outputId": "e0d7bd24-2c2f-46ac-bc2f-fd369860ade4"
      },
      "outputs": [
        {
          "output_type": "execute_result",
          "data": {
            "text/plain": [
              "<Axes: >"
            ]
          },
          "metadata": {},
          "execution_count": 25
        },
        {
          "output_type": "display_data",
          "data": {
            "text/plain": [
              "<Figure size 2500x1000 with 2 Axes>"
            ],
            "image/png": "[encoded data removed]"
          },
          "metadata": {}
        }
      ],
      "source": [
        "# Memvisualisasikan keberadaan nilai Null\n",
        "missingdata_df = dataset.columns[dataset.isnull().any()].tolist()\n",
        "missingno.matrix(dataset[missingdata_df])"
      ]
    },
    {
      "cell_type": "code",
      "execution_count": 26,
      "metadata": {
        "id": "UBYOvqvyj6qF",
        "outputId": "0df63b3f-2597-4f26-e1c8-c36b7af61461",
        "colab": {
          "base_uri": "https://localhost:8080/",
          "height": 900
        }
      },
      "outputs": [
        {
          "output_type": "execute_result",
          "data": {
            "text/plain": [
              "<Axes: >"
            ]
          },
          "metadata": {},
          "execution_count": 26
        },
        {
          "output_type": "display_data",
          "data": {
            "text/plain": [
              "<Figure size 2500x1000 with 2 Axes>"
            ],
            "image/png": "[encoded data removed]"
          },
          "metadata": {}
        }
      ],
      "source": [
        "missingno.matrix(dataset)"
      ]
    },
    {
      "cell_type": "markdown",
      "metadata": {
        "id": "bgF-STbZj6qF"
      },
      "source": [
        "<h4>⬇ <b style=\"color:orange;\">Instruksi</b>: Ubah \"<b style=\"color:yellow;\">[fix_me]</b>\" dengan code yang benar!</h4>"
      ]
    },
    {
      "cell_type": "code",
      "execution_count": 27,
      "metadata": {
        "id": "nv17qYkmm4sP"
      },
      "outputs": [],
      "source": [
        "# diiskan jawaban masing-masing\n",
        "median_value = dataset['Bare_nuclei'].median()\n",
        "dataset['Bare_nuclei'] = dataset['Bare_nuclei'].fillna(median_value)"
      ]
    },
    {
      "cell_type": "markdown",
      "metadata": {
        "id": "bfUstTofj6qF"
      },
      "source": [
        "<h4>⬇ <b style=\"color:orange;\">Instruksi</b>: Isi <i style=\"color:yellow;font-weight:bold;\">code-cell</i> berikut agar menghasilkan <b style=\"color:tomato;\">output</b> yang sesuai!</h4>"
      ]
    },
    {
      "cell_type": "code",
      "execution_count": 30,
      "metadata": {
        "id": "7-7ttEbsnrcw",
        "colab": {
          "base_uri": "https://localhost:8080/"
        },
        "outputId": "e89a393f-4366-4e3a-e564-aea980feca4d"
      },
      "outputs": [
        {
          "output_type": "execute_result",
          "data": {
            "text/plain": [
              "Clump_thickness                0\n",
              "Uniformity_of_cell_size        0\n",
              "Uniformity_of_cell_shape       0\n",
              "Marginal_adhesion              0\n",
              "Single_epithelial_cell_size    0\n",
              "Bare_nuclei                    0\n",
              "Bland_chromatin                0\n",
              "Normal_nucleoli                0\n",
              "Mitoses                        0\n",
              "Class                          0\n",
              "dtype: int64"
            ]
          },
          "metadata": {},
          "execution_count": 30
        }
      ],
      "source": [
        "# Hitung ulang nilai Null pada dataset\n",
        "dataset.isnull().sum()"
      ]
    },
    {
      "cell_type": "markdown",
      "metadata": {
        "id": "MXJ6CIotj6qG"
      },
      "source": [
        "<h4>⬆ <b>Expected <span style=\"color:tomato;\">Output</span></b>:</h4>\n",
        "\n",
        "<img src=\"https://lh3.googleusercontent.com/fife/ALs6j_He8KqchFpZQANU69dk9arFjOOEV3f_UNkDUHshGJZn3Td1fUdTLxnfBjwHng6rvlLcyrCcB6c367nc-Gl9ZJZOS6BMseS1KxK-k8C64HBXqTg_FlZjMG7UZdpPlXrhwZ5Hflp4mCRnglDarNktKIvT8XHsrfEERXvKdwVzcbXWV41T4sr8c49cvxFo-0ZEbsJM9tdS8XAEu_zJy5uOfpBmZn5snFrhfAjWVQZ9hut93EUMEdgD1Z8Ay9sVu8dRIZLqRMm27phSRcQjC9bW__2sKjwKpUq33Pb0cP2iF2aHBuPTBhFiFe4m76NstqabGsWm3A3QINsTPk7RtYmKHo9TA7qqfnQNyop616rk0jdDY5JJrQBWQd0FJdDDtULf70iXPSouj_md6ZjYfeG9Ja59jcAGK05QrcVKQfCu0Kmjped1XnjdQL7U7g-bktb2BmxgSqu5N3YBAd_Hd7h_Db_bBW2IHnJmotih8v-fr52VvvFdqQk4rWZKaVYUl6xaEqwiiqPhfgh61zhjI3cXigfTYEBiLKdhwvqmM-g3u9HZDcjvkRfuWXK75MZ62HQMdm-z8Kx7vBpDKG-qQ7115l643_24yjgqzVLgaVR9lSCVCt2T9M01NcJqhIWt8-MKzQS-kALPXhKK0zSW319isN0oSEQFpQklIVDhHTDnZ068dkCWHVilU2s62ZotlLo3Gedob7wV3eRU90c18o9B67nG1tor9OyO81-5LXbr_lQaT0XYcHQjVWt2vzkwRqcolV9fKezJXqOc2_6jvCHjB84YIDmOgrI4i0Wwz-JRKsHbZq7X9725j_rJgCRWEe8goSetWbObu4KUlAqjSilofQGBo8Yk4qCIrqITgs4LL21UBxgNC86ZR9IJxiB0kOCYUzBivpoMzkPrSDYGCpkmFTrKiyttvZAHvK0xfkR7rTwvbrjz2wSvSWitj25IP0Jzsw_JmISsgHMUid6SyIpax45j0eJ8fhFUZ_LBHZJy9al6pnaSqcMsKhbKyWRFPpMMMPlQrL8GMJcx-i3ppxeyDBbYnqG2hPFPg2rih9k4fNIF2-zePn47WVjPvmHYja2hp58I1AXIajLGkF9SkLbI9a2zFpIoisBKE_MKrIsyC_alIg-8BaABIHDSFJXkGTXGivAD07f7-8ojbi5iABKB6BxDXn6GCc74gB81xvd8QzLTQbYY-rMoPtIkFbjeqPpmvYf-4HjOee9b8a4BZVFTQr1GuND7wbPRD4O5g_-fqh-9nZm5rgDB43qH8j_qyyRuB94MiNZwo2qGiErMrxOeaUb4MkS26TrI0MH1OQDTlHyj4pLaFt8AGseUxkzbB5zl7ex0lM2vm952tDzMvEzbuRNCcYy0uMNE-1u0qc8_mIAsa7N1jNYIVd0srbznSqEPazXcijLPsljuRB1drkZOk1U9iUaK49iCEKPUZ06ymGBf_b2NOXoxHVoj9e28Msi0cHd50-vnwsySlRhlCcTGcc9reMn4AVSfLISyiDnnvuGNlBMQom5q5OOBIPnE1wzhDs8OGcRRiJW7It3BaYsVtVh2GyymzJIuYMw3xnIDBMqrL3f4yVzz17gsAkmseoJr2LaLUnZRQ8LDo_twcSTOnDVE3ao32hqpGuk47QybUFwhsamVTKEF-17_hS5Mf1aY2-KYaqRWc6BvHgNubbEox15wNbPOjNX_DqxK7Ekc0m43hZQP5--3oTMdoVHX6rfx17ulF_Qif2Y9ELhhBA6wlTNsDD05WJECS9a2Miuzy9RV407ojlIA_80pPtSMWFMjDkYIrZ6HSkEFVSql63b5MGTxus1KfZ0V4T6OV28=w1920-h936\" alt=\"img_11.png\" width=\"300\">"
      ]
    },
    {
      "cell_type": "code",
      "execution_count": 31,
      "metadata": {
        "colab": {
          "base_uri": "https://localhost:8080/",
          "height": 442
        },
        "id": "zHac-TQNpFxX",
        "outputId": "058255ee-616b-4130-bee8-878030fb59fa"
      },
      "outputs": [
        {
          "output_type": "stream",
          "name": "stdout",
          "text": [
            "All Duplicate Rows:\n"
          ]
        },
        {
          "output_type": "execute_result",
          "data": {
            "text/plain": [
              "     Clump_thickness  Uniformity_of_cell_size  Uniformity_of_cell_shape  \\\n",
              "11                 1                        1                         1   \n",
              "12                 5                        1                         1   \n",
              "16                 3                        1                         1   \n",
              "19                 4                        1                         1   \n",
              "24                 9                       10                        10   \n",
              "..               ...                      ...                       ...   \n",
              "245                3                        1                         1   \n",
              "248                2                        1                         1   \n",
              "249                4                        1                         1   \n",
              "253                4                        1                         1   \n",
              "258                6                       10                        10   \n",
              "\n",
              "     Marginal_adhesion  Single_epithelial_cell_size  Bare_nuclei  \\\n",
              "11                   1                            1          1.0   \n",
              "12                   1                            2          1.0   \n",
              "16                   1                            2          1.0   \n",
              "19                   1                            2          1.0   \n",
              "24                   1                           10          8.0   \n",
              "..                 ...                          ...          ...   \n",
              "245                  1                            2          1.0   \n",
              "248                  1                            2          1.0   \n",
              "249                  1                            2          1.0   \n",
              "253                  1                            2          1.0   \n",
              "258                  2                            8         10.0   \n",
              "\n",
              "     Bland_chromatin  Normal_nucleoli  Mitoses  Class  \n",
              "11                 3                1        1      2  \n",
              "12                 3                1        1      2  \n",
              "16                 1                1        1      2  \n",
              "19                 3                1        1      2  \n",
              "24                 3                3        1      4  \n",
              "..               ...              ...      ...    ...  \n",
              "245                1                1        1      2  \n",
              "248                3                1        1      2  \n",
              "249                3                1        1      2  \n",
              "253                3                2        1      2  \n",
              "258                7                3        3      4  \n",
              "\n",
              "[71 rows x 10 columns]"
            ],
            "text/html": [
              "\n",
              "  <div id=\"df-d0a1b522-c038-4256-a0a1-e3bc436d16b0\" class=\"colab-df-container\">\n",
              "    <div>\n",
              "<style scoped>\n",
              "    .dataframe tbody tr th:only-of-type {\n",
              "        vertical-align: middle;\n",
              "    }\n",
              "\n",
              "    .dataframe tbody tr th {\n",
              "        vertical-align: top;\n",
              "    }\n",
              "\n",
              "    .dataframe thead th {\n",
              "        text-align: right;\n",
              "    }\n",
              "</style>\n",
              "<table border=\"1\" class=\"dataframe\">\n",
              "  <thead>\n",
              "    <tr style=\"text-align: right;\">\n",
              "      <th></th>\n",
              "      <th>Clump_thickness</th>\n",
              "      <th>Uniformity_of_cell_size</th>\n",
              "      <th>Uniformity_of_cell_shape</th>\n",
              "      <th>Marginal_adhesion</th>\n",
              "      <th>Single_epithelial_cell_size</th>\n",
              "      <th>Bare_nuclei</th>\n",
              "      <th>Bland_chromatin</th>\n",
              "      <th>Normal_nucleoli</th>\n",
              "      <th>Mitoses</th>\n",
              "      <th>Class</th>\n",
              "    </tr>\n",
              "  </thead>\n",
              "  <tbody>\n",
              "    <tr>\n",
              "      <th>11</th>\n",
              "      <td>1</td>\n",
              "      <td>1</td>\n",
              "      <td>1</td>\n",
              "      <td>1</td>\n",
              "      <td>1</td>\n",
              "      <td>1.0</td>\n",
              "      <td>3</td>\n",
              "      <td>1</td>\n",
              "      <td>1</td>\n",
              "      <td>2</td>\n",
              "    </tr>\n",
              "    <tr>\n",
              "      <th>12</th>\n",
              "      <td>5</td>\n",
              "      <td>1</td>\n",
              "      <td>1</td>\n",
              "      <td>1</td>\n",
              "      <td>2</td>\n",
              "      <td>1.0</td>\n",
              "      <td>3</td>\n",
              "      <td>1</td>\n",
              "      <td>1</td>\n",
              "      <td>2</td>\n",
              "    </tr>\n",
              "    <tr>\n",
              "      <th>16</th>\n",
              "      <td>3</td>\n",
              "      <td>1</td>\n",
              "      <td>1</td>\n",
              "      <td>1</td>\n",
              "      <td>2</td>\n",
              "      <td>1.0</td>\n",
              "      <td>1</td>\n",
              "      <td>1</td>\n",
              "      <td>1</td>\n",
              "      <td>2</td>\n",
              "    </tr>\n",
              "    <tr>\n",
              "      <th>19</th>\n",
              "      <td>4</td>\n",
              "      <td>1</td>\n",
              "      <td>1</td>\n",
              "      <td>1</td>\n",
              "      <td>2</td>\n",
              "      <td>1.0</td>\n",
              "      <td>3</td>\n",
              "      <td>1</td>\n",
              "      <td>1</td>\n",
              "      <td>2</td>\n",
              "    </tr>\n",
              "    <tr>\n",
              "      <th>24</th>\n",
              "      <td>9</td>\n",
              "      <td>10</td>\n",
              "      <td>10</td>\n",
              "      <td>1</td>\n",
              "      <td>10</td>\n",
              "      <td>8.0</td>\n",
              "      <td>3</td>\n",
              "      <td>3</td>\n",
              "      <td>1</td>\n",
              "      <td>4</td>\n",
              "    </tr>\n",
              "    <tr>\n",
              "      <th>...</th>\n",
              "      <td>...</td>\n",
              "      <td>...</td>\n",
              "      <td>...</td>\n",
              "      <td>...</td>\n",
              "      <td>...</td>\n",
              "      <td>...</td>\n",
              "      <td>...</td>\n",
              "      <td>...</td>\n",
              "      <td>...</td>\n",
              "      <td>...</td>\n",
              "    </tr>\n",
              "    <tr>\n",
              "      <th>245</th>\n",
              "      <td>3</td>\n",
              "      <td>1</td>\n",
              "      <td>1</td>\n",
              "      <td>1</td>\n",
              "      <td>2</td>\n",
              "      <td>1.0</td>\n",
              "      <td>1</td>\n",
              "      <td>1</td>\n",
              "      <td>1</td>\n",
              "      <td>2</td>\n",
              "    </tr>\n",
              "    <tr>\n",
              "      <th>248</th>\n",
              "      <td>2</td>\n",
              "      <td>1</td>\n",
              "      <td>1</td>\n",
              "      <td>1</td>\n",
              "      <td>2</td>\n",
              "      <td>1.0</td>\n",
              "      <td>3</td>\n",
              "      <td>1</td>\n",
              "      <td>1</td>\n",
              "      <td>2</td>\n",
              "    </tr>\n",
              "    <tr>\n",
              "      <th>249</th>\n",
              "      <td>4</td>\n",
              "      <td>1</td>\n",
              "      <td>1</td>\n",
              "      <td>1</td>\n",
              "      <td>2</td>\n",
              "      <td>1.0</td>\n",
              "      <td>3</td>\n",
              "      <td>1</td>\n",
              "      <td>1</td>\n",
              "      <td>2</td>\n",
              "    </tr>\n",
              "    <tr>\n",
              "      <th>253</th>\n",
              "      <td>4</td>\n",
              "      <td>1</td>\n",
              "      <td>1</td>\n",
              "      <td>1</td>\n",
              "      <td>2</td>\n",
              "      <td>1.0</td>\n",
              "      <td>3</td>\n",
              "      <td>2</td>\n",
              "      <td>1</td>\n",
              "      <td>2</td>\n",
              "    </tr>\n",
              "    <tr>\n",
              "      <th>258</th>\n",
              "      <td>6</td>\n",
              "      <td>10</td>\n",
              "      <td>10</td>\n",
              "      <td>2</td>\n",
              "      <td>8</td>\n",
              "      <td>10.0</td>\n",
              "      <td>7</td>\n",
              "      <td>3</td>\n",
              "      <td>3</td>\n",
              "      <td>4</td>\n",
              "    </tr>\n",
              "  </tbody>\n",
              "</table>\n",
              "<p>71 rows × 10 columns</p>\n",
              "</div>\n",
              "    <div class=\"colab-df-buttons\">\n",
              "\n",
              "  <div class=\"colab-df-container\">\n",
              "    <button class=\"colab-df-convert\" onclick=\"convertToInteractive('df-d0a1b522-c038-4256-a0a1-e3bc436d16b0')\"\n",
              "            title=\"Convert this dataframe to an interactive table.\"\n",
              "            style=\"display:none;\">\n",
              "\n",
              "  <svg xmlns=\"http://www.w3.org/2000/svg\" height=\"24px\" viewBox=\"0 -960 960 960\">\n",
              "    <path d=\"M120-120v-720h720v720H120Zm60-500h600v-160H180v160Zm220 220h160v-160H400v160Zm0 220h160v-160H400v160ZM180-400h160v-160H180v160Zm440 0h160v-160H620v160ZM180-180h160v-160H180v160Zm440 0h160v-160H620v160Z\"/>\n",
              "  </svg>\n",
              "    </button>\n",
              "\n",
              "  <style>\n",
              "    .colab-df-container {\n",
              "      display:flex;\n",
              "      gap: 12px;\n",
              "    }\n",
              "\n",
              "    .colab-df-convert {\n",
              "      background-color: #E8F0FE;\n",
              "      border: none;\n",
              "      border-radius: 50%;\n",
              "      cursor: pointer;\n",
              "      display: none;\n",
              "      fill: #1967D2;\n",
              "      height: 32px;\n",
              "      padding: 0 0 0 0;\n",
              "      width: 32px;\n",
              "    }\n",
              "\n",
              "    .colab-df-convert:hover {\n",
              "      background-color: #E2EBFA;\n",
              "      box-shadow: 0px 1px 2px rgba(60, 64, 67, 0.3), 0px 1px 3px 1px rgba(60, 64, 67, 0.15);\n",
              "      fill: #174EA6;\n",
              "    }\n",
              "\n",
              "    .colab-df-buttons div {\n",
              "      margin-bottom: 4px;\n",
              "    }\n",
              "\n",
              "    [theme=dark] .colab-df-convert {\n",
              "      background-color: #3B4455;\n",
              "      fill: #D2E3FC;\n",
              "    }\n",
              "\n",
              "    [theme=dark] .colab-df-convert:hover {\n",
              "      background-color: #434B5C;\n",
              "      box-shadow: 0px 1px 3px 1px rgba(0, 0, 0, 0.15);\n",
              "      filter: drop-shadow(0px 1px 2px rgba(0, 0, 0, 0.3));\n",
              "      fill: #FFFFFF;\n",
              "    }\n",
              "  </style>\n",
              "\n",
              "    <script>\n",
              "      const buttonEl =\n",
              "        document.querySelector('#df-d0a1b522-c038-4256-a0a1-e3bc436d16b0 button.colab-df-convert');\n",
              "      buttonEl.style.display =\n",
              "        google.colab.kernel.accessAllowed ? 'block' : 'none';\n",
              "\n",
              "      async function convertToInteractive(key) {\n",
              "        const element = document.querySelector('#df-d0a1b522-c038-4256-a0a1-e3bc436d16b0');\n",
              "        const dataTable =\n",
              "          await google.colab.kernel.invokeFunction('convertToInteractive',\n",
              "                                                    [key], {});\n",
              "        if (!dataTable) return;\n",
              "\n",
              "        const docLinkHtml = 'Like what you see? Visit the ' +\n",
              "          '<a target=\"_blank\" href=https://colab.research.google.com/notebooks/data_table.ipynb>data table notebook</a>'\n",
              "          + ' to learn more about interactive tables.';\n",
              "        element.innerHTML = '';\n",
              "        dataTable['output_type'] = 'display_data';\n",
              "        await google.colab.output.renderOutput(dataTable, element);\n",
              "        const docLink = document.createElement('div');\n",
              "        docLink.innerHTML = docLinkHtml;\n",
              "        element.appendChild(docLink);\n",
              "      }\n",
              "    </script>\n",
              "  </div>\n",
              "\n",
              "\n",
              "<div id=\"df-552eed80-56a6-47d2-99c5-b93ff7a19053\">\n",
              "  <button class=\"colab-df-quickchart\" onclick=\"quickchart('df-552eed80-56a6-47d2-99c5-b93ff7a19053')\"\n",
              "            title=\"Suggest charts\"\n",
              "            style=\"display:none;\">\n",
              "\n",
              "<svg xmlns=\"http://www.w3.org/2000/svg\" height=\"24px\"viewBox=\"0 0 24 24\"\n",
              "     width=\"24px\">\n",
              "    <g>\n",
              "        <path d=\"M19 3H5c-1.1 0-2 .9-2 2v14c0 1.1.9 2 2 2h14c1.1 0 2-.9 2-2V5c0-1.1-.9-2-2-2zM9 17H7v-7h2v7zm4 0h-2V7h2v10zm4 0h-2v-4h2v4z\"/>\n",
              "    </g>\n",
              "</svg>\n",
              "  </button>\n",
              "\n",
              "<style>\n",
              "  .colab-df-quickchart {\n",
              "      --bg-color: #E8F0FE;\n",
              "      --fill-color: #1967D2;\n",
              "      --hover-bg-color: #E2EBFA;\n",
              "      --hover-fill-color: #174EA6;\n",
              "      --disabled-fill-color: #AAA;\n",
              "      --disabled-bg-color: #DDD;\n",
              "  }\n",
              "\n",
              "  [theme=dark] .colab-df-quickchart {\n",
              "      --bg-color: #3B4455;\n",
              "      --fill-color: #D2E3FC;\n",
              "      --hover-bg-color: #434B5C;\n",
              "      --hover-fill-color: #FFFFFF;\n",
              "      --disabled-bg-color: #3B4455;\n",
              "      --disabled-fill-color: #666;\n",
              "  }\n",
              "\n",
              "  .colab-df-quickchart {\n",
              "    background-color: var(--bg-color);\n",
              "    border: none;\n",
              "    border-radius: 50%;\n",
              "    cursor: pointer;\n",
              "    display: none;\n",
              "    fill: var(--fill-color);\n",
              "    height: 32px;\n",
              "    padding: 0;\n",
              "    width: 32px;\n",
              "  }\n",
              "\n",
              "  .colab-df-quickchart:hover {\n",
              "    background-color: var(--hover-bg-color);\n",
              "    box-shadow: 0 1px 2px rgba(60, 64, 67, 0.3), 0 1px 3px 1px rgba(60, 64, 67, 0.15);\n",
              "    fill: var(--button-hover-fill-color);\n",
              "  }\n",
              "\n",
              "  .colab-df-quickchart-complete:disabled,\n",
              "  .colab-df-quickchart-complete:disabled:hover {\n",
              "    background-color: var(--disabled-bg-color);\n",
              "    fill: var(--disabled-fill-color);\n",
              "    box-shadow: none;\n",
              "  }\n",
              "\n",
              "  .colab-df-spinner {\n",
              "    border: 2px solid var(--fill-color);\n",
              "    border-color: transparent;\n",
              "    border-bottom-color: var(--fill-color);\n",
              "    animation:\n",
              "      spin 1s steps(1) infinite;\n",
              "  }\n",
              "\n",
              "  @keyframes spin {\n",
              "    0% {\n",
              "      border-color: transparent;\n",
              "      border-bottom-color: var(--fill-color);\n",
              "      border-left-color: var(--fill-color);\n",
              "    }\n",
              "    20% {\n",
              "      border-color: transparent;\n",
              "      border-left-color: var(--fill-color);\n",
              "      border-top-color: var(--fill-color);\n",
              "    }\n",
              "    30% {\n",
              "      border-color: transparent;\n",
              "      border-left-color: var(--fill-color);\n",
              "      border-top-color: var(--fill-color);\n",
              "      border-right-color: var(--fill-color);\n",
              "    }\n",
              "    40% {\n",
              "      border-color: transparent;\n",
              "      border-right-color: var(--fill-color);\n",
              "      border-top-color: var(--fill-color);\n",
              "    }\n",
              "    60% {\n",
              "      border-color: transparent;\n",
              "      border-right-color: var(--fill-color);\n",
              "    }\n",
              "    80% {\n",
              "      border-color: transparent;\n",
              "      border-right-color: var(--fill-color);\n",
              "      border-bottom-color: var(--fill-color);\n",
              "    }\n",
              "    90% {\n",
              "      border-color: transparent;\n",
              "      border-bottom-color: var(--fill-color);\n",
              "    }\n",
              "  }\n",
              "</style>\n",
              "\n",
              "  <script>\n",
              "    async function quickchart(key) {\n",
              "      const quickchartButtonEl =\n",
              "        document.querySelector('#' + key + ' button');\n",
              "      quickchartButtonEl.disabled = true;  // To prevent multiple clicks.\n",
              "      quickchartButtonEl.classList.add('colab-df-spinner');\n",
              "      try {\n",
              "        const charts = await google.colab.kernel.invokeFunction(\n",
              "            'suggestCharts', [key], {});\n",
              "      } catch (error) {\n",
              "        console.error('Error during call to suggestCharts:', error);\n",
              "      }\n",
              "      quickchartButtonEl.classList.remove('colab-df-spinner');\n",
              "      quickchartButtonEl.classList.add('colab-df-quickchart-complete');\n",
              "    }\n",
              "    (() => {\n",
              "      let quickchartButtonEl =\n",
              "        document.querySelector('#df-552eed80-56a6-47d2-99c5-b93ff7a19053 button');\n",
              "      quickchartButtonEl.style.display =\n",
              "        google.colab.kernel.accessAllowed ? 'block' : 'none';\n",
              "    })();\n",
              "  </script>\n",
              "</div>\n",
              "\n",
              "    </div>\n",
              "  </div>\n"
            ],
            "application/vnd.google.colaboratory.intrinsic+json": {
              "type": "dataframe",
              "summary": "{\n  \"name\": \"dataset[dataset\",\n  \"rows\": 71,\n  \"fields\": [\n    {\n      \"column\": \"Clump_thickness\",\n      \"properties\": {\n        \"dtype\": \"number\",\n        \"std\": 1,\n        \"min\": 1,\n        \"max\": 9,\n        \"num_unique_values\": 7,\n        \"samples\": [\n          1,\n          5,\n          2\n        ],\n        \"semantic_type\": \"\",\n        \"description\": \"\"\n      }\n    },\n    {\n      \"column\": \"Uniformity_of_cell_size\",\n      \"properties\": {\n        \"dtype\": \"number\",\n        \"std\": 2,\n        \"min\": 1,\n        \"max\": 10,\n        \"num_unique_values\": 3,\n        \"samples\": [\n          1,\n          10,\n          2\n        ],\n        \"semantic_type\": \"\",\n        \"description\": \"\"\n      }\n    },\n    {\n      \"column\": \"Uniformity_of_cell_shape\",\n      \"properties\": {\n        \"dtype\": \"number\",\n        \"std\": 2,\n        \"min\": 1,\n        \"max\": 10,\n        \"num_unique_values\": 3,\n        \"samples\": [\n          1,\n          10,\n          2\n        ],\n        \"semantic_type\": \"\",\n        \"description\": \"\"\n      }\n    },\n    {\n      \"column\": \"Marginal_adhesion\",\n      \"properties\": {\n        \"dtype\": \"number\",\n        \"std\": 0,\n        \"min\": 1,\n        \"max\": 2,\n        \"num_unique_values\": 2,\n        \"samples\": [\n          2,\n          1\n        ],\n        \"semantic_type\": \"\",\n        \"description\": \"\"\n      }\n    },\n    {\n      \"column\": \"Single_epithelial_cell_size\",\n      \"properties\": {\n        \"dtype\": \"number\",\n        \"std\": 2,\n        \"min\": 1,\n        \"max\": 10,\n        \"num_unique_values\": 4,\n        \"samples\": [\n          2,\n          8\n        ],\n        \"semantic_type\": \"\",\n        \"description\": \"\"\n      }\n    },\n    {\n      \"column\": \"Bare_nuclei\",\n      \"properties\": {\n        \"dtype\": \"number\",\n        \"std\": 2.260054663607713,\n        \"min\": 1.0,\n        \"max\": 10.0,\n        \"num_unique_values\": 3,\n        \"samples\": [\n          1.0,\n          8.0\n        ],\n        \"semantic_type\": \"\",\n        \"description\": \"\"\n      }\n    },\n    {\n      \"column\": \"Bland_chromatin\",\n      \"properties\": {\n        \"dtype\": \"number\",\n        \"std\": 1,\n        \"min\": 1,\n        \"max\": 7,\n        \"num_unique_values\": 4,\n        \"samples\": [\n          1,\n          7\n        ],\n        \"semantic_type\": \"\",\n        \"description\": \"\"\n      }\n    },\n    {\n      \"column\": \"Normal_nucleoli\",\n      \"properties\": {\n        \"dtype\": \"number\",\n        \"std\": 0,\n        \"min\": 1,\n        \"max\": 3,\n        \"num_unique_values\": 3,\n        \"samples\": [\n          1,\n          3\n        ],\n        \"semantic_type\": \"\",\n        \"description\": \"\"\n      }\n    },\n    {\n      \"column\": \"Mitoses\",\n      \"properties\": {\n        \"dtype\": \"number\",\n        \"std\": 0,\n        \"min\": 1,\n        \"max\": 3,\n        \"num_unique_values\": 2,\n        \"samples\": [\n          3,\n          1\n        ],\n        \"semantic_type\": \"\",\n        \"description\": \"\"\n      }\n    },\n    {\n      \"column\": \"Class\",\n      \"properties\": {\n        \"dtype\": \"number\",\n        \"std\": 0,\n        \"min\": 2,\n        \"max\": 4,\n        \"num_unique_values\": 2,\n        \"samples\": [\n          4,\n          2\n        ],\n        \"semantic_type\": \"\",\n        \"description\": \"\"\n      }\n    }\n  ]\n}"
            }
          },
          "metadata": {},
          "execution_count": 31
        }
      ],
      "source": [
        "# Menampilkan data duplikat\n",
        "print(\"All Duplicate Rows:\")\n",
        "dataset[dataset.duplicated(keep=False)]"
      ]
    },
    {
      "cell_type": "code",
      "execution_count": 32,
      "metadata": {
        "colab": {
          "base_uri": "https://localhost:8080/",
          "height": 71
        },
        "id": "CuX6n4iwpF4O",
        "outputId": "fa70e747-4a9f-4aaa-f90e-691957dc0e08"
      },
      "outputs": [
        {
          "output_type": "stream",
          "name": "stdout",
          "text": [
            "All Duplicate Rows:\n"
          ]
        },
        {
          "output_type": "execute_result",
          "data": {
            "text/plain": [
              "Empty DataFrame\n",
              "Columns: [Clump_thickness, Uniformity_of_cell_size, Uniformity_of_cell_shape, Marginal_adhesion, Single_epithelial_cell_size, Bare_nuclei, Bland_chromatin, Normal_nucleoli, Mitoses, Class]\n",
              "Index: []"
            ],
            "text/html": [
              "\n",
              "  <div id=\"df-bec36fb0-d108-4628-afab-4e3fc011e917\" class=\"colab-df-container\">\n",
              "    <div>\n",
              "<style scoped>\n",
              "    .dataframe tbody tr th:only-of-type {\n",
              "        vertical-align: middle;\n",
              "    }\n",
              "\n",
              "    .dataframe tbody tr th {\n",
              "        vertical-align: top;\n",
              "    }\n",
              "\n",
              "    .dataframe thead th {\n",
              "        text-align: right;\n",
              "    }\n",
              "</style>\n",
              "<table border=\"1\" class=\"dataframe\">\n",
              "  <thead>\n",
              "    <tr style=\"text-align: right;\">\n",
              "      <th></th>\n",
              "      <th>Clump_thickness</th>\n",
              "      <th>Uniformity_of_cell_size</th>\n",
              "      <th>Uniformity_of_cell_shape</th>\n",
              "      <th>Marginal_adhesion</th>\n",
              "      <th>Single_epithelial_cell_size</th>\n",
              "      <th>Bare_nuclei</th>\n",
              "      <th>Bland_chromatin</th>\n",
              "      <th>Normal_nucleoli</th>\n",
              "      <th>Mitoses</th>\n",
              "      <th>Class</th>\n",
              "    </tr>\n",
              "  </thead>\n",
              "  <tbody>\n",
              "  </tbody>\n",
              "</table>\n",
              "</div>\n",
              "    <div class=\"colab-df-buttons\">\n",
              "\n",
              "  <div class=\"colab-df-container\">\n",
              "    <button class=\"colab-df-convert\" onclick=\"convertToInteractive('df-bec36fb0-d108-4628-afab-4e3fc011e917')\"\n",
              "            title=\"Convert this dataframe to an interactive table.\"\n",
              "            style=\"display:none;\">\n",
              "\n",
              "  <svg xmlns=\"http://www.w3.org/2000/svg\" height=\"24px\" viewBox=\"0 -960 960 960\">\n",
              "    <path d=\"M120-120v-720h720v720H120Zm60-500h600v-160H180v160Zm220 220h160v-160H400v160Zm0 220h160v-160H400v160ZM180-400h160v-160H180v160Zm440 0h160v-160H620v160ZM180-180h160v-160H180v160Zm440 0h160v-160H620v160Z\"/>\n",
              "  </svg>\n",
              "    </button>\n",
              "\n",
              "  <style>\n",
              "    .colab-df-container {\n",
              "      display:flex;\n",
              "      gap: 12px;\n",
              "    }\n",
              "\n",
              "    .colab-df-convert {\n",
              "      background-color: #E8F0FE;\n",
              "      border: none;\n",
              "      border-radius: 50%;\n",
              "      cursor: pointer;\n",
              "      display: none;\n",
              "      fill: #1967D2;\n",
              "      height: 32px;\n",
              "      padding: 0 0 0 0;\n",
              "      width: 32px;\n",
              "    }\n",
              "\n",
              "    .colab-df-convert:hover {\n",
              "      background-color: #E2EBFA;\n",
              "      box-shadow: 0px 1px 2px rgba(60, 64, 67, 0.3), 0px 1px 3px 1px rgba(60, 64, 67, 0.15);\n",
              "      fill: #174EA6;\n",
              "    }\n",
              "\n",
              "    .colab-df-buttons div {\n",
              "      margin-bottom: 4px;\n",
              "    }\n",
              "\n",
              "    [theme=dark] .colab-df-convert {\n",
              "      background-color: #3B4455;\n",
              "      fill: #D2E3FC;\n",
              "    }\n",
              "\n",
              "    [theme=dark] .colab-df-convert:hover {\n",
              "      background-color: #434B5C;\n",
              "      box-shadow: 0px 1px 3px 1px rgba(0, 0, 0, 0.15);\n",
              "      filter: drop-shadow(0px 1px 2px rgba(0, 0, 0, 0.3));\n",
              "      fill: #FFFFFF;\n",
              "    }\n",
              "  </style>\n",
              "\n",
              "    <script>\n",
              "      const buttonEl =\n",
              "        document.querySelector('#df-bec36fb0-d108-4628-afab-4e3fc011e917 button.colab-df-convert');\n",
              "      buttonEl.style.display =\n",
              "        google.colab.kernel.accessAllowed ? 'block' : 'none';\n",
              "\n",
              "      async function convertToInteractive(key) {\n",
              "        const element = document.querySelector('#df-bec36fb0-d108-4628-afab-4e3fc011e917');\n",
              "        const dataTable =\n",
              "          await google.colab.kernel.invokeFunction('convertToInteractive',\n",
              "                                                    [key], {});\n",
              "        if (!dataTable) return;\n",
              "\n",
              "        const docLinkHtml = 'Like what you see? Visit the ' +\n",
              "          '<a target=\"_blank\" href=https://colab.research.google.com/notebooks/data_table.ipynb>data table notebook</a>'\n",
              "          + ' to learn more about interactive tables.';\n",
              "        element.innerHTML = '';\n",
              "        dataTable['output_type'] = 'display_data';\n",
              "        await google.colab.output.renderOutput(dataTable, element);\n",
              "        const docLink = document.createElement('div');\n",
              "        docLink.innerHTML = docLinkHtml;\n",
              "        element.appendChild(docLink);\n",
              "      }\n",
              "    </script>\n",
              "  </div>\n",
              "\n",
              "\n",
              "    </div>\n",
              "  </div>\n"
            ],
            "application/vnd.google.colaboratory.intrinsic+json": {
              "type": "dataframe",
              "summary": "{\n  \"name\": \"dataClean[dataClean\",\n  \"rows\": 0,\n  \"fields\": [\n    {\n      \"column\": \"Clump_thickness\",\n      \"properties\": {\n        \"dtype\": \"number\",\n        \"std\": null,\n        \"min\": null,\n        \"max\": null,\n        \"num_unique_values\": 0,\n        \"samples\": [],\n        \"semantic_type\": \"\",\n        \"description\": \"\"\n      }\n    },\n    {\n      \"column\": \"Uniformity_of_cell_size\",\n      \"properties\": {\n        \"dtype\": \"number\",\n        \"std\": null,\n        \"min\": null,\n        \"max\": null,\n        \"num_unique_values\": 0,\n        \"samples\": [],\n        \"semantic_type\": \"\",\n        \"description\": \"\"\n      }\n    },\n    {\n      \"column\": \"Uniformity_of_cell_shape\",\n      \"properties\": {\n        \"dtype\": \"number\",\n        \"std\": null,\n        \"min\": null,\n        \"max\": null,\n        \"num_unique_values\": 0,\n        \"samples\": [],\n        \"semantic_type\": \"\",\n        \"description\": \"\"\n      }\n    },\n    {\n      \"column\": \"Marginal_adhesion\",\n      \"properties\": {\n        \"dtype\": \"number\",\n        \"std\": null,\n        \"min\": null,\n        \"max\": null,\n        \"num_unique_values\": 0,\n        \"samples\": [],\n        \"semantic_type\": \"\",\n        \"description\": \"\"\n      }\n    },\n    {\n      \"column\": \"Single_epithelial_cell_size\",\n      \"properties\": {\n        \"dtype\": \"number\",\n        \"std\": null,\n        \"min\": null,\n        \"max\": null,\n        \"num_unique_values\": 0,\n        \"samples\": [],\n        \"semantic_type\": \"\",\n        \"description\": \"\"\n      }\n    },\n    {\n      \"column\": \"Bare_nuclei\",\n      \"properties\": {\n        \"dtype\": \"number\",\n        \"std\": null,\n        \"min\": null,\n        \"max\": null,\n        \"num_unique_values\": 0,\n        \"samples\": [],\n        \"semantic_type\": \"\",\n        \"description\": \"\"\n      }\n    },\n    {\n      \"column\": \"Bland_chromatin\",\n      \"properties\": {\n        \"dtype\": \"number\",\n        \"std\": null,\n        \"min\": null,\n        \"max\": null,\n        \"num_unique_values\": 0,\n        \"samples\": [],\n        \"semantic_type\": \"\",\n        \"description\": \"\"\n      }\n    },\n    {\n      \"column\": \"Normal_nucleoli\",\n      \"properties\": {\n        \"dtype\": \"number\",\n        \"std\": null,\n        \"min\": null,\n        \"max\": null,\n        \"num_unique_values\": 0,\n        \"samples\": [],\n        \"semantic_type\": \"\",\n        \"description\": \"\"\n      }\n    },\n    {\n      \"column\": \"Mitoses\",\n      \"properties\": {\n        \"dtype\": \"number\",\n        \"std\": null,\n        \"min\": null,\n        \"max\": null,\n        \"num_unique_values\": 0,\n        \"samples\": [],\n        \"semantic_type\": \"\",\n        \"description\": \"\"\n      }\n    },\n    {\n      \"column\": \"Class\",\n      \"properties\": {\n        \"dtype\": \"number\",\n        \"std\": null,\n        \"min\": null,\n        \"max\": null,\n        \"num_unique_values\": 0,\n        \"samples\": [],\n        \"semantic_type\": \"\",\n        \"description\": \"\"\n      }\n    }\n  ]\n}"
            }
          },
          "metadata": {},
          "execution_count": 32
        }
      ],
      "source": [
        "# Menghapus data duplikat, menyimpan data dalam variabel dataClean\n",
        "dataClean = dataset.drop_duplicates()\n",
        "print(\"All Duplicate Rows:\")\n",
        "dataClean[dataClean.duplicated(keep=False)]"
      ]
    },
    {
      "cell_type": "code",
      "execution_count": 33,
      "metadata": {
        "colab": {
          "base_uri": "https://localhost:8080/"
        },
        "id": "yOBAXa1zrzpz",
        "outputId": "9c235023-f167-44b7-963e-be77ada4fcd6"
      },
      "outputs": [
        {
          "output_type": "stream",
          "name": "stdout",
          "text": [
            "<class 'pandas.core.frame.DataFrame'>\n",
            "RangeIndex: 259 entries, 0 to 258\n",
            "Data columns (total 10 columns):\n",
            " #   Column                       Non-Null Count  Dtype  \n",
            "---  ------                       --------------  -----  \n",
            " 0   Clump_thickness              259 non-null    int64  \n",
            " 1   Uniformity_of_cell_size      259 non-null    int64  \n",
            " 2   Uniformity_of_cell_shape     259 non-null    int64  \n",
            " 3   Marginal_adhesion            259 non-null    int64  \n",
            " 4   Single_epithelial_cell_size  259 non-null    int64  \n",
            " 5   Bare_nuclei                  259 non-null    float64\n",
            " 6   Bland_chromatin              259 non-null    int64  \n",
            " 7   Normal_nucleoli              259 non-null    int64  \n",
            " 8   Mitoses                      259 non-null    int64  \n",
            " 9   Class                        259 non-null    int64  \n",
            "dtypes: float64(1), int64(9)\n",
            "memory usage: 20.4 KB\n"
          ]
        }
      ],
      "source": [
        "dataset.info()"
      ]
    },
    {
      "cell_type": "code",
      "execution_count": 34,
      "metadata": {
        "colab": {
          "base_uri": "https://localhost:8080/"
        },
        "id": "rj9mWcaFpF7M",
        "outputId": "93ef2ea2-f123-4329-fca7-6eaecd07a9f2"
      },
      "outputs": [
        {
          "output_type": "stream",
          "name": "stdout",
          "text": [
            "<class 'pandas.core.frame.DataFrame'>\n",
            "Index: 200 entries, 0 to 257\n",
            "Data columns (total 10 columns):\n",
            " #   Column                       Non-Null Count  Dtype  \n",
            "---  ------                       --------------  -----  \n",
            " 0   Clump_thickness              200 non-null    int64  \n",
            " 1   Uniformity_of_cell_size      200 non-null    int64  \n",
            " 2   Uniformity_of_cell_shape     200 non-null    int64  \n",
            " 3   Marginal_adhesion            200 non-null    int64  \n",
            " 4   Single_epithelial_cell_size  200 non-null    int64  \n",
            " 5   Bare_nuclei                  200 non-null    float64\n",
            " 6   Bland_chromatin              200 non-null    int64  \n",
            " 7   Normal_nucleoli              200 non-null    int64  \n",
            " 8   Mitoses                      200 non-null    int64  \n",
            " 9   Class                        200 non-null    int64  \n",
            "dtypes: float64(1), int64(9)\n",
            "memory usage: 17.2 KB\n"
          ]
        }
      ],
      "source": [
        "dataClean.info()"
      ]
    },
    {
      "cell_type": "markdown",
      "metadata": {
        "id": "J9F9T1KFqdLi"
      },
      "source": [
        "<h4>Temuan:</h4><br>\n",
        "\n"
      ]
    },
    {
      "cell_type": "markdown",
      "metadata": {
        "id": "DgNuzCAlgTRa"
      },
      "source": [
        "## <b>6) Menkonstruksi Data</b> <a class=\"anchor\" id=\"h2\"></a>"
      ]
    },
    {
      "cell_type": "code",
      "execution_count": 35,
      "metadata": {
        "id": "27ek6mL7j6qH",
        "colab": {
          "base_uri": "https://localhost:8080/",
          "height": 670
        },
        "outputId": "b5224369-7212-4fd6-cc70-00f57a8648a6"
      },
      "outputs": [
        {
          "output_type": "stream",
          "name": "stdout",
          "text": [
            "Class\n",
            "4    160\n",
            "2     40\n",
            "Name: count, dtype: int64\n"
          ]
        },
        {
          "output_type": "display_data",
          "data": {
            "text/plain": [
              "<Figure size 700x600 with 1 Axes>"
            ],
            "image/png": "[encoded data removed]"
          },
          "metadata": {}
        }
      ],
      "source": [
        "plot_data = dataClean['Class'].value_counts()\n",
        "print(plot_data)\n",
        "sns.set_theme(font_scale=1.0)\n",
        "plot_data.plot(kind='bar', figsize=(7, 6), rot=0)\n",
        "plt.xlabel(\"Status Pasien kanker payudara\", labelpad=14)\n",
        "plt.ylabel(\"Jumlah\", labelpad=14)\n",
        "plt.title(\"Distribusi data status kanker payudara\", y=1.02);\n",
        "\n",
        "for i, counts in enumerate(plot_data):\n",
        "  plt.text(i, (counts + 1), str(counts), ha='center')\n",
        "\n",
        "plt.show()"
      ]
    },
    {
      "cell_type": "markdown",
      "metadata": {
        "id": "DqwksNUij6qH"
      },
      "source": [
        "<h4>\n",
        "  ###<b style=\"color:yellow;\">Essay 3</b>\n",
        "  <br>\n",
        "  Setelah menjalankan code diatas,<br>\n",
        "  Deskripsikan Temuan Anda disini:\n",
        "</h4><br>\n",
        "\n"
      ]
    },
    {
      "cell_type": "markdown",
      "metadata": {
        "id": "lb8IPfwLj6qH"
      },
      "source": [
        "<h4>⬇ <b style=\"color:orange;\">Instruksi</b>: Ubah \"<b style=\"color:yellow;\">[fix_me]</b>\" dengan code yang benar!</h4>"
      ]
    },
    {
      "cell_type": "code",
      "execution_count": 36,
      "metadata": {
        "id": "W-ZiYFtapF-F",
        "colab": {
          "base_uri": "https://localhost:8080/",
          "height": 1000
        },
        "outputId": "decd6480-1fe4-4d10-edce-74b614e7dc3d"
      },
      "outputs": [
        {
          "output_type": "display_data",
          "data": {
            "text/plain": [
              "<Figure size 1200x1200 with 2 Axes>"
            ],
            "image/png": "[encoded data removed]"
          },
          "metadata": {}
        }
      ],
      "source": [
        "# Menampilkan Korelasi antar Fitur\n",
        "correlation = dataClean.corr()\n",
        "plt.figure(figsize=(12, 12))\n",
        "plt.title(\"Heatmap Korelasi antar Fitur\", y=1.02, fontdict={'size': 24})\n",
        "sns.heatmap(\n",
        "  correlation.round(2),\n",
        "  annot = True,\n",
        "  vmax = 1,\n",
        "  square = True,\n",
        "  cmap = 'RdYlGn_r'\n",
        ")\n",
        "\n",
        "plt.show()"
      ]
    },
    {
      "cell_type": "markdown",
      "metadata": {
        "id": "EEvgM5uUj6qH"
      },
      "source": [
        "<h4>⬆ <b>Expected <span style=\"color:tomato;\">Output</span></b>:</h4>\n",
        "\n",
        "<img src=\"https://lh3.googleusercontent.com/fife/ALs6j_Et4Z_yOASpxJTSkRaH02O3_rmtenydQEbl0yeCVYA3YF08F_bv4hw5dTQmYYaJb_pFGl3p6g4cw3k4qFgJ9sErqvarMow4e5hfF5STEkmUNC5eEtMV1iziyUi6nmAOeFTvWqEJKWe3L-CcPPevSjs3wYHQ0Kh-ABud6H0e9Ks9YEkEJHWdy20bsljte8oF9hM14HeDzCZ-9xpH88aV6truJElszA0H2OKgnaQ_bdF94yHjUjs014cgAvKDgPsHAUn98C88QmjdQVyEw2c7P1_E76rzoYo4tACRxXOWN8-2QOxu5584y7AW3xCuQyMLmq5lb9BqoDuPQLJbYRnngIjtK1HbYpxBI8biJNJgUrUAXnuTDCKUE2dSIXvm8TOhmSfQ01-ojVU-CiN_bB1PkhdRw0UciyshL_n8-i05GwtoiRXZN06nlvsS1R_Hrhgv__3X-WlJ6HWuII8zvkxIuY7UrENZYYX5DB5f-4qQyPWzCEO7M36DMRdKzbNYKvszAUWrbNz_M-nb_8LFTqQg9PSN5zQlJ3pD0sDFaO585Mdj8ZWIMPy79O7E8VvAn0vKAcQWnSIPFgMr3pEPEQSLmzKW1-R_mdksYvwNjhnPDBMzYu9BiBedvV2aayLJ4K-aI9YP9HcrbtoTm98rkhgcSuNtxegTtjn4ucApib2eDRGpfiA77IIiKgRTTxVqIENSYP9QsGQX01KEFeOzDE0blhqgoOCWsShuHKudOZ1m9XKedkb-OpPREDiwBRcOpv1CabsUaqJZhaPgIFvAIbukuVw8AziTLNLPSazfVUcJebuo2FLx5Qp6sLZCJC4LdmckIu9smLRfq4Xdgvw-LaaPVqO4neo8IBtnTvKPgmvQfu0fyrSvBHkJvLfDGxlOkHOOtByRx0gKtdGDkcN8Q6mGmlmSoLE4m9ziDTbFoOtKcsPiffzSZSl_wLWqFRqvcajzKOjBZLWRFWigdLuT70gxm3l81NEgarWrr2VcYv6iTqSOpLQ2gzKkP2clERuPOqOdVmBRSBijNVfy3C3SP4XxklDu6xpkO8i8dmZ_cnXFcQH8_1RLACPjQs6iAOIsd3gFQI0oRfrpqetNM5SdVJWn7M-OobXErTWv_8LxF9fqFtHr9YHkLRrXgt2Qjlk_sAnhIwNB7CsiwoBMdA7EX9VayGcwmyEo3ZuUgaBrPmyXMfSGxz_lrWQi9uZTHvx_YqXo9smBslCJlGqaqzayAfQM4L73LA5Md4ay5lZ09njD0FfdBFRIqW0QfsBB9tOaIyOiQFmrQdPdWhKVdBIjp_5xvQJgVimLWysH9uRaEpqeKy7rC1m_VH-zBHmSUI-Jg_mNIAg3pkq6TdPo1odYDYRrd_yA7lilDFUieNPr76CTxWWvk5JclBxhq0wMdMdTkX8LZoNN6EZNTTi4mYJ-23QmLb6xHdgJzF4Q7bsyS9YhDEmd558KpML7KK5NC4ImwQ8pR4D_JCyELtRgV4U_qQJQ-BwP7-yZcnVM8d36oIs-H9VSftqtIlNx1p2qeuWyPburYJzrto2IjKpoKKooa_FTFeTn2MfcLlgBslMjkA9a8hh_3uBd5jDpBPGswkhnV7d8nfusE5J8pkuLLct4Fx3FxItCiO_nqGZEJy2KbrK9-YYnJ2sCqA38eZNvNW3SFpveik0Pk9_-erB49auHWTIIRWTmkW-kgtCEdup1_Ptq-fP5sr1Qrjinp9hgwuD1xPHOn3bwTk_hgdtxR9uLvoNXCh__c7w5Iz3_es0qB2Qhp_hTqh8SfMFc-SBZCQ3r2-DWqf-KtVKdpq9nKibsVRLSZ9HP2cTegeZMRo-DYvw=w1920-h936\" alt=\"img_13.png\" width=\"800\">"
      ]
    },
    {
      "cell_type": "code",
      "execution_count": 37,
      "metadata": {
        "colab": {
          "base_uri": "https://localhost:8080/",
          "height": 850
        },
        "id": "G1adgjTss807",
        "outputId": "cf3ac3dc-4d34-4d0d-f19c-6b09dc95aa07"
      },
      "outputs": [
        {
          "output_type": "display_data",
          "data": {
            "text/plain": [
              "<Figure size 2000x2000 with 30 Axes>"
            ],
            "image/png": "[encoded data removed]"
          },
          "metadata": {}
        }
      ],
      "source": [
        "# Menampilkan Boxplot untuk melihat adanya Outlayer\n",
        "ax = dataClean.plot(\n",
        "  kind='box',\n",
        "  subplots=True,\n",
        "  layout=(5, 6),\n",
        "  sharex=False,\n",
        "  figsize=(20, 20),\n",
        "  title='figure 1: Data distributions of all features'\n",
        ")\n",
        "\n",
        "plt.show()"
      ]
    },
    {
      "cell_type": "markdown",
      "metadata": {
        "id": "oC_k3wNEj6qJ"
      },
      "source": [
        "<h4>⬇ <b style=\"color:yellow;\">BONUS STAGE 2 <span style=\"color:tomato;\">(Challange)</span></b>:\n",
        "<br><br>\n",
        "Buatlah <b style=\"color:orange;\">Box-plot</b> dengan dasar <b style=\"color:yellow;\">target-attribute (Class)</b> untuk setiap fitur/atribut seperti contoh di-bawah!</h4>"
      ]
    },
    {
      "cell_type": "code",
      "execution_count": null,
      "metadata": {
        "id": "Dy6-0mcTj6qJ"
      },
      "outputs": [],
      "source": [
        "# Tampilkan Box-plot dengan dasar target-attribute (Class) untuk setiap fitur/atribut\n"
      ]
    },
    {
      "cell_type": "markdown",
      "metadata": {
        "id": "8yHFPD9Fj6qJ"
      },
      "source": [
        "<h4>⬆ <b>Expected <span style=\"color:tomato;\">Output</span></b>:</h4>\n",
        "\n",
        "<img src=\"https://lh3.googleusercontent.com/fife/ALs6j_Gofsd0KuQX1C8e-e0VyLPjQSLCoGxPMtVKF52t2fVbbGqBgt0IGDTsJxVmeQ8gLn0BVvzDK-xXH3-hVF9zl1nSL6p5ExPv5d9zegGINQPHUBoGn3DIiF4vlVzZ0bFd3b3WaSrQzYUk9r-UOiYIwDXKT4LmZmFud_HL-YEOCc0m7-geAzknC8Jwu12H4mJyqlfXbxal6OY05M6kJ4TCs3vxV_DjIxH1AOT2i5J60CUU5f_JKa7khVFctvGG8uqcaWs9pEPXBCZglFXVhcs0P_6m1dzuXN7D9gRAQMmMmecl8dktI7C-MVhcx0sQauNZ3qdsz8JpPxRncL_ciB5Mcfx2je1K6T2nahAhKclivRYUH9RcoD5rMeAQPmLgfklmWN02-HG4nka-5LcqhRhimiSBdSpgLOzrGg2bE-it9X3m8GaXWJQ2YL08gLQdOvXbW8VG6lGnTyzg429IV_jbnP9_810g6GwU40LdEo3LiKXdL2cw5TN_bJ--Kh2V-nIxdN8CqpIFgVZs1hAgGm2gSby17Q4KFqcM09W_u7221jr3v8zffYJTlnG1-RF9QWN60oxHqxvsZGzVd8aLX9SY2Rfce_u1Ds1yR1_19QI0i7rG7u6sbO7knVnOuIGU_XWRxND8Fwpxy3z_4Iaj558zXGmJD9lCDt5jDwzNm2Jwa7DoOz1JyrRMSFqhzedgmJEymLDoR7kwBSZ6Hlz8lNshshHe9N1S8f8lsbHrgAg1cjj8e6M2fQaI7GisBr_4XIa-zFx_MS5eH4whnz5SNtDaN3EHrJJ81hxo8WllApocdjVHCDwEkrZSp3iGTb4QUrSo-NNfUZq3CQhLgO9WZAYqSWK3syk4DymTcUHQxACrr0jaUqpq0qQ5-DBQz3psDZ1i9Xsqb7TRfvOF9M2E7QkFAq78Y14TkTnx7u9RwWFDFvCMj73brdswvXdDyaNHAnJhubqlVpBMPkxtjpkST4tGS4YxBwSkUiNMivqxn9lYud_N0fQilOReVZ5sBYwL3-HiI_J16Qvaag_FUhqVY7EEvDzCd3Wo6--tJJey7bzoXc81ErrWzaLt1eUACu4rd1uDjcYlWV-dP7pEBrbGuLORtqvqXoc2nrJyjdFECSRCvLARwQv5cnhTSf0xIazAYVHzhxBnGNa4aFBcRrjmmDyKvBWDsGaI9ooaoZJsxm04FXsnezTKAjZtIrdORXln3ydVjTaaIwW3-e9MK49xiEmWRf5R-AgWAS20JFeHYqRc2Vj2OWnrIerswfVWrmHhTVERWmyVBu53X1FE7Mw8EJPP3L35Zr6dEaRvV57b6qJ_7cQDqTCu7UKiA8qK6sJ4vMEImz5XSAkGQzuFaEtdjXuf4zErMA7zx6lvY5waYUO9k56ki5Lby2gFOG5BJl5W5AVYq3odDSfzfQpoCpWZvbOBhwvmfQpvFlJXfn5q8lc2o0qKd9yHiaigCCq-uea5Byzzu1-JQjF7EJ8kekMtH7Iynzgx7b51ymcR_5qRSXxogb2tx24TcYmHvT7OO6ETvQB_LQEmhgcYmkj96tloBBPra8IijQPpcw0doLgbKDuquxMa1XRpyoXO0oyqm5kPPKNUdYhH14XYeZEepkHCa7mLnEu3UV0yZ3t5K_s84BrIg5MkjvhPBDxOlewfuLmx1mVturgbbh8IS0vAQ9G4OtC4C9FXfCr_Z-6gG7TZJZFGUmuYpiWKgeMvhadmiWv_x05xUlgrSDqFXkVd4_NqlBB-tapLc7GSN72MNaY3WYKEIa-fGyqUkUZbFceLPlBMff7xc6kM1rHeTvfvhGwJ-I_qSQzTI9DrSqPtREW0mcid=w1920-h936\" alt=\"img_14.png\" width=\"1000\">"
      ]
    },
    {
      "cell_type": "markdown",
      "metadata": {
        "id": "bPrTPx9oj6qJ"
      },
      "source": [
        "<h4>⬇ <b style=\"color:orange;\">Instruksi</b>: Isi <i style=\"color:yellow;font-weight:bold;\">code-cell</i> berikut agar menghasilkan <b style=\"color:tomato;\">output</b> yang sesuai!</h4>"
      ]
    },
    {
      "cell_type": "code",
      "execution_count": 38,
      "metadata": {
        "id": "-bxYIkp3s86n",
        "colab": {
          "base_uri": "https://localhost:8080/",
          "height": 300
        },
        "outputId": "982fa0a9-83b1-48e9-d8f6-bc3f6cfe7641"
      },
      "outputs": [
        {
          "output_type": "execute_result",
          "data": {
            "text/plain": [
              "       Clump_thickness  Uniformity_of_cell_size  Uniformity_of_cell_shape  \\\n",
              "count       200.000000               200.000000                200.000000   \n",
              "mean          6.325000                 5.285000                  5.450000   \n",
              "std           2.765432                 2.999795                  2.910301   \n",
              "min           1.000000                 1.000000                  1.000000   \n",
              "25%           4.000000                 3.000000                  3.000000   \n",
              "50%           6.000000                 5.000000                  5.500000   \n",
              "75%           9.000000                 8.000000                  8.000000   \n",
              "max          10.000000                10.000000                 10.000000   \n",
              "\n",
              "       Marginal_adhesion  Single_epithelial_cell_size  Bare_nuclei  \\\n",
              "count         200.000000                    200.00000   200.000000   \n",
              "mean            4.710000                      4.74500     6.195000   \n",
              "std             3.186955                      2.63528     3.400706   \n",
              "min             1.000000                      1.00000     1.000000   \n",
              "25%             2.000000                      3.00000     3.000000   \n",
              "50%             4.000000                      4.00000     6.000000   \n",
              "75%             7.000000                      6.00000    10.000000   \n",
              "max            10.000000                     10.00000    10.000000   \n",
              "\n",
              "       Bland_chromatin  Normal_nucleoli     Mitoses       Class  \n",
              "count       200.000000       200.000000  200.000000  200.000000  \n",
              "mean          5.240000         5.040000    3.110000    3.600000  \n",
              "std           2.696061         3.369744    2.797684    0.802008  \n",
              "min           1.000000         1.000000    1.000000    2.000000  \n",
              "25%           3.000000         1.000000    1.000000    4.000000  \n",
              "50%           5.000000         5.000000    2.000000    4.000000  \n",
              "75%           7.000000         8.000000    5.000000    4.000000  \n",
              "max          10.000000        10.000000   10.000000    4.000000  "
            ],
            "text/html": [
              "\n",
              "  <div id=\"df-58bfa5cc-0ae0-47a9-aac4-5bbff5f6ef43\" class=\"colab-df-container\">\n",
              "    <div>\n",
              "<style scoped>\n",
              "    .dataframe tbody tr th:only-of-type {\n",
              "        vertical-align: middle;\n",
              "    }\n",
              "\n",
              "    .dataframe tbody tr th {\n",
              "        vertical-align: top;\n",
              "    }\n",
              "\n",
              "    .dataframe thead th {\n",
              "        text-align: right;\n",
              "    }\n",
              "</style>\n",
              "<table border=\"1\" class=\"dataframe\">\n",
              "  <thead>\n",
              "    <tr style=\"text-align: right;\">\n",
              "      <th></th>\n",
              "      <th>Clump_thickness</th>\n",
              "      <th>Uniformity_of_cell_size</th>\n",
              "      <th>Uniformity_of_cell_shape</th>\n",
              "      <th>Marginal_adhesion</th>\n",
              "      <th>Single_epithelial_cell_size</th>\n",
              "      <th>Bare_nuclei</th>\n",
              "      <th>Bland_chromatin</th>\n",
              "      <th>Normal_nucleoli</th>\n",
              "      <th>Mitoses</th>\n",
              "      <th>Class</th>\n",
              "    </tr>\n",
              "  </thead>\n",
              "  <tbody>\n",
              "    <tr>\n",
              "      <th>count</th>\n",
              "      <td>200.000000</td>\n",
              "      <td>200.000000</td>\n",
              "      <td>200.000000</td>\n",
              "      <td>200.000000</td>\n",
              "      <td>200.00000</td>\n",
              "      <td>200.000000</td>\n",
              "      <td>200.000000</td>\n",
              "      <td>200.000000</td>\n",
              "      <td>200.000000</td>\n",
              "      <td>200.000000</td>\n",
              "    </tr>\n",
              "    <tr>\n",
              "      <th>mean</th>\n",
              "      <td>6.325000</td>\n",
              "      <td>5.285000</td>\n",
              "      <td>5.450000</td>\n",
              "      <td>4.710000</td>\n",
              "      <td>4.74500</td>\n",
              "      <td>6.195000</td>\n",
              "      <td>5.240000</td>\n",
              "      <td>5.040000</td>\n",
              "      <td>3.110000</td>\n",
              "      <td>3.600000</td>\n",
              "    </tr>\n",
              "    <tr>\n",
              "      <th>std</th>\n",
              "      <td>2.765432</td>\n",
              "      <td>2.999795</td>\n",
              "      <td>2.910301</td>\n",
              "      <td>3.186955</td>\n",
              "      <td>2.63528</td>\n",
              "      <td>3.400706</td>\n",
              "      <td>2.696061</td>\n",
              "      <td>3.369744</td>\n",
              "      <td>2.797684</td>\n",
              "      <td>0.802008</td>\n",
              "    </tr>\n",
              "    <tr>\n",
              "      <th>min</th>\n",
              "      <td>1.000000</td>\n",
              "      <td>1.000000</td>\n",
              "      <td>1.000000</td>\n",
              "      <td>1.000000</td>\n",
              "      <td>1.00000</td>\n",
              "      <td>1.000000</td>\n",
              "      <td>1.000000</td>\n",
              "      <td>1.000000</td>\n",
              "      <td>1.000000</td>\n",
              "      <td>2.000000</td>\n",
              "    </tr>\n",
              "    <tr>\n",
              "      <th>25%</th>\n",
              "      <td>4.000000</td>\n",
              "      <td>3.000000</td>\n",
              "      <td>3.000000</td>\n",
              "      <td>2.000000</td>\n",
              "      <td>3.00000</td>\n",
              "      <td>3.000000</td>\n",
              "      <td>3.000000</td>\n",
              "      <td>1.000000</td>\n",
              "      <td>1.000000</td>\n",
              "      <td>4.000000</td>\n",
              "    </tr>\n",
              "    <tr>\n",
              "      <th>50%</th>\n",
              "      <td>6.000000</td>\n",
              "      <td>5.000000</td>\n",
              "      <td>5.500000</td>\n",
              "      <td>4.000000</td>\n",
              "      <td>4.00000</td>\n",
              "      <td>6.000000</td>\n",
              "      <td>5.000000</td>\n",
              "      <td>5.000000</td>\n",
              "      <td>2.000000</td>\n",
              "      <td>4.000000</td>\n",
              "    </tr>\n",
              "    <tr>\n",
              "      <th>75%</th>\n",
              "      <td>9.000000</td>\n",
              "      <td>8.000000</td>\n",
              "      <td>8.000000</td>\n",
              "      <td>7.000000</td>\n",
              "      <td>6.00000</td>\n",
              "      <td>10.000000</td>\n",
              "      <td>7.000000</td>\n",
              "      <td>8.000000</td>\n",
              "      <td>5.000000</td>\n",
              "      <td>4.000000</td>\n",
              "    </tr>\n",
              "    <tr>\n",
              "      <th>max</th>\n",
              "      <td>10.000000</td>\n",
              "      <td>10.000000</td>\n",
              "      <td>10.000000</td>\n",
              "      <td>10.000000</td>\n",
              "      <td>10.00000</td>\n",
              "      <td>10.000000</td>\n",
              "      <td>10.000000</td>\n",
              "      <td>10.000000</td>\n",
              "      <td>10.000000</td>\n",
              "      <td>4.000000</td>\n",
              "    </tr>\n",
              "  </tbody>\n",
              "</table>\n",
              "</div>\n",
              "    <div class=\"colab-df-buttons\">\n",
              "\n",
              "  <div class=\"colab-df-container\">\n",
              "    <button class=\"colab-df-convert\" onclick=\"convertToInteractive('df-58bfa5cc-0ae0-47a9-aac4-5bbff5f6ef43')\"\n",
              "            title=\"Convert this dataframe to an interactive table.\"\n",
              "            style=\"display:none;\">\n",
              "\n",
              "  <svg xmlns=\"http://www.w3.org/2000/svg\" height=\"24px\" viewBox=\"0 -960 960 960\">\n",
              "    <path d=\"M120-120v-720h720v720H120Zm60-500h600v-160H180v160Zm220 220h160v-160H400v160Zm0 220h160v-160H400v160ZM180-400h160v-160H180v160Zm440 0h160v-160H620v160ZM180-180h160v-160H180v160Zm440 0h160v-160H620v160Z\"/>\n",
              "  </svg>\n",
              "    </button>\n",
              "\n",
              "  <style>\n",
              "    .colab-df-container {\n",
              "      display:flex;\n",
              "      gap: 12px;\n",
              "    }\n",
              "\n",
              "    .colab-df-convert {\n",
              "      background-color: #E8F0FE;\n",
              "      border: none;\n",
              "      border-radius: 50%;\n",
              "      cursor: pointer;\n",
              "      display: none;\n",
              "      fill: #1967D2;\n",
              "      height: 32px;\n",
              "      padding: 0 0 0 0;\n",
              "      width: 32px;\n",
              "    }\n",
              "\n",
              "    .colab-df-convert:hover {\n",
              "      background-color: #E2EBFA;\n",
              "      box-shadow: 0px 1px 2px rgba(60, 64, 67, 0.3), 0px 1px 3px 1px rgba(60, 64, 67, 0.15);\n",
              "      fill: #174EA6;\n",
              "    }\n",
              "\n",
              "    .colab-df-buttons div {\n",
              "      margin-bottom: 4px;\n",
              "    }\n",
              "\n",
              "    [theme=dark] .colab-df-convert {\n",
              "      background-color: #3B4455;\n",
              "      fill: #D2E3FC;\n",
              "    }\n",
              "\n",
              "    [theme=dark] .colab-df-convert:hover {\n",
              "      background-color: #434B5C;\n",
              "      box-shadow: 0px 1px 3px 1px rgba(0, 0, 0, 0.15);\n",
              "      filter: drop-shadow(0px 1px 2px rgba(0, 0, 0, 0.3));\n",
              "      fill: #FFFFFF;\n",
              "    }\n",
              "  </style>\n",
              "\n",
              "    <script>\n",
              "      const buttonEl =\n",
              "        document.querySelector('#df-58bfa5cc-0ae0-47a9-aac4-5bbff5f6ef43 button.colab-df-convert');\n",
              "      buttonEl.style.display =\n",
              "        google.colab.kernel.accessAllowed ? 'block' : 'none';\n",
              "\n",
              "      async function convertToInteractive(key) {\n",
              "        const element = document.querySelector('#df-58bfa5cc-0ae0-47a9-aac4-5bbff5f6ef43');\n",
              "        const dataTable =\n",
              "          await google.colab.kernel.invokeFunction('convertToInteractive',\n",
              "                                                    [key], {});\n",
              "        if (!dataTable) return;\n",
              "\n",
              "        const docLinkHtml = 'Like what you see? Visit the ' +\n",
              "          '<a target=\"_blank\" href=https://colab.research.google.com/notebooks/data_table.ipynb>data table notebook</a>'\n",
              "          + ' to learn more about interactive tables.';\n",
              "        element.innerHTML = '';\n",
              "        dataTable['output_type'] = 'display_data';\n",
              "        await google.colab.output.renderOutput(dataTable, element);\n",
              "        const docLink = document.createElement('div');\n",
              "        docLink.innerHTML = docLinkHtml;\n",
              "        element.appendChild(docLink);\n",
              "      }\n",
              "    </script>\n",
              "  </div>\n",
              "\n",
              "\n",
              "<div id=\"df-8aeca095-d86a-4938-bec4-cd5181e6496b\">\n",
              "  <button class=\"colab-df-quickchart\" onclick=\"quickchart('df-8aeca095-d86a-4938-bec4-cd5181e6496b')\"\n",
              "            title=\"Suggest charts\"\n",
              "            style=\"display:none;\">\n",
              "\n",
              "<svg xmlns=\"http://www.w3.org/2000/svg\" height=\"24px\"viewBox=\"0 0 24 24\"\n",
              "     width=\"24px\">\n",
              "    <g>\n",
              "        <path d=\"M19 3H5c-1.1 0-2 .9-2 2v14c0 1.1.9 2 2 2h14c1.1 0 2-.9 2-2V5c0-1.1-.9-2-2-2zM9 17H7v-7h2v7zm4 0h-2V7h2v10zm4 0h-2v-4h2v4z\"/>\n",
              "    </g>\n",
              "</svg>\n",
              "  </button>\n",
              "\n",
              "<style>\n",
              "  .colab-df-quickchart {\n",
              "      --bg-color: #E8F0FE;\n",
              "      --fill-color: #1967D2;\n",
              "      --hover-bg-color: #E2EBFA;\n",
              "      --hover-fill-color: #174EA6;\n",
              "      --disabled-fill-color: #AAA;\n",
              "      --disabled-bg-color: #DDD;\n",
              "  }\n",
              "\n",
              "  [theme=dark] .colab-df-quickchart {\n",
              "      --bg-color: #3B4455;\n",
              "      --fill-color: #D2E3FC;\n",
              "      --hover-bg-color: #434B5C;\n",
              "      --hover-fill-color: #FFFFFF;\n",
              "      --disabled-bg-color: #3B4455;\n",
              "      --disabled-fill-color: #666;\n",
              "  }\n",
              "\n",
              "  .colab-df-quickchart {\n",
              "    background-color: var(--bg-color);\n",
              "    border: none;\n",
              "    border-radius: 50%;\n",
              "    cursor: pointer;\n",
              "    display: none;\n",
              "    fill: var(--fill-color);\n",
              "    height: 32px;\n",
              "    padding: 0;\n",
              "    width: 32px;\n",
              "  }\n",
              "\n",
              "  .colab-df-quickchart:hover {\n",
              "    background-color: var(--hover-bg-color);\n",
              "    box-shadow: 0 1px 2px rgba(60, 64, 67, 0.3), 0 1px 3px 1px rgba(60, 64, 67, 0.15);\n",
              "    fill: var(--button-hover-fill-color);\n",
              "  }\n",
              "\n",
              "  .colab-df-quickchart-complete:disabled,\n",
              "  .colab-df-quickchart-complete:disabled:hover {\n",
              "    background-color: var(--disabled-bg-color);\n",
              "    fill: var(--disabled-fill-color);\n",
              "    box-shadow: none;\n",
              "  }\n",
              "\n",
              "  .colab-df-spinner {\n",
              "    border: 2px solid var(--fill-color);\n",
              "    border-color: transparent;\n",
              "    border-bottom-color: var(--fill-color);\n",
              "    animation:\n",
              "      spin 1s steps(1) infinite;\n",
              "  }\n",
              "\n",
              "  @keyframes spin {\n",
              "    0% {\n",
              "      border-color: transparent;\n",
              "      border-bottom-color: var(--fill-color);\n",
              "      border-left-color: var(--fill-color);\n",
              "    }\n",
              "    20% {\n",
              "      border-color: transparent;\n",
              "      border-left-color: var(--fill-color);\n",
              "      border-top-color: var(--fill-color);\n",
              "    }\n",
              "    30% {\n",
              "      border-color: transparent;\n",
              "      border-left-color: var(--fill-color);\n",
              "      border-top-color: var(--fill-color);\n",
              "      border-right-color: var(--fill-color);\n",
              "    }\n",
              "    40% {\n",
              "      border-color: transparent;\n",
              "      border-right-color: var(--fill-color);\n",
              "      border-top-color: var(--fill-color);\n",
              "    }\n",
              "    60% {\n",
              "      border-color: transparent;\n",
              "      border-right-color: var(--fill-color);\n",
              "    }\n",
              "    80% {\n",
              "      border-color: transparent;\n",
              "      border-right-color: var(--fill-color);\n",
              "      border-bottom-color: var(--fill-color);\n",
              "    }\n",
              "    90% {\n",
              "      border-color: transparent;\n",
              "      border-bottom-color: var(--fill-color);\n",
              "    }\n",
              "  }\n",
              "</style>\n",
              "\n",
              "  <script>\n",
              "    async function quickchart(key) {\n",
              "      const quickchartButtonEl =\n",
              "        document.querySelector('#' + key + ' button');\n",
              "      quickchartButtonEl.disabled = true;  // To prevent multiple clicks.\n",
              "      quickchartButtonEl.classList.add('colab-df-spinner');\n",
              "      try {\n",
              "        const charts = await google.colab.kernel.invokeFunction(\n",
              "            'suggestCharts', [key], {});\n",
              "      } catch (error) {\n",
              "        console.error('Error during call to suggestCharts:', error);\n",
              "      }\n",
              "      quickchartButtonEl.classList.remove('colab-df-spinner');\n",
              "      quickchartButtonEl.classList.add('colab-df-quickchart-complete');\n",
              "    }\n",
              "    (() => {\n",
              "      let quickchartButtonEl =\n",
              "        document.querySelector('#df-8aeca095-d86a-4938-bec4-cd5181e6496b button');\n",
              "      quickchartButtonEl.style.display =\n",
              "        google.colab.kernel.accessAllowed ? 'block' : 'none';\n",
              "    })();\n",
              "  </script>\n",
              "</div>\n",
              "\n",
              "    </div>\n",
              "  </div>\n"
            ],
            "application/vnd.google.colaboratory.intrinsic+json": {
              "type": "dataframe",
              "summary": "{\n  \"name\": \"dataClean\",\n  \"rows\": 8,\n  \"fields\": [\n    {\n      \"column\": \"Clump_thickness\",\n      \"properties\": {\n        \"dtype\": \"number\",\n        \"std\": 68.80212197257923,\n        \"min\": 1.0,\n        \"max\": 200.0,\n        \"num_unique_values\": 8,\n        \"samples\": [\n          6.325,\n          6.0,\n          200.0\n        ],\n        \"semantic_type\": \"\",\n        \"description\": \"\"\n      }\n    },\n    {\n      \"column\": \"Uniformity_of_cell_size\",\n      \"properties\": {\n        \"dtype\": \"number\",\n        \"std\": 68.98867729129152,\n        \"min\": 1.0,\n        \"max\": 200.0,\n        \"num_unique_values\": 8,\n        \"samples\": [\n          5.285,\n          5.0,\n          200.0\n        ],\n        \"semantic_type\": \"\",\n        \"description\": \"\"\n      }\n    },\n    {\n      \"column\": \"Uniformity_of_cell_shape\",\n      \"properties\": {\n        \"dtype\": \"number\",\n        \"std\": 68.96030139327685,\n        \"min\": 1.0,\n        \"max\": 200.0,\n        \"num_unique_values\": 8,\n        \"samples\": [\n          5.45,\n          5.5,\n          200.0\n        ],\n        \"semantic_type\": \"\",\n        \"description\": \"\"\n      }\n    },\n    {\n      \"column\": \"Marginal_adhesion\",\n      \"properties\": {\n        \"dtype\": \"number\",\n        \"std\": 69.1585301574873,\n        \"min\": 1.0,\n        \"max\": 200.0,\n        \"num_unique_values\": 8,\n        \"samples\": [\n          4.71,\n          4.0,\n          200.0\n        ],\n        \"semantic_type\": \"\",\n        \"description\": \"\"\n      }\n    },\n    {\n      \"column\": \"Single_epithelial_cell_size\",\n      \"properties\": {\n        \"dtype\": \"number\",\n        \"std\": 69.17819175441431,\n        \"min\": 1.0,\n        \"max\": 200.0,\n        \"num_unique_values\": 8,\n        \"samples\": [\n          4.745,\n          4.0,\n          200.0\n        ],\n        \"semantic_type\": \"\",\n        \"description\": \"\"\n      }\n    },\n    {\n      \"column\": \"Bare_nuclei\",\n      \"properties\": {\n        \"dtype\": \"number\",\n        \"std\": 68.78556747767075,\n        \"min\": 1.0,\n        \"max\": 200.0,\n        \"num_unique_values\": 7,\n        \"samples\": [\n          200.0,\n          6.195,\n          6.0\n        ],\n        \"semantic_type\": \"\",\n        \"description\": \"\"\n      }\n    },\n    {\n      \"column\": \"Bland_chromatin\",\n      \"properties\": {\n        \"dtype\": \"number\",\n        \"std\": 69.05273996547693,\n        \"min\": 1.0,\n        \"max\": 200.0,\n        \"num_unique_values\": 8,\n        \"samples\": [\n          5.24,\n          5.0,\n          200.0\n        ],\n        \"semantic_type\": \"\",\n        \"description\": \"\"\n      }\n    },\n    {\n      \"column\": \"Normal_nucleoli\",\n      \"properties\": {\n        \"dtype\": \"number\",\n        \"std\": 69.09387319411894,\n        \"min\": 1.0,\n        \"max\": 200.0,\n        \"num_unique_values\": 7,\n        \"samples\": [\n          200.0,\n          5.04,\n          8.0\n        ],\n        \"semantic_type\": \"\",\n        \"description\": \"\"\n      }\n    },\n    {\n      \"column\": \"Mitoses\",\n      \"properties\": {\n        \"dtype\": \"number\",\n        \"std\": 69.51419777982036,\n        \"min\": 1.0,\n        \"max\": 200.0,\n        \"num_unique_values\": 7,\n        \"samples\": [\n          200.0,\n          3.11,\n          5.0\n        ],\n        \"semantic_type\": \"\",\n        \"description\": \"\"\n      }\n    },\n    {\n      \"column\": \"Class\",\n      \"properties\": {\n        \"dtype\": \"number\",\n        \"std\": 69.58937890720259,\n        \"min\": 0.8020075313873369,\n        \"max\": 200.0,\n        \"num_unique_values\": 5,\n        \"samples\": [\n          3.6,\n          4.0,\n          0.8020075313873369\n        ],\n        \"semantic_type\": \"\",\n        \"description\": \"\"\n      }\n    }\n  ]\n}"
            }
          },
          "metadata": {},
          "execution_count": 38
        }
      ],
      "source": [
        "# Tampilkan deskripsi data yang sudah dibersihkan\n",
        "dataClean.describe()"
      ]
    },
    {
      "cell_type": "markdown",
      "metadata": {
        "id": "PoZUpv51j6qJ"
      },
      "source": [
        "<h4>⬆ <b>Expected <span style=\"color:tomato;\">Output</span></b>:</h4>\n",
        "\n",
        "<img src=\"https://lh3.googleusercontent.com/fife/ALs6j_E8Xmr9EN_MEiCD7Zt2torMy-4gtKVWcb39_4YmKZAcAXcFwdMpvKzGA5tpl6h8ws7Cx65pLMrqDjus4zyf1I9WSpA_AKuRQAEIh-qa7M9KhCt8g-6ovly5HQOZa1or7luvJQlYm-J7SLHGjftzkGsaVAD5IpRrCwDSXYE38Dy7syfgUF33hhx6ICt6w2oT30wvmUoKRco_1BKSearUmZHoIpjbnR2q6hLYJXDM-oC6FwP9Yfvtf_Q1_4Jo2t1fcNmMPp2mdpESzoDsYvSx3cHdooZrFYc7NREN0lb3gK0-hU3YgB7SPm0qvsgjV8lY_CrpZz35_J1SVsA-V-o3V13Ofv3MNDqryxIf2iotjceVBqKFd6tYJhqWbduG8yF5U9rGUWr3ZN6gFcrzEblrw8JD3nqkm5K7zwXrh_KRb6WBeBqXrb7xmu1mstDxMIaIsRRYdQbsQbxo1Wq97cnCU-gWPMjQH6qqKARdDEvwMr7MU89jtVzdOlmLYa0caWsPYAYAanmn-8NfxaxKyel7921TcvWl1dkX-NsmxcA3bz1c7ucIoKXymWTN56bWo4RDCsOgKOVkeFW8EH7DMq_Py2_4rXjYGUsHp_AXDCRsyBWwW4qrwBLU77P3Py2mo8PNewSQXfQVVf6fIPw1F76iegG35UnHL6QczeYcz8qgXFPyY5nWKPZti4RTFNtdA7L0_JyThQeH4cZ552vIrYShDcx0rWN53XGiP7xt-0Dvb1sm25voNge67Pw4dUlS0-6r6s88zarejUl6Uei0E3X2nn1KM-izz_roFR_idFMYIcuqDA_FIbNrHZYG_IlrwvvplebtVmnFUyf4AKzGh0mCW6Z-2IgvQd4pkeHrFj8E_uEiFIVuqm6xZSt_o_eKjxknnYdr2hq5D-GJ1jvUDwKM00RqRAE0PCG_bZHiEfcnFNKx8eMNQfF3NhPowGczabCJLleiS1UjXdVFjgW1DcFRVCQSe-WVd33lihnpe2b5i4VACsGMZnqTjn3pU4eoSb-yQphNcKi3FHGckNhWo-BrWaait-WnzEEhvH7IxtCpfxLCIDysDmwvDlDYcnL4JSnTmLxo0bPzYZx2Cbe8RuDYXqnDTrUzU-FTiGqAceOdIVp8aIKGSt7i16lGwxZ9LqfvtRbDkf4tlCkUOXQ2t_xcHRVp3eee0dbwW7J4HhQWF4KGdyD82ozqJAVSrM8vJdXcOJ8hbYS4zj2AHhv0aGlaf_0MYI2R6WEw54e8aKUZDbg_7kfF9op675Z5UZ5sx6kWTdFe_wd_bUn2yCyAUgis09LdibfSNszSWOQXJQ22EoIpQuMIMhJ_GWcK2sTujrTW3y_vl0WBxoteFkFc1EVL1tDFVNEDu1F88sPTgY3XN1OykQk7MwFLzv42d5pzZxBU0RTTKLrhzpC_WDhR5tRHuEVTGZXg4EnCMuvDdOePT9JujMyODGzOdQTabmhngSEYjbTNE34aaCC29LJUeR3wX5YTPNQgV5bcRq6O51pG8Mx7bLmr8pj7Q_jtgt0cZEhHafIsZHmrLuCR4AZ1omBnGoyb8A6KfYPWbwAbij0dbjb9Cus_mswz6NR0SWar55h-bD2-BMidhYFjs5i6pG36E4bWm8ZU7LXAb3ZhrUxsg5WZtMIZZLsI-rRphNCCYoO4kj51PE4qOzRMWuikwoJBE-zJQ2iRDVGpJZUu2mILYIyxPeSrL6-x9SSxjFLDWTz9tTLU-0Il6dXRvnZgd-bfpxhVwgmrxGNJMlXt1ZTrJ0xsBnnXoheX7jsVWciSn4gGPLYntplVwPzfEqBgpdEFnZ9zxzWjUoD1LXvY11Na=w1920-h936\" alt=\"img_15.png\" width=\"1000\">"
      ]
    },
    {
      "cell_type": "code",
      "execution_count": 39,
      "metadata": {
        "colab": {
          "base_uri": "https://localhost:8080/"
        },
        "id": "75xl_xOPvAlA",
        "outputId": "1e98a456-bb98-45c6-f12e-32031628aa39"
      },
      "outputs": [
        {
          "output_type": "stream",
          "name": "stdout",
          "text": [
            "<class 'pandas.core.frame.DataFrame'>\n",
            "Index: 200 entries, 0 to 257\n",
            "Data columns (total 10 columns):\n",
            " #   Column                       Non-Null Count  Dtype  \n",
            "---  ------                       --------------  -----  \n",
            " 0   Clump_thickness              200 non-null    int64  \n",
            " 1   Uniformity_of_cell_size      200 non-null    int64  \n",
            " 2   Uniformity_of_cell_shape     200 non-null    int64  \n",
            " 3   Marginal_adhesion            200 non-null    int64  \n",
            " 4   Single_epithelial_cell_size  200 non-null    int64  \n",
            " 5   Bare_nuclei                  200 non-null    float64\n",
            " 6   Bland_chromatin              200 non-null    int64  \n",
            " 7   Normal_nucleoli              200 non-null    int64  \n",
            " 8   Mitoses                      200 non-null    int64  \n",
            " 9   Class                        200 non-null    int64  \n",
            "dtypes: float64(1), int64(9)\n",
            "memory usage: 17.2 KB\n"
          ]
        }
      ],
      "source": [
        "dataClean.info()"
      ]
    },
    {
      "cell_type": "code",
      "execution_count": 40,
      "metadata": {
        "colab": {
          "base_uri": "https://localhost:8080/",
          "height": 423
        },
        "id": "fx_up8CAvWvK",
        "outputId": "28e4d375-abc3-4fa0-9406-c56a85057d6e"
      },
      "outputs": [
        {
          "output_type": "execute_result",
          "data": {
            "text/plain": [
              "     Clump_thickness  Uniformity_of_cell_size  Uniformity_of_cell_shape  \\\n",
              "0                  2                        3                         4   \n",
              "1                 10                        3                         3   \n",
              "2                  3                       10                         3   \n",
              "3                 10                        3                         5   \n",
              "4                 10                        5                         5   \n",
              "..               ...                      ...                       ...   \n",
              "252                8                        3                         5   \n",
              "254                7                        5                         9   \n",
              "255                8                        4                         4   \n",
              "256                9                       10                         6   \n",
              "257               10                        8                         4   \n",
              "\n",
              "     Marginal_adhesion  Single_epithelial_cell_size  Bare_nuclei  \\\n",
              "0                    4                            2          5.0   \n",
              "1                   10                            2         10.0   \n",
              "2                   10                            6         10.0   \n",
              "3                    1                           10          5.0   \n",
              "4                    3                            6          7.0   \n",
              "..                 ...                          ...          ...   \n",
              "252                  4                            5         10.0   \n",
              "254                  9                           10          5.0   \n",
              "255                  1                            2          9.0   \n",
              "256                  2                            3          4.0   \n",
              "257                  4                            4         10.0   \n",
              "\n",
              "     Bland_chromatin  Normal_nucleoli  Mitoses  Class  \n",
              "0                  2                5        1      4  \n",
              "1                  7                3        3      4  \n",
              "2                  5                1        4      4  \n",
              "3                  3               10        2      4  \n",
              "4                  7               10        1      4  \n",
              "..               ...              ...      ...    ...  \n",
              "252                1                6        2      4  \n",
              "254               10                8        2      4  \n",
              "255                3                3        1      4  \n",
              "256                1               10        5      4  \n",
              "257                3               10        4      4  \n",
              "\n",
              "[200 rows x 10 columns]"
            ],
            "text/html": [
              "\n",
              "  <div id=\"df-fe0ee265-94c7-42ba-8bdc-3336c23e6908\" class=\"colab-df-container\">\n",
              "    <div>\n",
              "<style scoped>\n",
              "    .dataframe tbody tr th:only-of-type {\n",
              "        vertical-align: middle;\n",
              "    }\n",
              "\n",
              "    .dataframe tbody tr th {\n",
              "        vertical-align: top;\n",
              "    }\n",
              "\n",
              "    .dataframe thead th {\n",
              "        text-align: right;\n",
              "    }\n",
              "</style>\n",
              "<table border=\"1\" class=\"dataframe\">\n",
              "  <thead>\n",
              "    <tr style=\"text-align: right;\">\n",
              "      <th></th>\n",
              "      <th>Clump_thickness</th>\n",
              "      <th>Uniformity_of_cell_size</th>\n",
              "      <th>Uniformity_of_cell_shape</th>\n",
              "      <th>Marginal_adhesion</th>\n",
              "      <th>Single_epithelial_cell_size</th>\n",
              "      <th>Bare_nuclei</th>\n",
              "      <th>Bland_chromatin</th>\n",
              "      <th>Normal_nucleoli</th>\n",
              "      <th>Mitoses</th>\n",
              "      <th>Class</th>\n",
              "    </tr>\n",
              "  </thead>\n",
              "  <tbody>\n",
              "    <tr>\n",
              "      <th>0</th>\n",
              "      <td>2</td>\n",
              "      <td>3</td>\n",
              "      <td>4</td>\n",
              "      <td>4</td>\n",
              "      <td>2</td>\n",
              "      <td>5.0</td>\n",
              "      <td>2</td>\n",
              "      <td>5</td>\n",
              "      <td>1</td>\n",
              "      <td>4</td>\n",
              "    </tr>\n",
              "    <tr>\n",
              "      <th>1</th>\n",
              "      <td>10</td>\n",
              "      <td>3</td>\n",
              "      <td>3</td>\n",
              "      <td>10</td>\n",
              "      <td>2</td>\n",
              "      <td>10.0</td>\n",
              "      <td>7</td>\n",
              "      <td>3</td>\n",
              "      <td>3</td>\n",
              "      <td>4</td>\n",
              "    </tr>\n",
              "    <tr>\n",
              "      <th>2</th>\n",
              "      <td>3</td>\n",
              "      <td>10</td>\n",
              "      <td>3</td>\n",
              "      <td>10</td>\n",
              "      <td>6</td>\n",
              "      <td>10.0</td>\n",
              "      <td>5</td>\n",
              "      <td>1</td>\n",
              "      <td>4</td>\n",
              "      <td>4</td>\n",
              "    </tr>\n",
              "    <tr>\n",
              "      <th>3</th>\n",
              "      <td>10</td>\n",
              "      <td>3</td>\n",
              "      <td>5</td>\n",
              "      <td>1</td>\n",
              "      <td>10</td>\n",
              "      <td>5.0</td>\n",
              "      <td>3</td>\n",
              "      <td>10</td>\n",
              "      <td>2</td>\n",
              "      <td>4</td>\n",
              "    </tr>\n",
              "    <tr>\n",
              "      <th>4</th>\n",
              "      <td>10</td>\n",
              "      <td>5</td>\n",
              "      <td>5</td>\n",
              "      <td>3</td>\n",
              "      <td>6</td>\n",
              "      <td>7.0</td>\n",
              "      <td>7</td>\n",
              "      <td>10</td>\n",
              "      <td>1</td>\n",
              "      <td>4</td>\n",
              "    </tr>\n",
              "    <tr>\n",
              "      <th>...</th>\n",
              "      <td>...</td>\n",
              "      <td>...</td>\n",
              "      <td>...</td>\n",
              "      <td>...</td>\n",
              "      <td>...</td>\n",
              "      <td>...</td>\n",
              "      <td>...</td>\n",
              "      <td>...</td>\n",
              "      <td>...</td>\n",
              "      <td>...</td>\n",
              "    </tr>\n",
              "    <tr>\n",
              "      <th>252</th>\n",
              "      <td>8</td>\n",
              "      <td>3</td>\n",
              "      <td>5</td>\n",
              "      <td>4</td>\n",
              "      <td>5</td>\n",
              "      <td>10.0</td>\n",
              "      <td>1</td>\n",
              "      <td>6</td>\n",
              "      <td>2</td>\n",
              "      <td>4</td>\n",
              "    </tr>\n",
              "    <tr>\n",
              "      <th>254</th>\n",
              "      <td>7</td>\n",
              "      <td>5</td>\n",
              "      <td>9</td>\n",
              "      <td>9</td>\n",
              "      <td>10</td>\n",
              "      <td>5.0</td>\n",
              "      <td>10</td>\n",
              "      <td>8</td>\n",
              "      <td>2</td>\n",
              "      <td>4</td>\n",
              "    </tr>\n",
              "    <tr>\n",
              "      <th>255</th>\n",
              "      <td>8</td>\n",
              "      <td>4</td>\n",
              "      <td>4</td>\n",
              "      <td>1</td>\n",
              "      <td>2</td>\n",
              "      <td>9.0</td>\n",
              "      <td>3</td>\n",
              "      <td>3</td>\n",
              "      <td>1</td>\n",
              "      <td>4</td>\n",
              "    </tr>\n",
              "    <tr>\n",
              "      <th>256</th>\n",
              "      <td>9</td>\n",
              "      <td>10</td>\n",
              "      <td>6</td>\n",
              "      <td>2</td>\n",
              "      <td>3</td>\n",
              "      <td>4.0</td>\n",
              "      <td>1</td>\n",
              "      <td>10</td>\n",
              "      <td>5</td>\n",
              "      <td>4</td>\n",
              "    </tr>\n",
              "    <tr>\n",
              "      <th>257</th>\n",
              "      <td>10</td>\n",
              "      <td>8</td>\n",
              "      <td>4</td>\n",
              "      <td>4</td>\n",
              "      <td>4</td>\n",
              "      <td>10.0</td>\n",
              "      <td>3</td>\n",
              "      <td>10</td>\n",
              "      <td>4</td>\n",
              "      <td>4</td>\n",
              "    </tr>\n",
              "  </tbody>\n",
              "</table>\n",
              "<p>200 rows × 10 columns</p>\n",
              "</div>\n",
              "    <div class=\"colab-df-buttons\">\n",
              "\n",
              "  <div class=\"colab-df-container\">\n",
              "    <button class=\"colab-df-convert\" onclick=\"convertToInteractive('df-fe0ee265-94c7-42ba-8bdc-3336c23e6908')\"\n",
              "            title=\"Convert this dataframe to an interactive table.\"\n",
              "            style=\"display:none;\">\n",
              "\n",
              "  <svg xmlns=\"http://www.w3.org/2000/svg\" height=\"24px\" viewBox=\"0 -960 960 960\">\n",
              "    <path d=\"M120-120v-720h720v720H120Zm60-500h600v-160H180v160Zm220 220h160v-160H400v160Zm0 220h160v-160H400v160ZM180-400h160v-160H180v160Zm440 0h160v-160H620v160ZM180-180h160v-160H180v160Zm440 0h160v-160H620v160Z\"/>\n",
              "  </svg>\n",
              "    </button>\n",
              "\n",
              "  <style>\n",
              "    .colab-df-container {\n",
              "      display:flex;\n",
              "      gap: 12px;\n",
              "    }\n",
              "\n",
              "    .colab-df-convert {\n",
              "      background-color: #E8F0FE;\n",
              "      border: none;\n",
              "      border-radius: 50%;\n",
              "      cursor: pointer;\n",
              "      display: none;\n",
              "      fill: #1967D2;\n",
              "      height: 32px;\n",
              "      padding: 0 0 0 0;\n",
              "      width: 32px;\n",
              "    }\n",
              "\n",
              "    .colab-df-convert:hover {\n",
              "      background-color: #E2EBFA;\n",
              "      box-shadow: 0px 1px 2px rgba(60, 64, 67, 0.3), 0px 1px 3px 1px rgba(60, 64, 67, 0.15);\n",
              "      fill: #174EA6;\n",
              "    }\n",
              "\n",
              "    .colab-df-buttons div {\n",
              "      margin-bottom: 4px;\n",
              "    }\n",
              "\n",
              "    [theme=dark] .colab-df-convert {\n",
              "      background-color: #3B4455;\n",
              "      fill: #D2E3FC;\n",
              "    }\n",
              "\n",
              "    [theme=dark] .colab-df-convert:hover {\n",
              "      background-color: #434B5C;\n",
              "      box-shadow: 0px 1px 3px 1px rgba(0, 0, 0, 0.15);\n",
              "      filter: drop-shadow(0px 1px 2px rgba(0, 0, 0, 0.3));\n",
              "      fill: #FFFFFF;\n",
              "    }\n",
              "  </style>\n",
              "\n",
              "    <script>\n",
              "      const buttonEl =\n",
              "        document.querySelector('#df-fe0ee265-94c7-42ba-8bdc-3336c23e6908 button.colab-df-convert');\n",
              "      buttonEl.style.display =\n",
              "        google.colab.kernel.accessAllowed ? 'block' : 'none';\n",
              "\n",
              "      async function convertToInteractive(key) {\n",
              "        const element = document.querySelector('#df-fe0ee265-94c7-42ba-8bdc-3336c23e6908');\n",
              "        const dataTable =\n",
              "          await google.colab.kernel.invokeFunction('convertToInteractive',\n",
              "                                                    [key], {});\n",
              "        if (!dataTable) return;\n",
              "\n",
              "        const docLinkHtml = 'Like what you see? Visit the ' +\n",
              "          '<a target=\"_blank\" href=https://colab.research.google.com/notebooks/data_table.ipynb>data table notebook</a>'\n",
              "          + ' to learn more about interactive tables.';\n",
              "        element.innerHTML = '';\n",
              "        dataTable['output_type'] = 'display_data';\n",
              "        await google.colab.output.renderOutput(dataTable, element);\n",
              "        const docLink = document.createElement('div');\n",
              "        docLink.innerHTML = docLinkHtml;\n",
              "        element.appendChild(docLink);\n",
              "      }\n",
              "    </script>\n",
              "  </div>\n",
              "\n",
              "\n",
              "<div id=\"df-53eaa251-11f9-41de-a1ee-e42e4cb4cc08\">\n",
              "  <button class=\"colab-df-quickchart\" onclick=\"quickchart('df-53eaa251-11f9-41de-a1ee-e42e4cb4cc08')\"\n",
              "            title=\"Suggest charts\"\n",
              "            style=\"display:none;\">\n",
              "\n",
              "<svg xmlns=\"http://www.w3.org/2000/svg\" height=\"24px\"viewBox=\"0 0 24 24\"\n",
              "     width=\"24px\">\n",
              "    <g>\n",
              "        <path d=\"M19 3H5c-1.1 0-2 .9-2 2v14c0 1.1.9 2 2 2h14c1.1 0 2-.9 2-2V5c0-1.1-.9-2-2-2zM9 17H7v-7h2v7zm4 0h-2V7h2v10zm4 0h-2v-4h2v4z\"/>\n",
              "    </g>\n",
              "</svg>\n",
              "  </button>\n",
              "\n",
              "<style>\n",
              "  .colab-df-quickchart {\n",
              "      --bg-color: #E8F0FE;\n",
              "      --fill-color: #1967D2;\n",
              "      --hover-bg-color: #E2EBFA;\n",
              "      --hover-fill-color: #174EA6;\n",
              "      --disabled-fill-color: #AAA;\n",
              "      --disabled-bg-color: #DDD;\n",
              "  }\n",
              "\n",
              "  [theme=dark] .colab-df-quickchart {\n",
              "      --bg-color: #3B4455;\n",
              "      --fill-color: #D2E3FC;\n",
              "      --hover-bg-color: #434B5C;\n",
              "      --hover-fill-color: #FFFFFF;\n",
              "      --disabled-bg-color: #3B4455;\n",
              "      --disabled-fill-color: #666;\n",
              "  }\n",
              "\n",
              "  .colab-df-quickchart {\n",
              "    background-color: var(--bg-color);\n",
              "    border: none;\n",
              "    border-radius: 50%;\n",
              "    cursor: pointer;\n",
              "    display: none;\n",
              "    fill: var(--fill-color);\n",
              "    height: 32px;\n",
              "    padding: 0;\n",
              "    width: 32px;\n",
              "  }\n",
              "\n",
              "  .colab-df-quickchart:hover {\n",
              "    background-color: var(--hover-bg-color);\n",
              "    box-shadow: 0 1px 2px rgba(60, 64, 67, 0.3), 0 1px 3px 1px rgba(60, 64, 67, 0.15);\n",
              "    fill: var(--button-hover-fill-color);\n",
              "  }\n",
              "\n",
              "  .colab-df-quickchart-complete:disabled,\n",
              "  .colab-df-quickchart-complete:disabled:hover {\n",
              "    background-color: var(--disabled-bg-color);\n",
              "    fill: var(--disabled-fill-color);\n",
              "    box-shadow: none;\n",
              "  }\n",
              "\n",
              "  .colab-df-spinner {\n",
              "    border: 2px solid var(--fill-color);\n",
              "    border-color: transparent;\n",
              "    border-bottom-color: var(--fill-color);\n",
              "    animation:\n",
              "      spin 1s steps(1) infinite;\n",
              "  }\n",
              "\n",
              "  @keyframes spin {\n",
              "    0% {\n",
              "      border-color: transparent;\n",
              "      border-bottom-color: var(--fill-color);\n",
              "      border-left-color: var(--fill-color);\n",
              "    }\n",
              "    20% {\n",
              "      border-color: transparent;\n",
              "      border-left-color: var(--fill-color);\n",
              "      border-top-color: var(--fill-color);\n",
              "    }\n",
              "    30% {\n",
              "      border-color: transparent;\n",
              "      border-left-color: var(--fill-color);\n",
              "      border-top-color: var(--fill-color);\n",
              "      border-right-color: var(--fill-color);\n",
              "    }\n",
              "    40% {\n",
              "      border-color: transparent;\n",
              "      border-right-color: var(--fill-color);\n",
              "      border-top-color: var(--fill-color);\n",
              "    }\n",
              "    60% {\n",
              "      border-color: transparent;\n",
              "      border-right-color: var(--fill-color);\n",
              "    }\n",
              "    80% {\n",
              "      border-color: transparent;\n",
              "      border-right-color: var(--fill-color);\n",
              "      border-bottom-color: var(--fill-color);\n",
              "    }\n",
              "    90% {\n",
              "      border-color: transparent;\n",
              "      border-bottom-color: var(--fill-color);\n",
              "    }\n",
              "  }\n",
              "</style>\n",
              "\n",
              "  <script>\n",
              "    async function quickchart(key) {\n",
              "      const quickchartButtonEl =\n",
              "        document.querySelector('#' + key + ' button');\n",
              "      quickchartButtonEl.disabled = true;  // To prevent multiple clicks.\n",
              "      quickchartButtonEl.classList.add('colab-df-spinner');\n",
              "      try {\n",
              "        const charts = await google.colab.kernel.invokeFunction(\n",
              "            'suggestCharts', [key], {});\n",
              "      } catch (error) {\n",
              "        console.error('Error during call to suggestCharts:', error);\n",
              "      }\n",
              "      quickchartButtonEl.classList.remove('colab-df-spinner');\n",
              "      quickchartButtonEl.classList.add('colab-df-quickchart-complete');\n",
              "    }\n",
              "    (() => {\n",
              "      let quickchartButtonEl =\n",
              "        document.querySelector('#df-53eaa251-11f9-41de-a1ee-e42e4cb4cc08 button');\n",
              "      quickchartButtonEl.style.display =\n",
              "        google.colab.kernel.accessAllowed ? 'block' : 'none';\n",
              "    })();\n",
              "  </script>\n",
              "</div>\n",
              "\n",
              "  <div id=\"id_6c2e882f-68ec-4aa2-a80a-1ab15350872c\">\n",
              "    <style>\n",
              "      .colab-df-generate {\n",
              "        background-color: #E8F0FE;\n",
              "        border: none;\n",
              "        border-radius: 50%;\n",
              "        cursor: pointer;\n",
              "        display: none;\n",
              "        fill: #1967D2;\n",
              "        height: 32px;\n",
              "        padding: 0 0 0 0;\n",
              "        width: 32px;\n",
              "      }\n",
              "\n",
              "      .colab-df-generate:hover {\n",
              "        background-color: #E2EBFA;\n",
              "        box-shadow: 0px 1px 2px rgba(60, 64, 67, 0.3), 0px 1px 3px 1px rgba(60, 64, 67, 0.15);\n",
              "        fill: #174EA6;\n",
              "      }\n",
              "\n",
              "      [theme=dark] .colab-df-generate {\n",
              "        background-color: #3B4455;\n",
              "        fill: #D2E3FC;\n",
              "      }\n",
              "\n",
              "      [theme=dark] .colab-df-generate:hover {\n",
              "        background-color: #434B5C;\n",
              "        box-shadow: 0px 1px 3px 1px rgba(0, 0, 0, 0.15);\n",
              "        filter: drop-shadow(0px 1px 2px rgba(0, 0, 0, 0.3));\n",
              "        fill: #FFFFFF;\n",
              "      }\n",
              "    </style>\n",
              "    <button class=\"colab-df-generate\" onclick=\"generateWithVariable('dataClean')\"\n",
              "            title=\"Generate code using this dataframe.\"\n",
              "            style=\"display:none;\">\n",
              "\n",
              "  <svg xmlns=\"http://www.w3.org/2000/svg\" height=\"24px\"viewBox=\"0 0 24 24\"\n",
              "       width=\"24px\">\n",
              "    <path d=\"M7,19H8.4L18.45,9,17,7.55,7,17.6ZM5,21V16.75L18.45,3.32a2,2,0,0,1,2.83,0l1.4,1.43a1.91,1.91,0,0,1,.58,1.4,1.91,1.91,0,0,1-.58,1.4L9.25,21ZM18.45,9,17,7.55Zm-12,3A5.31,5.31,0,0,0,4.9,8.1,5.31,5.31,0,0,0,1,6.5,5.31,5.31,0,0,0,4.9,4.9,5.31,5.31,0,0,0,6.5,1,5.31,5.31,0,0,0,8.1,4.9,5.31,5.31,0,0,0,12,6.5,5.46,5.46,0,0,0,6.5,12Z\"/>\n",
              "  </svg>\n",
              "    </button>\n",
              "    <script>\n",
              "      (() => {\n",
              "      const buttonEl =\n",
              "        document.querySelector('#id_6c2e882f-68ec-4aa2-a80a-1ab15350872c button.colab-df-generate');\n",
              "      buttonEl.style.display =\n",
              "        google.colab.kernel.accessAllowed ? 'block' : 'none';\n",
              "\n",
              "      buttonEl.onclick = () => {\n",
              "        google.colab.notebook.generateWithVariable('dataClean');\n",
              "      }\n",
              "      })();\n",
              "    </script>\n",
              "  </div>\n",
              "\n",
              "    </div>\n",
              "  </div>\n"
            ],
            "application/vnd.google.colaboratory.intrinsic+json": {
              "type": "dataframe",
              "variable_name": "dataClean",
              "summary": "{\n  \"name\": \"dataClean\",\n  \"rows\": 200,\n  \"fields\": [\n    {\n      \"column\": \"Clump_thickness\",\n      \"properties\": {\n        \"dtype\": \"number\",\n        \"std\": 2,\n        \"min\": 1,\n        \"max\": 10,\n        \"num_unique_values\": 10,\n        \"samples\": [\n          6,\n          10,\n          5\n        ],\n        \"semantic_type\": \"\",\n        \"description\": \"\"\n      }\n    },\n    {\n      \"column\": \"Uniformity_of_cell_size\",\n      \"properties\": {\n        \"dtype\": \"number\",\n        \"std\": 2,\n        \"min\": 1,\n        \"max\": 10,\n        \"num_unique_values\": 10,\n        \"samples\": [\n          6,\n          10,\n          1\n        ],\n        \"semantic_type\": \"\",\n        \"description\": \"\"\n      }\n    },\n    {\n      \"column\": \"Uniformity_of_cell_shape\",\n      \"properties\": {\n        \"dtype\": \"number\",\n        \"std\": 2,\n        \"min\": 1,\n        \"max\": 10,\n        \"num_unique_values\": 10,\n        \"samples\": [\n          9,\n          3,\n          2\n        ],\n        \"semantic_type\": \"\",\n        \"description\": \"\"\n      }\n    },\n    {\n      \"column\": \"Marginal_adhesion\",\n      \"properties\": {\n        \"dtype\": \"number\",\n        \"std\": 3,\n        \"min\": 1,\n        \"max\": 10,\n        \"num_unique_values\": 10,\n        \"samples\": [\n          8,\n          10,\n          5\n        ],\n        \"semantic_type\": \"\",\n        \"description\": \"\"\n      }\n    },\n    {\n      \"column\": \"Single_epithelial_cell_size\",\n      \"properties\": {\n        \"dtype\": \"number\",\n        \"std\": 2,\n        \"min\": 1,\n        \"max\": 10,\n        \"num_unique_values\": 10,\n        \"samples\": [\n          8,\n          6,\n          1\n        ],\n        \"semantic_type\": \"\",\n        \"description\": \"\"\n      }\n    },\n    {\n      \"column\": \"Bare_nuclei\",\n      \"properties\": {\n        \"dtype\": \"number\",\n        \"std\": 3.400705661326025,\n        \"min\": 1.0,\n        \"max\": 10.0,\n        \"num_unique_values\": 10,\n        \"samples\": [\n          2.0,\n          10.0,\n          1.0\n        ],\n        \"semantic_type\": \"\",\n        \"description\": \"\"\n      }\n    },\n    {\n      \"column\": \"Bland_chromatin\",\n      \"properties\": {\n        \"dtype\": \"number\",\n        \"std\": 2,\n        \"min\": 1,\n        \"max\": 10,\n        \"num_unique_values\": 10,\n        \"samples\": [\n          9,\n          7,\n          1\n        ],\n        \"semantic_type\": \"\",\n        \"description\": \"\"\n      }\n    },\n    {\n      \"column\": \"Normal_nucleoli\",\n      \"properties\": {\n        \"dtype\": \"number\",\n        \"std\": 3,\n        \"min\": 1,\n        \"max\": 10,\n        \"num_unique_values\": 10,\n        \"samples\": [\n          9,\n          3,\n          6\n        ],\n        \"semantic_type\": \"\",\n        \"description\": \"\"\n      }\n    },\n    {\n      \"column\": \"Mitoses\",\n      \"properties\": {\n        \"dtype\": \"number\",\n        \"std\": 2,\n        \"min\": 1,\n        \"max\": 10,\n        \"num_unique_values\": 9,\n        \"samples\": [\n          6,\n          3,\n          7\n        ],\n        \"semantic_type\": \"\",\n        \"description\": \"\"\n      }\n    },\n    {\n      \"column\": \"Class\",\n      \"properties\": {\n        \"dtype\": \"number\",\n        \"std\": 0,\n        \"min\": 2,\n        \"max\": 4,\n        \"num_unique_values\": 2,\n        \"samples\": [\n          2,\n          4\n        ],\n        \"semantic_type\": \"\",\n        \"description\": \"\"\n      }\n    }\n  ]\n}"
            }
          },
          "metadata": {},
          "execution_count": 40
        }
      ],
      "source": [
        "dataClean"
      ]
    },
    {
      "cell_type": "markdown",
      "metadata": {
        "id": "XqfO1V9qgTwu"
      },
      "source": [
        "## <b>7) Menentukan Label Data</b> <a class=\"anchor\" id=\"h7\"></a>"
      ]
    },
    {
      "cell_type": "code",
      "execution_count": 41,
      "metadata": {
        "id": "lCpDIzn_s9B9"
      },
      "outputs": [],
      "source": [
        "from sklearn.model_selection import train_test_split"
      ]
    },
    {
      "cell_type": "code",
      "execution_count": 42,
      "metadata": {
        "id": "yIaWs40Ys9IN"
      },
      "outputs": [],
      "source": [
        "X = dataClean.drop('Class', axis=1).values\n",
        "y = dataClean['Class']"
      ]
    },
    {
      "cell_type": "markdown",
      "metadata": {
        "id": "Az4htJapj6qK"
      },
      "source": [
        "<h4>⬇ <b style=\"color:orange;\">Instruksi</b>: Ubah \"<b style=\"color:yellow;\">[fix_me]</b>\" dengan code yang benar!</h4>"
      ]
    },
    {
      "cell_type": "code",
      "execution_count": 43,
      "metadata": {
        "id": "VAAjs9teL3s_"
      },
      "outputs": [],
      "source": [
        "# perbandingan data training dan data testing adalah 70 : 30\n",
        "X_train, X_test, y_train, y_test = train_test_split(X, y, test_size=0.3, random_state=42)"
      ]
    },
    {
      "cell_type": "markdown",
      "metadata": {
        "id": "27FXrfwZgT6T"
      },
      "source": [
        "## <b>8) Membangun Model</b> <a class=\"anchor\" id=\"h8\"></a>"
      ]
    },
    {
      "cell_type": "code",
      "execution_count": 44,
      "metadata": {
        "id": "cxBiPnuYMsfN"
      },
      "outputs": [],
      "source": [
        "# import library pemodelan yang digunakan\n",
        "from sklearn.naive_bayes import GaussianNB\n",
        "from sklearn.tree import DecisionTreeClassifier\n",
        "from sklearn.ensemble import RandomForestClassifier\n",
        "\n",
        "import matplotlib.pyplot as plt"
      ]
    },
    {
      "cell_type": "markdown",
      "metadata": {
        "id": "KLbe2l2bj6qL"
      },
      "source": [
        "<h4>⬇ <b style=\"color:orange;\">Instruksi</b>: Ubah \"<b style=\"color:yellow;\">[fix_me]</b>\" dengan code yang benar!</h4>"
      ]
    },
    {
      "cell_type": "code",
      "execution_count": 51,
      "metadata": {
        "colab": {
          "base_uri": "https://localhost:8080/",
          "height": 75
        },
        "id": "8EpNWcz4A5PM",
        "outputId": "47904b1c-b728-41fe-c26e-a4a0643874f8"
      },
      "outputs": [
        {
          "output_type": "execute_result",
          "data": {
            "text/plain": [
              "GaussianNB()"
            ],
            "text/html": [
              "<style>#sk-container-id-4 {color: black;background-color: white;}#sk-container-id-4 pre{padding: 0;}#sk-container-id-4 div.sk-toggleable {background-color: white;}#sk-container-id-4 label.sk-toggleable__label {cursor: pointer;display: block;width: 100%;margin-bottom: 0;padding: 0.3em;box-sizing: border-box;text-align: center;}#sk-container-id-4 label.sk-toggleable__label-arrow:before {content: \"▸\";float: left;margin-right: 0.25em;color: #696969;}#sk-container-id-4 label.sk-toggleable__label-arrow:hover:before {color: black;}#sk-container-id-4 div.sk-estimator:hover label.sk-toggleable__label-arrow:before {color: black;}#sk-container-id-4 div.sk-toggleable__content {max-height: 0;max-width: 0;overflow: hidden;text-align: left;background-color: #f0f8ff;}#sk-container-id-4 div.sk-toggleable__content pre {margin: 0.2em;color: black;border-radius: 0.25em;background-color: #f0f8ff;}#sk-container-id-4 input.sk-toggleable__control:checked~div.sk-toggleable__content {max-height: 200px;max-width: 100%;overflow: auto;}#sk-container-id-4 input.sk-toggleable__control:checked~label.sk-toggleable__label-arrow:before {content: \"▾\";}#sk-container-id-4 div.sk-estimator input.sk-toggleable__control:checked~label.sk-toggleable__label {background-color: #d4ebff;}#sk-container-id-4 div.sk-label input.sk-toggleable__control:checked~label.sk-toggleable__label {background-color: #d4ebff;}#sk-container-id-4 input.sk-hidden--visually {border: 0;clip: rect(1px 1px 1px 1px);clip: rect(1px, 1px, 1px, 1px);height: 1px;margin: -1px;overflow: hidden;padding: 0;position: absolute;width: 1px;}#sk-container-id-4 div.sk-estimator {font-family: monospace;background-color: #f0f8ff;border: 1px dotted black;border-radius: 0.25em;box-sizing: border-box;margin-bottom: 0.5em;}#sk-container-id-4 div.sk-estimator:hover {background-color: #d4ebff;}#sk-container-id-4 div.sk-parallel-item::after {content: \"\";width: 100%;border-bottom: 1px solid gray;flex-grow: 1;}#sk-container-id-4 div.sk-label:hover label.sk-toggleable__label {background-color: #d4ebff;}#sk-container-id-4 div.sk-serial::before {content: \"\";position: absolute;border-left: 1px solid gray;box-sizing: border-box;top: 0;bottom: 0;left: 50%;z-index: 0;}#sk-container-id-4 div.sk-serial {display: flex;flex-direction: column;align-items: center;background-color: white;padding-right: 0.2em;padding-left: 0.2em;position: relative;}#sk-container-id-4 div.sk-item {position: relative;z-index: 1;}#sk-container-id-4 div.sk-parallel {display: flex;align-items: stretch;justify-content: center;background-color: white;position: relative;}#sk-container-id-4 div.sk-item::before, #sk-container-id-4 div.sk-parallel-item::before {content: \"\";position: absolute;border-left: 1px solid gray;box-sizing: border-box;top: 0;bottom: 0;left: 50%;z-index: -1;}#sk-container-id-4 div.sk-parallel-item {display: flex;flex-direction: column;z-index: 1;position: relative;background-color: white;}#sk-container-id-4 div.sk-parallel-item:first-child::after {align-self: flex-end;width: 50%;}#sk-container-id-4 div.sk-parallel-item:last-child::after {align-self: flex-start;width: 50%;}#sk-container-id-4 div.sk-parallel-item:only-child::after {width: 0;}#sk-container-id-4 div.sk-dashed-wrapped {border: 1px dashed gray;margin: 0 0.4em 0.5em 0.4em;box-sizing: border-box;padding-bottom: 0.4em;background-color: white;}#sk-container-id-4 div.sk-label label {font-family: monospace;font-weight: bold;display: inline-block;line-height: 1.2em;}#sk-container-id-4 div.sk-label-container {text-align: center;}#sk-container-id-4 div.sk-container {/* jupyter's `normalize.less` sets `[hidden] { display: none; }` but bootstrap.min.css set `[hidden] { display: none !important; }` so we also need the `!important` here to be able to override the default hidden behavior on the sphinx rendered scikit-learn.org. See: https://github.com/scikit-learn/scikit-learn/issues/21755 */display: inline-block !important;position: relative;}#sk-container-id-4 div.sk-text-repr-fallback {display: none;}</style><div id=\"sk-container-id-4\" class=\"sk-top-container\"><div class=\"sk-text-repr-fallback\"><pre>GaussianNB()</pre><b>In a Jupyter environment, please rerun this cell to show the HTML representation or trust the notebook. <br />On GitHub, the HTML representation is unable to render, please try loading this page with nbviewer.org.</b></div><div class=\"sk-container\" hidden><div class=\"sk-item\"><div class=\"sk-estimator sk-toggleable\"><input class=\"sk-toggleable__control sk-hidden--visually\" id=\"sk-estimator-id-4\" type=\"checkbox\" checked><label for=\"sk-estimator-id-4\" class=\"sk-toggleable__label sk-toggleable__label-arrow\">GaussianNB</label><div class=\"sk-toggleable__content\"><pre>GaussianNB()</pre></div></div></div></div></div>"
            ]
          },
          "metadata": {},
          "execution_count": 51
        }
      ],
      "source": [
        "clean_classifier_nb = GaussianNB()\n",
        "clean_classifier_nb.fit(X_train, y_train)"
      ]
    },
    {
      "cell_type": "markdown",
      "metadata": {
        "id": "L3EAvdOFj6qL"
      },
      "source": [
        "<h4>⬇ <b style=\"color:orange;\">Instruksi</b>: Ubah \"<b style=\"color:yellow;\">[fix_me]</b>\" dengan code yang benar!</h4>"
      ]
    },
    {
      "cell_type": "code",
      "execution_count": 47,
      "metadata": {
        "id": "_ECkFR1Bj6qL",
        "colab": {
          "base_uri": "https://localhost:8080/"
        },
        "outputId": "c34c2b3e-4335-41e2-bdc3-5ffa00ab6174"
      },
      "outputs": [
        {
          "output_type": "execute_result",
          "data": {
            "text/plain": [
              "DecisionTreeClassifier(random_state=42)"
            ],
            "text/html": [
              "<style>#sk-container-id-2 {color: black;background-color: white;}#sk-container-id-2 pre{padding: 0;}#sk-container-id-2 div.sk-toggleable {background-color: white;}#sk-container-id-2 label.sk-toggleable__label {cursor: pointer;display: block;width: 100%;margin-bottom: 0;padding: 0.3em;box-sizing: border-box;text-align: center;}#sk-container-id-2 label.sk-toggleable__label-arrow:before {content: \"▸\";float: left;margin-right: 0.25em;color: #696969;}#sk-container-id-2 label.sk-toggleable__label-arrow:hover:before {color: black;}#sk-container-id-2 div.sk-estimator:hover label.sk-toggleable__label-arrow:before {color: black;}#sk-container-id-2 div.sk-toggleable__content {max-height: 0;max-width: 0;overflow: hidden;text-align: left;background-color: #f0f8ff;}#sk-container-id-2 div.sk-toggleable__content pre {margin: 0.2em;color: black;border-radius: 0.25em;background-color: #f0f8ff;}#sk-container-id-2 input.sk-toggleable__control:checked~div.sk-toggleable__content {max-height: 200px;max-width: 100%;overflow: auto;}#sk-container-id-2 input.sk-toggleable__control:checked~label.sk-toggleable__label-arrow:before {content: \"▾\";}#sk-container-id-2 div.sk-estimator input.sk-toggleable__control:checked~label.sk-toggleable__label {background-color: #d4ebff;}#sk-container-id-2 div.sk-label input.sk-toggleable__control:checked~label.sk-toggleable__label {background-color: #d4ebff;}#sk-container-id-2 input.sk-hidden--visually {border: 0;clip: rect(1px 1px 1px 1px);clip: rect(1px, 1px, 1px, 1px);height: 1px;margin: -1px;overflow: hidden;padding: 0;position: absolute;width: 1px;}#sk-container-id-2 div.sk-estimator {font-family: monospace;background-color: #f0f8ff;border: 1px dotted black;border-radius: 0.25em;box-sizing: border-box;margin-bottom: 0.5em;}#sk-container-id-2 div.sk-estimator:hover {background-color: #d4ebff;}#sk-container-id-2 div.sk-parallel-item::after {content: \"\";width: 100%;border-bottom: 1px solid gray;flex-grow: 1;}#sk-container-id-2 div.sk-label:hover label.sk-toggleable__label {background-color: #d4ebff;}#sk-container-id-2 div.sk-serial::before {content: \"\";position: absolute;border-left: 1px solid gray;box-sizing: border-box;top: 0;bottom: 0;left: 50%;z-index: 0;}#sk-container-id-2 div.sk-serial {display: flex;flex-direction: column;align-items: center;background-color: white;padding-right: 0.2em;padding-left: 0.2em;position: relative;}#sk-container-id-2 div.sk-item {position: relative;z-index: 1;}#sk-container-id-2 div.sk-parallel {display: flex;align-items: stretch;justify-content: center;background-color: white;position: relative;}#sk-container-id-2 div.sk-item::before, #sk-container-id-2 div.sk-parallel-item::before {content: \"\";position: absolute;border-left: 1px solid gray;box-sizing: border-box;top: 0;bottom: 0;left: 50%;z-index: -1;}#sk-container-id-2 div.sk-parallel-item {display: flex;flex-direction: column;z-index: 1;position: relative;background-color: white;}#sk-container-id-2 div.sk-parallel-item:first-child::after {align-self: flex-end;width: 50%;}#sk-container-id-2 div.sk-parallel-item:last-child::after {align-self: flex-start;width: 50%;}#sk-container-id-2 div.sk-parallel-item:only-child::after {width: 0;}#sk-container-id-2 div.sk-dashed-wrapped {border: 1px dashed gray;margin: 0 0.4em 0.5em 0.4em;box-sizing: border-box;padding-bottom: 0.4em;background-color: white;}#sk-container-id-2 div.sk-label label {font-family: monospace;font-weight: bold;display: inline-block;line-height: 1.2em;}#sk-container-id-2 div.sk-label-container {text-align: center;}#sk-container-id-2 div.sk-container {/* jupyter's `normalize.less` sets `[hidden] { display: none; }` but bootstrap.min.css set `[hidden] { display: none !important; }` so we also need the `!important` here to be able to override the default hidden behavior on the sphinx rendered scikit-learn.org. See: https://github.com/scikit-learn/scikit-learn/issues/21755 */display: inline-block !important;position: relative;}#sk-container-id-2 div.sk-text-repr-fallback {display: none;}</style><div id=\"sk-container-id-2\" class=\"sk-top-container\"><div class=\"sk-text-repr-fallback\"><pre>DecisionTreeClassifier(random_state=42)</pre><b>In a Jupyter environment, please rerun this cell to show the HTML representation or trust the notebook. <br />On GitHub, the HTML representation is unable to render, please try loading this page with nbviewer.org.</b></div><div class=\"sk-container\" hidden><div class=\"sk-item\"><div class=\"sk-estimator sk-toggleable\"><input class=\"sk-toggleable__control sk-hidden--visually\" id=\"sk-estimator-id-2\" type=\"checkbox\" checked><label for=\"sk-estimator-id-2\" class=\"sk-toggleable__label sk-toggleable__label-arrow\">DecisionTreeClassifier</label><div class=\"sk-toggleable__content\"><pre>DecisionTreeClassifier(random_state=42)</pre></div></div></div></div></div>"
            ]
          },
          "metadata": {},
          "execution_count": 47
        }
      ],
      "source": [
        "clean_classifier_dt = DecisionTreeClassifier(random_state=42)\n",
        "clean_classifier_dt.fit(X_train, y_train)"
      ]
    },
    {
      "cell_type": "markdown",
      "metadata": {
        "id": "NjfRwsKFj6qL"
      },
      "source": [
        "<h4>⬇ <b style=\"color:orange;\">Instruksi</b>: Ubah \"<b style=\"color:yellow;\">[fix_me]</b>\" dengan code yang benar!</h4>"
      ]
    },
    {
      "cell_type": "code",
      "execution_count": 48,
      "metadata": {
        "id": "WQ7175QEj6qL",
        "colab": {
          "base_uri": "https://localhost:8080/"
        },
        "outputId": "bf3c9e10-a6f7-486f-fb27-a34ad1707fd1"
      },
      "outputs": [
        {
          "output_type": "execute_result",
          "data": {
            "text/plain": [
              "RandomForestClassifier(random_state=42)"
            ],
            "text/html": [
              "<style>#sk-container-id-3 {color: black;background-color: white;}#sk-container-id-3 pre{padding: 0;}#sk-container-id-3 div.sk-toggleable {background-color: white;}#sk-container-id-3 label.sk-toggleable__label {cursor: pointer;display: block;width: 100%;margin-bottom: 0;padding: 0.3em;box-sizing: border-box;text-align: center;}#sk-container-id-3 label.sk-toggleable__label-arrow:before {content: \"▸\";float: left;margin-right: 0.25em;color: #696969;}#sk-container-id-3 label.sk-toggleable__label-arrow:hover:before {color: black;}#sk-container-id-3 div.sk-estimator:hover label.sk-toggleable__label-arrow:before {color: black;}#sk-container-id-3 div.sk-toggleable__content {max-height: 0;max-width: 0;overflow: hidden;text-align: left;background-color: #f0f8ff;}#sk-container-id-3 div.sk-toggleable__content pre {margin: 0.2em;color: black;border-radius: 0.25em;background-color: #f0f8ff;}#sk-container-id-3 input.sk-toggleable__control:checked~div.sk-toggleable__content {max-height: 200px;max-width: 100%;overflow: auto;}#sk-container-id-3 input.sk-toggleable__control:checked~label.sk-toggleable__label-arrow:before {content: \"▾\";}#sk-container-id-3 div.sk-estimator input.sk-toggleable__control:checked~label.sk-toggleable__label {background-color: #d4ebff;}#sk-container-id-3 div.sk-label input.sk-toggleable__control:checked~label.sk-toggleable__label {background-color: #d4ebff;}#sk-container-id-3 input.sk-hidden--visually {border: 0;clip: rect(1px 1px 1px 1px);clip: rect(1px, 1px, 1px, 1px);height: 1px;margin: -1px;overflow: hidden;padding: 0;position: absolute;width: 1px;}#sk-container-id-3 div.sk-estimator {font-family: monospace;background-color: #f0f8ff;border: 1px dotted black;border-radius: 0.25em;box-sizing: border-box;margin-bottom: 0.5em;}#sk-container-id-3 div.sk-estimator:hover {background-color: #d4ebff;}#sk-container-id-3 div.sk-parallel-item::after {content: \"\";width: 100%;border-bottom: 1px solid gray;flex-grow: 1;}#sk-container-id-3 div.sk-label:hover label.sk-toggleable__label {background-color: #d4ebff;}#sk-container-id-3 div.sk-serial::before {content: \"\";position: absolute;border-left: 1px solid gray;box-sizing: border-box;top: 0;bottom: 0;left: 50%;z-index: 0;}#sk-container-id-3 div.sk-serial {display: flex;flex-direction: column;align-items: center;background-color: white;padding-right: 0.2em;padding-left: 0.2em;position: relative;}#sk-container-id-3 div.sk-item {position: relative;z-index: 1;}#sk-container-id-3 div.sk-parallel {display: flex;align-items: stretch;justify-content: center;background-color: white;position: relative;}#sk-container-id-3 div.sk-item::before, #sk-container-id-3 div.sk-parallel-item::before {content: \"\";position: absolute;border-left: 1px solid gray;box-sizing: border-box;top: 0;bottom: 0;left: 50%;z-index: -1;}#sk-container-id-3 div.sk-parallel-item {display: flex;flex-direction: column;z-index: 1;position: relative;background-color: white;}#sk-container-id-3 div.sk-parallel-item:first-child::after {align-self: flex-end;width: 50%;}#sk-container-id-3 div.sk-parallel-item:last-child::after {align-self: flex-start;width: 50%;}#sk-container-id-3 div.sk-parallel-item:only-child::after {width: 0;}#sk-container-id-3 div.sk-dashed-wrapped {border: 1px dashed gray;margin: 0 0.4em 0.5em 0.4em;box-sizing: border-box;padding-bottom: 0.4em;background-color: white;}#sk-container-id-3 div.sk-label label {font-family: monospace;font-weight: bold;display: inline-block;line-height: 1.2em;}#sk-container-id-3 div.sk-label-container {text-align: center;}#sk-container-id-3 div.sk-container {/* jupyter's `normalize.less` sets `[hidden] { display: none; }` but bootstrap.min.css set `[hidden] { display: none !important; }` so we also need the `!important` here to be able to override the default hidden behavior on the sphinx rendered scikit-learn.org. See: https://github.com/scikit-learn/scikit-learn/issues/21755 */display: inline-block !important;position: relative;}#sk-container-id-3 div.sk-text-repr-fallback {display: none;}</style><div id=\"sk-container-id-3\" class=\"sk-top-container\"><div class=\"sk-text-repr-fallback\"><pre>RandomForestClassifier(random_state=42)</pre><b>In a Jupyter environment, please rerun this cell to show the HTML representation or trust the notebook. <br />On GitHub, the HTML representation is unable to render, please try loading this page with nbviewer.org.</b></div><div class=\"sk-container\" hidden><div class=\"sk-item\"><div class=\"sk-estimator sk-toggleable\"><input class=\"sk-toggleable__control sk-hidden--visually\" id=\"sk-estimator-id-3\" type=\"checkbox\" checked><label for=\"sk-estimator-id-3\" class=\"sk-toggleable__label sk-toggleable__label-arrow\">RandomForestClassifier</label><div class=\"sk-toggleable__content\"><pre>RandomForestClassifier(random_state=42)</pre></div></div></div></div></div>"
            ]
          },
          "metadata": {},
          "execution_count": 48
        }
      ],
      "source": [
        "clean_classifier_rf = RandomForestClassifier(n_estimators=100, random_state=42)\n",
        "clean_classifier_rf.fit(X_train, y_train)"
      ]
    },
    {
      "cell_type": "markdown",
      "metadata": {
        "id": "AEi7C8MQg5VV"
      },
      "source": [
        "## <b>9) Mengevaluasi Hasil Pemodelan</b> <a class=\"anchor\" id=\"h9\"></a>"
      ]
    },
    {
      "cell_type": "code",
      "execution_count": 49,
      "metadata": {
        "id": "QKnkdqRKUxGb"
      },
      "outputs": [],
      "source": [
        "from sklearn.metrics import classification_report\n",
        "from sklearn.metrics import accuracy_score, recall_score, f1_score, precision_score, roc_auc_score, confusion_matrix, precision_score"
      ]
    },
    {
      "cell_type": "code",
      "execution_count": 50,
      "metadata": {
        "id": "_yFyriefE_Ij"
      },
      "outputs": [],
      "source": [
        "def evaluation(Y_test, Y_pred):\n",
        "  acc = accuracy_score(Y_test, Y_pred)\n",
        "  rcl = recall_score(Y_test, Y_pred, average='weighted')\n",
        "  f1 = f1_score(Y_test, Y_pred, average='weighted')\n",
        "  ps = precision_score(Y_test, Y_pred, average='weighted')\n",
        "\n",
        "  metric_dict = {\n",
        "    'accuracy': round(acc, 3),\n",
        "    'recall': round(rcl, 3),\n",
        "    'F1 score': round(f1, 3),\n",
        "    'Precision score': round(ps, 3)\n",
        "  }\n",
        "\n",
        "  return print(metric_dict)"
      ]
    },
    {
      "cell_type": "markdown",
      "metadata": {
        "id": "TdI1EBqIj6qM"
      },
      "source": [
        "<h4>⬇ <b style=\"color:orange;\">Instruksi</b>: Ubah \"<b style=\"color:yellow;\">[fix_me]</b>\" dengan code yang benar!</h4>"
      ]
    },
    {
      "cell_type": "code",
      "execution_count": 52,
      "metadata": {
        "id": "Y0-a5HclBM8z",
        "colab": {
          "base_uri": "https://localhost:8080/"
        },
        "outputId": "882c33a5-a0a0-40e6-c08a-3ee6f7a71c29"
      },
      "outputs": [
        {
          "output_type": "stream",
          "name": "stdout",
          "text": [
            "\n",
            "Gaussian NB Model:\n",
            "Accuracy: 0.883\n",
            "Classification Report:\n",
            "              precision    recall  f1-score   support\n",
            "\n",
            "           2       0.57      0.89      0.70         9\n",
            "           4       0.98      0.88      0.93        51\n",
            "\n",
            "    accuracy                           0.88        60\n",
            "   macro avg       0.77      0.89      0.81        60\n",
            "weighted avg       0.92      0.88      0.89        60\n",
            "\n"
          ]
        }
      ],
      "source": [
        "y_pred_nb = clean_classifier_nb.predict(X_test)\n",
        "\n",
        "# Evaluate the Gaussian NB model\n",
        "print(\"\\nGaussian NB Model:\")\n",
        "accuracy_nb = round(accuracy_score(y_test, y_pred_nb), 3)\n",
        "print(\"Accuracy:\", accuracy_nb)\n",
        "print(\"Classification Report:\")\n",
        "print(classification_report(y_test, y_pred_nb))"
      ]
    },
    {
      "cell_type": "markdown",
      "metadata": {
        "id": "faMaWwemj6qM"
      },
      "source": [
        "<h4>⬆ <b>Expected <span style=\"color:tomato;\">Output</span></b>:</h4>\n",
        "\n",
        "<img src=\"https://lh3.googleusercontent.com/fife/ALs6j_ETWjYt5kk1ZyCFDpuMU6l7hJD-FLFtQik96MUb_W8AW8B_CeoFfIyk7b5uafDjrjjPzzsOqHnPRPfzY073JlZ_eGtTiG8LkrCmRbePm_4gzUVLsJp_-H4ZUXuMjz_56zdaXu7BYGegQq5z5ZPAjRKE2ncHdOefF1oJFjangUlv3jDcIgCA7ks3aenMqo6r60tLZjzHW7Jg9XGulJvSjx9jVuz1zz46DoxCC1aBrYwa5O2wSDltJKZqApvhIkYaa3g6pg53Si1j5llbKwRSAwx6Xuvvwxb3T5riWDNK3m6F6PVTH9GHNS168YdwQcZDXTVc0ymJRmrh2gHuT_6ib_f8qgyId8nkwahCP4M0g0Qa5LlnZcw_jyggBnOtivBCg_tpiuaitWk4xZFtM1MpT_BwUepE6ZxOqAcurqf0aQs-AfTbCVUxX1qqrrUYQW3qPcBEBNstsfJfz9SYyZig34372lNcoTtGbJizOrnY5_78c8wauzcFfBFSmA6Sv8W72-INIYdQYMkRoRPt4dvmNLjr8L3BN6cPqnVsCNNhieBXaNSzeVK0zepVkZkfbuVnxpAuGsn--c_Z6FnYdLL6PCWYqfS_f0NNqNq38W534B5UnI4SBkNhmjzAZxcTCwbFFSYXdYjEjf2ydmy7W0JwInuseuCqsGRt7QV0JfmxW7naXt6_xtMm52g_gK90uU1PO61oNcNg68tRwXpqX2XLjcRpcimAAALz-jxfluTZZ7NJxlX_tZ05dO9em_fiZ9xhh7Z2UvZILm7Tg166vAsnaMjP55nlg38rwXBejRWI8AHX3KeFtO-5LE1HNQFgvRA2SiulRFG3iZQcEfSONVlgsRbhspsD4i3N0YZyfGob6aPxtrOcaEWiKrUxxgOWG7UnjHgSZwjZnnTisr1MoJSWSjij8RyCHAF91yy_KJNgr-OKwSYlOFCyKCYL49FsWS05wjNKsfD_SRrK38z2ReJmUq3A_VReZm375DmDO5E2WtT37Arpezyhscl3z1lhtAvvr12uVP65SFFj5FxgMc2W_8_s3dogFdJgNPFv6sJoj6rDhDOWjgjYOoNJqGBJ5xmmIvdAX306XwuKMfjo4cc3nF07V0JAkWP-ZYj6RPjvt4FtURXM6CjPSppDIdcemo4VRm0mmsCMV2a9ELw9UjNIT7OgHlyzbq6XURaOxzXzo8fslwBLWmr2yiBfqkBH388RXM07mPfPW2qv95tVNDHIhGoddTEiRqHz9Kd-dHtVHSAGBCj2IgdjLxnEfpjuoEOM7VsbUfJGvrjO5wjmYum1vx62I_iDdOVaMoS4dOHWQKJytTdNyVctvyXRpl7bMScTQMNvl9O6dSDFENKqwS0M8U5mz2CODn5XHbezIw1hsrp56tZDWFf7ppjVGoK9ycDcRKM-9qudmoJS3cWajcXo6G1kLht5c1KcJo7k8gH98OcJyCm9wgaim9OKr9_D4Jq_1eA7gOwYsTT3cLW-s72-TsRD4z5iichqrMi4HCXl_kmbnQ0Xd6hiezlkXolnthDzhfGF6Ui16rfgoyLH_4DjtV-enJ0CBTp5cxSRooHDvaPmrDS_t5cBBqPRGfDLi7OEmoH8afdX8St-zjUxSqPxLmCet-17ErTO50WH0fybfGpamQhBYut2ka06FWZGbRNUPLcBFMO5VhjKsyizyaCQxV-vrqhYhtfDeJza60GT5epa2Rn-D-_tgvpHNDhn--2qjrlZRiyP34dvf1spXyCX1paGKx8QpPl13-HGbVREPmBNfcmNm0hL4o5uJ_XhMIQRNLawD4Tb4oZMAVZDeHUTk6kqBKH8QZcCXGbaT3ot=w1920-h936\" alt=\"img_16.png\" width=\"400\">"
      ]
    },
    {
      "cell_type": "code",
      "execution_count": 53,
      "metadata": {
        "id": "FmZqGm1pj6qM",
        "colab": {
          "base_uri": "https://localhost:8080/"
        },
        "outputId": "05c9ae22-daa4-4e53-d2a5-9cdd1dab2f0c"
      },
      "outputs": [
        {
          "output_type": "stream",
          "name": "stdout",
          "text": [
            "{'accuracy': 0.883, 'recall': 0.883, 'F1 score': 0.893, 'Precision score': 0.917}\n"
          ]
        }
      ],
      "source": [
        "evaluation(y_test, y_pred_nb)"
      ]
    },
    {
      "cell_type": "code",
      "execution_count": 54,
      "metadata": {
        "id": "Ngj1bBpIj6qM",
        "colab": {
          "base_uri": "https://localhost:8080/"
        },
        "outputId": "53bc474c-ce62-483c-9427-1db50868800f"
      },
      "outputs": [
        {
          "output_type": "stream",
          "name": "stdout",
          "text": [
            "\n",
            "Decision Tree Model:\n",
            "Accuracy: 0.783\n",
            "Classification Report:\n",
            "              precision    recall  f1-score   support\n",
            "\n",
            "           2       0.39      0.78      0.52         9\n",
            "           4       0.95      0.78      0.86        51\n",
            "\n",
            "    accuracy                           0.78        60\n",
            "   macro avg       0.67      0.78      0.69        60\n",
            "weighted avg       0.87      0.78      0.81        60\n",
            "\n"
          ]
        }
      ],
      "source": [
        "y_pred_dt = clean_classifier_dt.predict(X_test)\n",
        "\n",
        "# Evaluate the Decision Tree model\n",
        "print(\"\\nDecision Tree Model:\")\n",
        "accuracy_dt = round(accuracy_score(y_test, y_pred_dt), 3)\n",
        "print(\"Accuracy:\", accuracy_dt)\n",
        "print(\"Classification Report:\")\n",
        "print(classification_report(y_test, y_pred_dt))"
      ]
    },
    {
      "cell_type": "code",
      "execution_count": 55,
      "metadata": {
        "id": "nk5vQO0zj6qM",
        "colab": {
          "base_uri": "https://localhost:8080/"
        },
        "outputId": "0fa69a66-516b-4da5-c5bb-90250ee27930"
      },
      "outputs": [
        {
          "output_type": "stream",
          "name": "stdout",
          "text": [
            "{'accuracy': 0.783, 'recall': 0.783, 'F1 score': 0.809, 'Precision score': 0.868}\n"
          ]
        }
      ],
      "source": [
        "evaluation(y_test, y_pred_dt)"
      ]
    },
    {
      "cell_type": "code",
      "execution_count": 56,
      "metadata": {
        "id": "EgPWEqeKj6qM",
        "colab": {
          "base_uri": "https://localhost:8080/"
        },
        "outputId": "6f9a181a-1e6c-4cc0-c0b3-64443f746816"
      },
      "outputs": [
        {
          "output_type": "stream",
          "name": "stdout",
          "text": [
            "\n",
            "Random Forest Model:\n",
            "Accuracy: 0.933\n",
            "Classification Report:\n",
            "              precision    recall  f1-score   support\n",
            "\n",
            "           2       0.78      0.78      0.78         9\n",
            "           4       0.96      0.96      0.96        51\n",
            "\n",
            "    accuracy                           0.93        60\n",
            "   macro avg       0.87      0.87      0.87        60\n",
            "weighted avg       0.93      0.93      0.93        60\n",
            "\n"
          ]
        }
      ],
      "source": [
        "y_pred_rf = clean_classifier_rf.predict(X_test)\n",
        "\n",
        "# Evaluate the Random Forest model\n",
        "print(\"\\nRandom Forest Model:\")\n",
        "accuracy_rf = round(accuracy_score(y_test, y_pred_rf), 3)\n",
        "print(\"Accuracy:\", accuracy_rf)\n",
        "print(\"Classification Report:\")\n",
        "print(classification_report(y_test, y_pred_rf))"
      ]
    },
    {
      "cell_type": "code",
      "execution_count": 57,
      "metadata": {
        "id": "-Cp0PbN7j6qM",
        "colab": {
          "base_uri": "https://localhost:8080/"
        },
        "outputId": "1d8efb96-dabf-455b-cc93-900c6023bcc9"
      },
      "outputs": [
        {
          "output_type": "stream",
          "name": "stdout",
          "text": [
            "{'accuracy': 0.933, 'recall': 0.933, 'F1 score': 0.933, 'Precision score': 0.933}\n"
          ]
        }
      ],
      "source": [
        "evaluation(y_test, y_pred_rf)"
      ]
    },
    {
      "cell_type": "markdown",
      "metadata": {
        "id": "UeGGzVDrj6qM"
      },
      "source": [
        "<h4>⬇ <b style=\"color:orange;\">Instruksi</b>: Isi <i style=\"color:yellow;font-weight:bold;\">code-cell</i> berikut agar menghasilkan <b style=\"color:tomato;\">output</b> yang sesuai!</h4>"
      ]
    },
    {
      "cell_type": "code",
      "execution_count": null,
      "metadata": {
        "id": "AdD14hcXBu6V"
      },
      "outputs": [],
      "source": [
        "# Tampilkan bar-chart untuk membandingkan akurasi tiap model\n"
      ]
    },
    {
      "cell_type": "markdown",
      "metadata": {
        "id": "uAh3voLUj6qN"
      },
      "source": [
        "<h4>⬆ <b>Expected <span style=\"color:tomato;\">Output</span></b>:</h4>\n",
        "\n",
        "<img src=\"https://lh3.googleusercontent.com/fife/ALs6j_HVq0pIckkOumPjOXDG1QPTWQCASz6Bz2BEEPFG9unzcWj1Uf6spSXjXZLj3e-RaxMwZJOb4247lo0JhZOqUmsoUxC_U2gUCVOR0RJ-o_tF_1QOV0SWNnWN-zQ0TjMscdO0fj1FyzDfd_NSC5V_KoTOLnm_Lmv_45LMiJbEgwZLm1NZEKTDajysfwcyHVBwXUPY6cgfWO-mdXlsznKlAcbAMI3AOCoXI_RxW2OtF-Ggdzobob4nWF3ygIldUiATqGjj3QbL-eKKGv9Nk3I4cgAlvjVHQ_KOPyPQcybe-0loAuacn3vhR0nhFL1fBcg3hvZMW5QGw34tq7Bgq21jUha_k5Or9rOE5qXz9qIoYh81xz1ASMXSVhtfrhTP_wdKmCRfvgWkqWlufD-_9NTBJiuQiOlM9V8_2rw-mgM3KbCnEJWFKwYNVLwgWjtziW_UCzQcnyArX62Ov3jNMjr1NjzLEQcEC_M1Hz3XL7y1dMD8RkDjJ6POCwAyiIgvDh5ZoqGjgfGgMFa78qLbOOe_Wd-IzwGVfAUQqARxOlBlMluZd0s-T0ZynsZ_8gLGtBbAb53zpTEumnyX3EOomREr1XkjOdQbj0n3khZe9Kh5O-_xoPhcNYb-dx5YJOzYr5QoEP3X6ywxCBCqNnkzYPJ9ROP3HoawkS0-AhQXpdO3YcGQoZfUUPs2YvsRs0McHQThcwl6D3yPBTIj16HaSetSCpRsiInCxezNdUaQTbY4WDhofKml2MYFBRVvU_2GA_rRtlaiM6RcJ5sI-h-AO1cCAFHMxKMRycQ1CqYM0K5U9FllM3-4G8CFp2QVxJOUTsI4No_u4_uvNmmngv6K4qD8tishL2HCKs5J6kuLfF4YaVIRqJNB20cMArxSzTBROO8nfPH3B1scVYDGaTBXkiWf_XXezCq2aHLlXBVKGaG_fsAZEKz0_ytLAE49gylLIERhv_q86zwJLfreulouE52xG2TkLlL5RFkno_-tTRew_dZsZeWfeudna332-wIhHEs43TeVI1c447kGTMO_H2kgw7P3zfxTsQRDmjh_GQymva4ftLF61WWTEYBxJWVBZ_USvHsxP7TnsIM0X0kv9oHElQ73DcqY_y_ji0Wn3mPy3oC0wr-zG9sbfHSQXaVH0Q02M-17yPfLXCPpWMswuG5enR0Zw0B3jxauJgWvBzGvgMwMWzP6EzecSG2R2MsgcVQKCf8sN9TEq3znx17UTzP5svW2pR_vjajuRvW6HExZgH3JwoDiUlxPQJWaCyyF0ai-3-8NG8Cz0d-cpytjfMvdDUS6mjO7aSWy6WZmFEMEgFCdVVvtXTU4VgPImPl512DyCHKc7DdxXQ2lKVjqB2fH0twBCXwhN1GknuikOGj3g3LrnEtSaacYx2udJuQ_PiaYuLNwz-nRQw3LT3I_0huLEQbgmQ1XJvard8yH876SpVkiB9wu5CzHH9TPmFytVFsH3uUPm4xkH66GDCjQVSI9VIlQNOXgtXX7vdKYf_rUpLB35fMnuMkmhCNu7RECXp1YufZPXIpf6NIdWIjR1gVDwW9FFHVUaXM_JAMKF_lzuvx1dUpDKGRKs6VysHp9X6kf3rWUcSsWCax9s2KClVaJYu9GLznqKhzfqSScc-AcHddifbXVy5j3CKcTiTJaiTXgarxHB5f2WpmELTQHqEg3ZZ2mVuFiLh_MhTKSObhxF3qlh5QvhD0rhAgJ2BYZN5iFBGfvmMEIZsqSVPdKPyXiyPcZ_VhlYIOGLbmqf1PI5oVcOpZHwOaX8YaZu-m2DGSgiWk075rEe887lkje2XLOUrgOILRADSozhkEPvyA1=w1920-h936\" alt=\"img_18.png\" width=\"600\">"
      ]
    },
    {
      "cell_type": "markdown",
      "metadata": {
        "id": "LJHRgiKCiEBK"
      },
      "source": [
        "## <b>10) Optimasi Model Klasifikasi</b> <a class=\"anchor\" id=\"h10\"></a>"
      ]
    },
    {
      "cell_type": "code",
      "execution_count": null,
      "metadata": {
        "id": "sZ59Z3cwj6qN"
      },
      "outputs": [],
      "source": []
    }
  ],
  "metadata": {
    "colab": {
      "provenance": []
    },
    "kernelspec": {
      "display_name": "Python 3",
      "name": "python3"
    },
    "language_info": {
      "codemirror_mode": {
        "name": "ipython",
        "version": 3
      },
      "file_extension": ".py",
      "mimetype": "text/x-python",
      "name": "python",
      "nbconvert_exporter": "python",
      "pygments_lexer": "ipython3",
      "version": "3.10.12"
    }
  },
  "nbformat": 4,
  "nbformat_minor": 0
}